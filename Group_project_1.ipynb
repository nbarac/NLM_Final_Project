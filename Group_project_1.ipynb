{
 "cells": [
  {
   "cell_type": "markdown",
   "id": "733210a4",
   "metadata": {},
   "source": [
    "# HW 1"
   ]
  },
  {
   "cell_type": "markdown",
   "id": "80859bda",
   "metadata": {},
   "source": [
    "Problem: \n",
    "\n",
    "The fraud data refers to information collected and analyzed to identify fraudulent activities, such as illegal financial transactions, embezzlement, identity theft, and other forms of deception. Our team will work on this data and will analyze the information to uncover patterns and anomalies that may indicate fraudulent behavior, and then develop strategies to prevent and mitigate these types of incidents. The problem that we team will be working on is to develop an effective method of detecting fraud and protecting against financial losses, while also ensuring that legitimate transactions are not impeded. This will involve machine learning algorithms, and other tools to identify high-risk activities, and then implementing appropriate measures to prevent fraud from occurring.\n",
    "\n",
    "\n",
    "Source: https://www.kaggle.com/datasets/jainilcoder/online-payment-fraud-detection\n",
    "\n",
    "Data Description\n",
    "\n",
    "This is a dataset containing information about online payment fraud, so that we can understand what type of transactions lead to fraud.We collected a dataset from Kaggle, which contains historical information about fraudulent transactions which can be used to detect fraud in online payments. Below are all the columns from the dataset we’re using here:\n",
    "\n",
    "\n",
    "\n",
    "step: represents a unit of time where 1 step equals 1 hour\n",
    "\n",
    "type: type of online transaction\n",
    "\n",
    "amount: the amount of the transaction\n",
    "\n",
    "nameOrig: customer starting the transaction\n",
    "\n",
    "oldbalanceOrg: balance before the transaction\n",
    "\n",
    "newbalanceOrig: balance after the transaction\n",
    "\n",
    "nameDest: recipient of the transaction\n",
    "\n",
    "oldbalanceDest: initial balance of recipient before the transaction\n",
    "\n",
    "newbalanceDest: the new balance of recipient after the transaction\n",
    "\n",
    "isFraud: fraud transaction\n"
   ]
  },
  {
   "cell_type": "markdown",
   "id": "8a76c89c",
   "metadata": {},
   "source": [
    "# Teacher Note"
   ]
  },
  {
   "cell_type": "markdown",
   "id": "8195d936",
   "metadata": {},
   "source": [
    "your feature set seemed a little insufficient to me to do a business strategy. However, its not a big problem, the goal is the robust implementation of feature engineering, selection and model fit. Make sure you utilize imbalance dataset problems (u can check what other people use for this from the literature review). If you had some text data we could even apply a graph analysis for fraud. Please do a literature review for that as well"
   ]
  },
  {
   "cell_type": "markdown",
   "id": "63579216",
   "metadata": {},
   "source": [
    "# HW 2"
   ]
  },
  {
   "cell_type": "markdown",
   "id": "17e8ae77",
   "metadata": {},
   "source": [
    "The team will pick 3 journal papers from (preferably) the top-ranked business journals, such as SMJ, Management Science, MISQ ISR, Marketing Science, and Academy of Management Journal (AMJ), about the selected topic and will discuss/compare the empirical validation methods used in these papers for hypothesis testing.\n",
    "\n",
    "For example, if your team picks a topic about predicting market volatility and uses the Kaggle dataset to analyze this use case, they can review/compare the implementation on this paper that adopts a quantile regression approach on a similar use case. Google Scholar should be a great source to access these articles.\n",
    "\n",
    "Another example could be as follows: Assume you picked a topic to analyze Employee Churn Prediction in a company. You can search for articles about churn prediction and analyze how different models were adopted to validate the empirical results and hypotheses proposed in those papers.\n",
    "\n",
    "The goal of this stage is to explore the usage of the techniques learned in class for an academic article publication.\n",
    "\n",
    "Please review the Final Project information and Final Project Guidelines before completing this assignment.\n",
    "\n",
    "Submission: 3 pages of analysis (1 paper per page). Each page should include the problem covered in the paper, proposed models for solutions, and compare the implementation with your own project topic (similarities, relevance, adaptability of proposed model to your project)."
   ]
  },
  {
   "cell_type": "markdown",
   "id": "5f242ee7",
   "metadata": {},
   "source": [
    "# HW 3"
   ]
  },
  {
   "cell_type": "code",
   "execution_count": 1,
   "id": "1000ed4f",
   "metadata": {},
   "outputs": [],
   "source": [
    "import numpy as np\n",
    "import matplotlib.pyplot as plt\n",
    "import pandas as pd\n",
    "import seaborn as sns\n",
    "import warnings\n",
    "warnings.filterwarnings(\"ignore\")"
   ]
  },
  {
   "cell_type": "code",
   "execution_count": 2,
   "id": "45f9bf5e",
   "metadata": {},
   "outputs": [],
   "source": [
    "df = pd.read_csv('onlinefraud.csv')"
   ]
  },
  {
   "cell_type": "markdown",
   "id": "324b60d4",
   "metadata": {},
   "source": [
    "# 1. Getting familiar with the data"
   ]
  },
  {
   "cell_type": "code",
   "execution_count": 3,
   "id": "8eb12955",
   "metadata": {},
   "outputs": [
    {
     "data": {
      "text/html": [
       "<div>\n",
       "<style scoped>\n",
       "    .dataframe tbody tr th:only-of-type {\n",
       "        vertical-align: middle;\n",
       "    }\n",
       "\n",
       "    .dataframe tbody tr th {\n",
       "        vertical-align: top;\n",
       "    }\n",
       "\n",
       "    .dataframe thead th {\n",
       "        text-align: right;\n",
       "    }\n",
       "</style>\n",
       "<table border=\"1\" class=\"dataframe\">\n",
       "  <thead>\n",
       "    <tr style=\"text-align: right;\">\n",
       "      <th></th>\n",
       "      <th>step</th>\n",
       "      <th>type</th>\n",
       "      <th>amount</th>\n",
       "      <th>nameOrig</th>\n",
       "      <th>oldbalanceOrg</th>\n",
       "      <th>newbalanceOrig</th>\n",
       "      <th>nameDest</th>\n",
       "      <th>oldbalanceDest</th>\n",
       "      <th>newbalanceDest</th>\n",
       "      <th>isFraud</th>\n",
       "      <th>isFlaggedFraud</th>\n",
       "    </tr>\n",
       "  </thead>\n",
       "  <tbody>\n",
       "    <tr>\n",
       "      <th>0</th>\n",
       "      <td>1</td>\n",
       "      <td>PAYMENT</td>\n",
       "      <td>9839.64</td>\n",
       "      <td>C1231006815</td>\n",
       "      <td>170136.0</td>\n",
       "      <td>160296.36</td>\n",
       "      <td>M1979787155</td>\n",
       "      <td>0.0</td>\n",
       "      <td>0.0</td>\n",
       "      <td>0</td>\n",
       "      <td>0</td>\n",
       "    </tr>\n",
       "    <tr>\n",
       "      <th>1</th>\n",
       "      <td>1</td>\n",
       "      <td>PAYMENT</td>\n",
       "      <td>1864.28</td>\n",
       "      <td>C1666544295</td>\n",
       "      <td>21249.0</td>\n",
       "      <td>19384.72</td>\n",
       "      <td>M2044282225</td>\n",
       "      <td>0.0</td>\n",
       "      <td>0.0</td>\n",
       "      <td>0</td>\n",
       "      <td>0</td>\n",
       "    </tr>\n",
       "    <tr>\n",
       "      <th>2</th>\n",
       "      <td>1</td>\n",
       "      <td>TRANSFER</td>\n",
       "      <td>181.00</td>\n",
       "      <td>C1305486145</td>\n",
       "      <td>181.0</td>\n",
       "      <td>0.00</td>\n",
       "      <td>C553264065</td>\n",
       "      <td>0.0</td>\n",
       "      <td>0.0</td>\n",
       "      <td>1</td>\n",
       "      <td>0</td>\n",
       "    </tr>\n",
       "    <tr>\n",
       "      <th>3</th>\n",
       "      <td>1</td>\n",
       "      <td>CASH_OUT</td>\n",
       "      <td>181.00</td>\n",
       "      <td>C840083671</td>\n",
       "      <td>181.0</td>\n",
       "      <td>0.00</td>\n",
       "      <td>C38997010</td>\n",
       "      <td>21182.0</td>\n",
       "      <td>0.0</td>\n",
       "      <td>1</td>\n",
       "      <td>0</td>\n",
       "    </tr>\n",
       "    <tr>\n",
       "      <th>4</th>\n",
       "      <td>1</td>\n",
       "      <td>PAYMENT</td>\n",
       "      <td>11668.14</td>\n",
       "      <td>C2048537720</td>\n",
       "      <td>41554.0</td>\n",
       "      <td>29885.86</td>\n",
       "      <td>M1230701703</td>\n",
       "      <td>0.0</td>\n",
       "      <td>0.0</td>\n",
       "      <td>0</td>\n",
       "      <td>0</td>\n",
       "    </tr>\n",
       "  </tbody>\n",
       "</table>\n",
       "</div>"
      ],
      "text/plain": [
       "   step      type    amount     nameOrig  oldbalanceOrg  newbalanceOrig  \\\n",
       "0     1   PAYMENT   9839.64  C1231006815       170136.0       160296.36   \n",
       "1     1   PAYMENT   1864.28  C1666544295        21249.0        19384.72   \n",
       "2     1  TRANSFER    181.00  C1305486145          181.0            0.00   \n",
       "3     1  CASH_OUT    181.00   C840083671          181.0            0.00   \n",
       "4     1   PAYMENT  11668.14  C2048537720        41554.0        29885.86   \n",
       "\n",
       "      nameDest  oldbalanceDest  newbalanceDest  isFraud  isFlaggedFraud  \n",
       "0  M1979787155             0.0             0.0        0               0  \n",
       "1  M2044282225             0.0             0.0        0               0  \n",
       "2   C553264065             0.0             0.0        1               0  \n",
       "3    C38997010         21182.0             0.0        1               0  \n",
       "4  M1230701703             0.0             0.0        0               0  "
      ]
     },
     "execution_count": 3,
     "metadata": {},
     "output_type": "execute_result"
    }
   ],
   "source": [
    "df.head()"
   ]
  },
  {
   "cell_type": "code",
   "execution_count": 4,
   "id": "c6862572",
   "metadata": {},
   "outputs": [
    {
     "data": {
      "text/html": [
       "<div>\n",
       "<style scoped>\n",
       "    .dataframe tbody tr th:only-of-type {\n",
       "        vertical-align: middle;\n",
       "    }\n",
       "\n",
       "    .dataframe tbody tr th {\n",
       "        vertical-align: top;\n",
       "    }\n",
       "\n",
       "    .dataframe thead th {\n",
       "        text-align: right;\n",
       "    }\n",
       "</style>\n",
       "<table border=\"1\" class=\"dataframe\">\n",
       "  <thead>\n",
       "    <tr style=\"text-align: right;\">\n",
       "      <th></th>\n",
       "      <th>step</th>\n",
       "      <th>amount</th>\n",
       "      <th>oldbalanceOrg</th>\n",
       "      <th>newbalanceOrig</th>\n",
       "      <th>oldbalanceDest</th>\n",
       "      <th>newbalanceDest</th>\n",
       "      <th>isFraud</th>\n",
       "      <th>isFlaggedFraud</th>\n",
       "    </tr>\n",
       "  </thead>\n",
       "  <tbody>\n",
       "    <tr>\n",
       "      <th>count</th>\n",
       "      <td>6.362620e+06</td>\n",
       "      <td>6.362620e+06</td>\n",
       "      <td>6.362620e+06</td>\n",
       "      <td>6.362620e+06</td>\n",
       "      <td>6.362620e+06</td>\n",
       "      <td>6.362620e+06</td>\n",
       "      <td>6.362620e+06</td>\n",
       "      <td>6.362620e+06</td>\n",
       "    </tr>\n",
       "    <tr>\n",
       "      <th>mean</th>\n",
       "      <td>2.433972e+02</td>\n",
       "      <td>1.798619e+05</td>\n",
       "      <td>8.338831e+05</td>\n",
       "      <td>8.551137e+05</td>\n",
       "      <td>1.100702e+06</td>\n",
       "      <td>1.224996e+06</td>\n",
       "      <td>1.290820e-03</td>\n",
       "      <td>2.514687e-06</td>\n",
       "    </tr>\n",
       "    <tr>\n",
       "      <th>std</th>\n",
       "      <td>1.423320e+02</td>\n",
       "      <td>6.038582e+05</td>\n",
       "      <td>2.888243e+06</td>\n",
       "      <td>2.924049e+06</td>\n",
       "      <td>3.399180e+06</td>\n",
       "      <td>3.674129e+06</td>\n",
       "      <td>3.590480e-02</td>\n",
       "      <td>1.585775e-03</td>\n",
       "    </tr>\n",
       "    <tr>\n",
       "      <th>min</th>\n",
       "      <td>1.000000e+00</td>\n",
       "      <td>0.000000e+00</td>\n",
       "      <td>0.000000e+00</td>\n",
       "      <td>0.000000e+00</td>\n",
       "      <td>0.000000e+00</td>\n",
       "      <td>0.000000e+00</td>\n",
       "      <td>0.000000e+00</td>\n",
       "      <td>0.000000e+00</td>\n",
       "    </tr>\n",
       "    <tr>\n",
       "      <th>25%</th>\n",
       "      <td>1.560000e+02</td>\n",
       "      <td>1.338957e+04</td>\n",
       "      <td>0.000000e+00</td>\n",
       "      <td>0.000000e+00</td>\n",
       "      <td>0.000000e+00</td>\n",
       "      <td>0.000000e+00</td>\n",
       "      <td>0.000000e+00</td>\n",
       "      <td>0.000000e+00</td>\n",
       "    </tr>\n",
       "    <tr>\n",
       "      <th>50%</th>\n",
       "      <td>2.390000e+02</td>\n",
       "      <td>7.487194e+04</td>\n",
       "      <td>1.420800e+04</td>\n",
       "      <td>0.000000e+00</td>\n",
       "      <td>1.327057e+05</td>\n",
       "      <td>2.146614e+05</td>\n",
       "      <td>0.000000e+00</td>\n",
       "      <td>0.000000e+00</td>\n",
       "    </tr>\n",
       "    <tr>\n",
       "      <th>75%</th>\n",
       "      <td>3.350000e+02</td>\n",
       "      <td>2.087215e+05</td>\n",
       "      <td>1.073152e+05</td>\n",
       "      <td>1.442584e+05</td>\n",
       "      <td>9.430367e+05</td>\n",
       "      <td>1.111909e+06</td>\n",
       "      <td>0.000000e+00</td>\n",
       "      <td>0.000000e+00</td>\n",
       "    </tr>\n",
       "    <tr>\n",
       "      <th>max</th>\n",
       "      <td>7.430000e+02</td>\n",
       "      <td>9.244552e+07</td>\n",
       "      <td>5.958504e+07</td>\n",
       "      <td>4.958504e+07</td>\n",
       "      <td>3.560159e+08</td>\n",
       "      <td>3.561793e+08</td>\n",
       "      <td>1.000000e+00</td>\n",
       "      <td>1.000000e+00</td>\n",
       "    </tr>\n",
       "  </tbody>\n",
       "</table>\n",
       "</div>"
      ],
      "text/plain": [
       "               step        amount  oldbalanceOrg  newbalanceOrig  \\\n",
       "count  6.362620e+06  6.362620e+06   6.362620e+06    6.362620e+06   \n",
       "mean   2.433972e+02  1.798619e+05   8.338831e+05    8.551137e+05   \n",
       "std    1.423320e+02  6.038582e+05   2.888243e+06    2.924049e+06   \n",
       "min    1.000000e+00  0.000000e+00   0.000000e+00    0.000000e+00   \n",
       "25%    1.560000e+02  1.338957e+04   0.000000e+00    0.000000e+00   \n",
       "50%    2.390000e+02  7.487194e+04   1.420800e+04    0.000000e+00   \n",
       "75%    3.350000e+02  2.087215e+05   1.073152e+05    1.442584e+05   \n",
       "max    7.430000e+02  9.244552e+07   5.958504e+07    4.958504e+07   \n",
       "\n",
       "       oldbalanceDest  newbalanceDest       isFraud  isFlaggedFraud  \n",
       "count    6.362620e+06    6.362620e+06  6.362620e+06    6.362620e+06  \n",
       "mean     1.100702e+06    1.224996e+06  1.290820e-03    2.514687e-06  \n",
       "std      3.399180e+06    3.674129e+06  3.590480e-02    1.585775e-03  \n",
       "min      0.000000e+00    0.000000e+00  0.000000e+00    0.000000e+00  \n",
       "25%      0.000000e+00    0.000000e+00  0.000000e+00    0.000000e+00  \n",
       "50%      1.327057e+05    2.146614e+05  0.000000e+00    0.000000e+00  \n",
       "75%      9.430367e+05    1.111909e+06  0.000000e+00    0.000000e+00  \n",
       "max      3.560159e+08    3.561793e+08  1.000000e+00    1.000000e+00  "
      ]
     },
     "execution_count": 4,
     "metadata": {},
     "output_type": "execute_result"
    }
   ],
   "source": [
    "df.describe()"
   ]
  },
  {
   "cell_type": "code",
   "execution_count": 5,
   "id": "09a5449b",
   "metadata": {},
   "outputs": [
    {
     "name": "stdout",
     "output_type": "stream",
     "text": [
      "<class 'pandas.core.frame.DataFrame'>\n",
      "RangeIndex: 6362620 entries, 0 to 6362619\n",
      "Data columns (total 11 columns):\n",
      " #   Column          Dtype  \n",
      "---  ------          -----  \n",
      " 0   step            int64  \n",
      " 1   type            object \n",
      " 2   amount          float64\n",
      " 3   nameOrig        object \n",
      " 4   oldbalanceOrg   float64\n",
      " 5   newbalanceOrig  float64\n",
      " 6   nameDest        object \n",
      " 7   oldbalanceDest  float64\n",
      " 8   newbalanceDest  float64\n",
      " 9   isFraud         int64  \n",
      " 10  isFlaggedFraud  int64  \n",
      "dtypes: float64(5), int64(3), object(3)\n",
      "memory usage: 534.0+ MB\n"
     ]
    }
   ],
   "source": [
    "df.info()"
   ]
  },
  {
   "cell_type": "code",
   "execution_count": 6,
   "id": "0bf36708",
   "metadata": {},
   "outputs": [
    {
     "data": {
      "text/plain": [
       "<AxesSubplot:>"
      ]
     },
     "execution_count": 6,
     "metadata": {},
     "output_type": "execute_result"
    },
    {
     "data": {
      "image/png": "[encoded data removed]",
      "text/plain": [
       "<Figure size 576x432 with 2 Axes>"
      ]
     },
     "metadata": {
      "needs_background": "light"
     },
     "output_type": "display_data"
    }
   ],
   "source": [
    "plt.figure(figsize=(8,6))\n",
    "sns.heatmap(df.isnull())"
   ]
  },
  {
   "cell_type": "code",
   "execution_count": 7,
   "id": "9984ea0f",
   "metadata": {},
   "outputs": [
    {
     "data": {
      "text/plain": [
       "(6362620, 11)"
      ]
     },
     "execution_count": 7,
     "metadata": {},
     "output_type": "execute_result"
    }
   ],
   "source": [
    "df.shape"
   ]
  },
  {
   "cell_type": "markdown",
   "id": "b3841345",
   "metadata": {},
   "source": [
    "# 2. Exploratory Data Analysis (EDA)"
   ]
  },
  {
   "cell_type": "markdown",
   "id": "98ee58ad",
   "metadata": {},
   "source": [
    "Univariate Analysis"
   ]
  },
  {
   "cell_type": "code",
   "execution_count": 8,
   "id": "03c816e6",
   "metadata": {},
   "outputs": [
    {
     "data": {
      "image/png": "[encoded data removed]",
      "text/plain": [
       "<Figure size 432x288 with 1 Axes>"
      ]
     },
     "metadata": {
      "needs_background": "light"
     },
     "output_type": "display_data"
    }
   ],
   "source": [
    "# Plot a box plot for the \"amount\" column\n",
    "plt.boxplot(df['oldbalanceOrg'])\n",
    "plt.show()"
   ]
  },
  {
   "cell_type": "code",
   "execution_count": 9,
   "id": "a3d22915",
   "metadata": {},
   "outputs": [
    {
     "data": {
      "image/png": "[encoded data removed]",
      "text/plain": [
       "<Figure size 432x288 with 1 Axes>"
      ]
     },
     "metadata": {
      "needs_background": "light"
     },
     "output_type": "display_data"
    }
   ],
   "source": [
    "# Plot a histogram for the \"amount\" column\n",
    "df['oldbalanceOrg'].hist(bins=50)\n",
    "plt.show()"
   ]
  },
  {
   "cell_type": "code",
   "execution_count": 10,
   "id": "856e7fec",
   "metadata": {},
   "outputs": [
    {
     "name": "stdout",
     "output_type": "stream",
     "text": [
      "CASH_OUT    2237500\n",
      "PAYMENT     2151495\n",
      "CASH_IN     1399284\n",
      "TRANSFER     532909\n",
      "DEBIT         41432\n",
      "Name: type, dtype: int64\n"
     ]
    },
    {
     "data": {
      "image/png": "[encoded data removed]",
      "text/plain": [
       "<Figure size 432x288 with 1 Axes>"
      ]
     },
     "metadata": {
      "needs_background": "light"
     },
     "output_type": "display_data"
    }
   ],
   "source": [
    "# Frequency distribution of \"type\" column\n",
    "print(df['type'].value_counts())\n",
    "\n",
    "# Bar plot of \"type\" column\n",
    "df['type'].value_counts().plot.bar()\n",
    "plt.show()"
   ]
  },
  {
   "cell_type": "code",
   "execution_count": 11,
   "id": "d400329f",
   "metadata": {},
   "outputs": [
    {
     "name": "stdout",
     "output_type": "stream",
     "text": [
      "0    6354407\n",
      "1       8213\n",
      "Name: isFraud, dtype: int64\n"
     ]
    },
    {
     "data": {
      "image/png": "[encoded data removed]",
      "text/plain": [
       "<Figure size 432x288 with 1 Axes>"
      ]
     },
     "metadata": {
      "needs_background": "light"
     },
     "output_type": "display_data"
    }
   ],
   "source": [
    "# Frequency distribution of \"isFraud\" column\n",
    "print(df['isFraud'].value_counts())\n",
    "\n",
    "# Bar plot of \"isFraud\" column\n",
    "df['isFraud'].value_counts().plot.bar()\n",
    "plt.show()"
   ]
  },
  {
   "cell_type": "code",
   "execution_count": 12,
   "id": "0188a106",
   "metadata": {},
   "outputs": [
    {
     "data": {
      "text/plain": [
       "Text(0, 0.5, 'Count')"
      ]
     },
     "execution_count": 12,
     "metadata": {},
     "output_type": "execute_result"
    },
    {
     "data": {
      "image/png": "[encoded data removed]",
      "text/plain": [
       "<Figure size 432x432 with 1 Axes>"
      ]
     },
     "metadata": {
      "needs_background": "light"
     },
     "output_type": "display_data"
    }
   ],
   "source": [
    "plt.figure(figsize=(6,6))\n",
    "sns.countplot(df['isFraud'])\n",
    "plt.xlabel('isFraud')\n",
    "plt.ylabel('Count')"
   ]
  },
  {
   "cell_type": "code",
   "execution_count": 13,
   "id": "c2945492",
   "metadata": {},
   "outputs": [
    {
     "data": {
      "text/plain": [
       "Text(0, 0.5, 'Count')"
      ]
     },
     "execution_count": 13,
     "metadata": {},
     "output_type": "execute_result"
    },
    {
     "data": {
      "image/png": "[encoded data removed]",
      "text/plain": [
       "<Figure size 432x432 with 1 Axes>"
      ]
     },
     "metadata": {
      "needs_background": "light"
     },
     "output_type": "display_data"
    }
   ],
   "source": [
    "plt.figure(figsize=(6,6))\n",
    "df_default = df[df['isFraud']==1]\n",
    "sns.countplot(df_default['type'])\n",
    "plt.xlabel('type')\n",
    "plt.ylabel('Count')"
   ]
  },
  {
   "cell_type": "code",
   "execution_count": 14,
   "id": "ed8fa0a9",
   "metadata": {},
   "outputs": [
    {
     "data": {
      "text/plain": [
       "Text(0, 0.5, 'Count')"
      ]
     },
     "execution_count": 14,
     "metadata": {},
     "output_type": "execute_result"
    },
    {
     "data": {
      "image/png": "[encoded data removed]",
      "text/plain": [
       "<Figure size 432x432 with 1 Axes>"
      ]
     },
     "metadata": {
      "needs_background": "light"
     },
     "output_type": "display_data"
    }
   ],
   "source": [
    "plt.figure(figsize=(6,6))\n",
    "df_default = df[df['isFraud']==0]\n",
    "sns.countplot(df_default['type'])\n",
    "plt.xlabel('type')\n",
    "plt.ylabel('Count')"
   ]
  },
  {
   "cell_type": "code",
   "execution_count": 15,
   "id": "0d1bec77",
   "metadata": {},
   "outputs": [
    {
     "data": {
      "text/plain": [
       "type\n",
       "CASH_IN     1399284\n",
       "CASH_OUT    2237500\n",
       "DEBIT         41432\n",
       "PAYMENT     2151495\n",
       "TRANSFER     532909\n",
       "Name: step, dtype: int64"
      ]
     },
     "execution_count": 15,
     "metadata": {},
     "output_type": "execute_result"
    }
   ],
   "source": [
    "df.groupby('type')['step'].count()"
   ]
  },
  {
   "cell_type": "code",
   "execution_count": 16,
   "id": "94ec8b71",
   "metadata": {},
   "outputs": [
    {
     "data": {
      "text/plain": [
       "Text(0, 0.5, 'Count')"
      ]
     },
     "execution_count": 16,
     "metadata": {},
     "output_type": "execute_result"
    },
    {
     "data": {
      "image/png": "[encoded data removed]",
      "text/plain": [
       "<Figure size 720x432 with 1 Axes>"
      ]
     },
     "metadata": {
      "needs_background": "light"
     },
     "output_type": "display_data"
    }
   ],
   "source": [
    "plt.figure(figsize=(10,6))\n",
    "sns.histplot(data = df, x = \"step\", kde = True, hue = \"isFraud\")\n",
    "plt.xlabel('step')\n",
    "plt.ylabel('Count')"
   ]
  },
  {
   "cell_type": "code",
   "execution_count": 17,
   "id": "d56fc2eb",
   "metadata": {},
   "outputs": [
    {
     "data": {
      "text/plain": [
       "Text(0, 0.5, 'Count')"
      ]
     },
     "execution_count": 17,
     "metadata": {},
     "output_type": "execute_result"
    },
    {
     "data": {
      "image/png": "[encoded data removed]",
      "text/plain": [
       "<Figure size 720x432 with 1 Axes>"
      ]
     },
     "metadata": {
      "needs_background": "light"
     },
     "output_type": "display_data"
    }
   ],
   "source": [
    "plt.figure(figsize=(10,6))\n",
    "sns.histplot(data = df, x = \"type\", kde = True, hue = \"isFraud\")\n",
    "plt.xlabel('type')\n",
    "plt.ylabel('Count')"
   ]
  },
  {
   "cell_type": "code",
   "execution_count": 18,
   "id": "cee16d8d",
   "metadata": {},
   "outputs": [
    {
     "data": {
      "image/png": "[encoded data removed]",
      "text/plain": [
       "<Figure size 1080x720 with 9 Axes>"
      ]
     },
     "metadata": {
      "needs_background": "light"
     },
     "output_type": "display_data"
    }
   ],
   "source": [
    "fig = plt.figure(figsize = (15, 10));\n",
    "ax = fig.gca();\n",
    "df.hist(ax = ax, color = 'maroon')\n",
    "pass"
   ]
  },
  {
   "cell_type": "code",
   "execution_count": 19,
   "id": "9b51e1ff",
   "metadata": {},
   "outputs": [
    {
     "data": {
      "text/html": [
       "<div>\n",
       "<style scoped>\n",
       "    .dataframe tbody tr th:only-of-type {\n",
       "        vertical-align: middle;\n",
       "    }\n",
       "\n",
       "    .dataframe tbody tr th {\n",
       "        vertical-align: top;\n",
       "    }\n",
       "\n",
       "    .dataframe thead th {\n",
       "        text-align: right;\n",
       "    }\n",
       "</style>\n",
       "<table border=\"1\" class=\"dataframe\">\n",
       "  <thead>\n",
       "    <tr style=\"text-align: right;\">\n",
       "      <th></th>\n",
       "      <th>step</th>\n",
       "      <th>amount</th>\n",
       "      <th>oldbalanceOrg</th>\n",
       "      <th>newbalanceOrig</th>\n",
       "      <th>oldbalanceDest</th>\n",
       "      <th>newbalanceDest</th>\n",
       "      <th>isFraud</th>\n",
       "      <th>isFlaggedFraud</th>\n",
       "    </tr>\n",
       "  </thead>\n",
       "  <tbody>\n",
       "    <tr>\n",
       "      <th>step</th>\n",
       "      <td>1.000000</td>\n",
       "      <td>0.022373</td>\n",
       "      <td>-0.010058</td>\n",
       "      <td>-0.010299</td>\n",
       "      <td>0.027665</td>\n",
       "      <td>0.025888</td>\n",
       "      <td>0.031578</td>\n",
       "      <td>0.003277</td>\n",
       "    </tr>\n",
       "    <tr>\n",
       "      <th>amount</th>\n",
       "      <td>0.022373</td>\n",
       "      <td>1.000000</td>\n",
       "      <td>-0.002762</td>\n",
       "      <td>-0.007861</td>\n",
       "      <td>0.294137</td>\n",
       "      <td>0.459304</td>\n",
       "      <td>0.076688</td>\n",
       "      <td>0.012295</td>\n",
       "    </tr>\n",
       "    <tr>\n",
       "      <th>oldbalanceOrg</th>\n",
       "      <td>-0.010058</td>\n",
       "      <td>-0.002762</td>\n",
       "      <td>1.000000</td>\n",
       "      <td>0.998803</td>\n",
       "      <td>0.066243</td>\n",
       "      <td>0.042029</td>\n",
       "      <td>0.010154</td>\n",
       "      <td>0.003835</td>\n",
       "    </tr>\n",
       "    <tr>\n",
       "      <th>newbalanceOrig</th>\n",
       "      <td>-0.010299</td>\n",
       "      <td>-0.007861</td>\n",
       "      <td>0.998803</td>\n",
       "      <td>1.000000</td>\n",
       "      <td>0.067812</td>\n",
       "      <td>0.041837</td>\n",
       "      <td>-0.008148</td>\n",
       "      <td>0.003776</td>\n",
       "    </tr>\n",
       "    <tr>\n",
       "      <th>oldbalanceDest</th>\n",
       "      <td>0.027665</td>\n",
       "      <td>0.294137</td>\n",
       "      <td>0.066243</td>\n",
       "      <td>0.067812</td>\n",
       "      <td>1.000000</td>\n",
       "      <td>0.976569</td>\n",
       "      <td>-0.005885</td>\n",
       "      <td>-0.000513</td>\n",
       "    </tr>\n",
       "    <tr>\n",
       "      <th>newbalanceDest</th>\n",
       "      <td>0.025888</td>\n",
       "      <td>0.459304</td>\n",
       "      <td>0.042029</td>\n",
       "      <td>0.041837</td>\n",
       "      <td>0.976569</td>\n",
       "      <td>1.000000</td>\n",
       "      <td>0.000535</td>\n",
       "      <td>-0.000529</td>\n",
       "    </tr>\n",
       "    <tr>\n",
       "      <th>isFraud</th>\n",
       "      <td>0.031578</td>\n",
       "      <td>0.076688</td>\n",
       "      <td>0.010154</td>\n",
       "      <td>-0.008148</td>\n",
       "      <td>-0.005885</td>\n",
       "      <td>0.000535</td>\n",
       "      <td>1.000000</td>\n",
       "      <td>0.044109</td>\n",
       "    </tr>\n",
       "    <tr>\n",
       "      <th>isFlaggedFraud</th>\n",
       "      <td>0.003277</td>\n",
       "      <td>0.012295</td>\n",
       "      <td>0.003835</td>\n",
       "      <td>0.003776</td>\n",
       "      <td>-0.000513</td>\n",
       "      <td>-0.000529</td>\n",
       "      <td>0.044109</td>\n",
       "      <td>1.000000</td>\n",
       "    </tr>\n",
       "  </tbody>\n",
       "</table>\n",
       "</div>"
      ],
      "text/plain": [
       "                    step    amount  oldbalanceOrg  newbalanceOrig  \\\n",
       "step            1.000000  0.022373      -0.010058       -0.010299   \n",
       "amount          0.022373  1.000000      -0.002762       -0.007861   \n",
       "oldbalanceOrg  -0.010058 -0.002762       1.000000        0.998803   \n",
       "newbalanceOrig -0.010299 -0.007861       0.998803        1.000000   \n",
       "oldbalanceDest  0.027665  0.294137       0.066243        0.067812   \n",
       "newbalanceDest  0.025888  0.459304       0.042029        0.041837   \n",
       "isFraud         0.031578  0.076688       0.010154       -0.008148   \n",
       "isFlaggedFraud  0.003277  0.012295       0.003835        0.003776   \n",
       "\n",
       "                oldbalanceDest  newbalanceDest   isFraud  isFlaggedFraud  \n",
       "step                  0.027665        0.025888  0.031578        0.003277  \n",
       "amount                0.294137        0.459304  0.076688        0.012295  \n",
       "oldbalanceOrg         0.066243        0.042029  0.010154        0.003835  \n",
       "newbalanceOrig        0.067812        0.041837 -0.008148        0.003776  \n",
       "oldbalanceDest        1.000000        0.976569 -0.005885       -0.000513  \n",
       "newbalanceDest        0.976569        1.000000  0.000535       -0.000529  \n",
       "isFraud              -0.005885        0.000535  1.000000        0.044109  \n",
       "isFlaggedFraud       -0.000513       -0.000529  0.044109        1.000000  "
      ]
     },
     "execution_count": 19,
     "metadata": {},
     "output_type": "execute_result"
    }
   ],
   "source": [
    "df.corr()"
   ]
  },
  {
   "cell_type": "code",
   "execution_count": 20,
   "id": "27437dac",
   "metadata": {},
   "outputs": [
    {
     "data": {
      "text/plain": [
       "isFlaggedFraud    1.000000\n",
       "isFraud           0.044109\n",
       "amount            0.012295\n",
       "oldbalanceOrg     0.003835\n",
       "newbalanceOrig    0.003776\n",
       "step              0.003277\n",
       "newbalanceDest    0.000529\n",
       "oldbalanceDest    0.000513\n",
       "Name: isFlaggedFraud, dtype: float64"
      ]
     },
     "execution_count": 20,
     "metadata": {},
     "output_type": "execute_result"
    }
   ],
   "source": [
    "abs(df.corr().iloc[:,7]).sort_values(ascending=False)"
   ]
  },
  {
   "cell_type": "markdown",
   "id": "f75f5c25",
   "metadata": {},
   "source": [
    "Bivariate Analysis"
   ]
  },
  {
   "cell_type": "code",
   "execution_count": 21,
   "id": "4b828dd0",
   "metadata": {},
   "outputs": [
    {
     "name": "stdout",
     "output_type": "stream",
     "text": [
      "Chi-square statistic: 22082.53571319108\n",
      "P-value: 0.0\n"
     ]
    }
   ],
   "source": [
    "# Create a contingency table of \"isFraud\" and \"type\"\n",
    "contingency_table = pd.crosstab(df['isFraud'], df['type'])\n",
    "\n",
    "# Perform a chi-square test\n",
    "from scipy.stats import chi2_contingency\n",
    "stat, p, dof, expected = chi2_contingency(contingency_table)\n",
    "print(\"Chi-square statistic:\", stat)\n",
    "print(\"P-value:\", p)"
   ]
  },
  {
   "cell_type": "code",
   "execution_count": 22,
   "id": "ba8a435d",
   "metadata": {},
   "outputs": [
    {
     "data": {
      "image/png": "[encoded data removed]",
      "text/plain": [
       "<Figure size 432x288 with 1 Axes>"
      ]
     },
     "metadata": {
      "needs_background": "light"
     },
     "output_type": "display_data"
    },
    {
     "data": {
      "image/png": "[encoded data removed]",
      "text/plain": [
       "<Figure size 432x288 with 1 Axes>"
      ]
     },
     "metadata": {
      "needs_background": "light"
     },
     "output_type": "display_data"
    }
   ],
   "source": [
    "# Box plot of \"amount\" for \"isFraud\" categories\n",
    "df.boxplot(column='amount', by='isFraud')\n",
    "plt.show()\n",
    "\n",
    "# Violin plot of \"amount\" for \"isFraud\" categories\n",
    "import seaborn as sns\n",
    "sns.violinplot(x='isFraud', y='amount', data=df)\n",
    "plt.show()"
   ]
  },
  {
   "cell_type": "code",
   "execution_count": 23,
   "id": "fe526420",
   "metadata": {},
   "outputs": [
    {
     "data": {
      "image/png": "[encoded data removed]",
      "text/plain": [
       "<Figure size 432x288 with 1 Axes>"
      ]
     },
     "metadata": {
      "needs_background": "light"
     },
     "output_type": "display_data"
    },
    {
     "name": "stdout",
     "output_type": "stream",
     "text": [
      "Correlation coefficient: 0.9988027631715821\n",
      "P-value: 0.0\n"
     ]
    }
   ],
   "source": [
    "# Scatter plot of \"oldbalanceOrg\" vs \"newbalanceOrig\"\n",
    "plt.scatter(df['oldbalanceOrg'], df['newbalanceOrig'])\n",
    "plt.xlabel('oldbalanceOrg')\n",
    "plt.ylabel('newbalanceOrig')\n",
    "plt.show()\n",
    "\n",
    "# Calculate the correlation coefficient\n",
    "from scipy.stats import pearsonr\n",
    "corr, p_value = pearsonr(df['oldbalanceOrg'], df['newbalanceOrig'])\n",
    "print(\"Correlation coefficient:\", corr)\n",
    "print(\"P-value:\", p_value)"
   ]
  },
  {
   "cell_type": "markdown",
   "id": "e534b87c",
   "metadata": {},
   "source": [
    "Multivariate Analysis"
   ]
  },
  {
   "cell_type": "code",
   "execution_count": 24,
   "id": "eccfa054",
   "metadata": {},
   "outputs": [
    {
     "data": {
      "image/png": "[encoded data removed]",
      "text/plain": [
       "<Figure size 360x360 with 6 Axes>"
      ]
     },
     "metadata": {
      "needs_background": "light"
     },
     "output_type": "display_data"
    },
    {
     "data": {
      "image/png": "[encoded data removed]",
      "text/plain": [
       "<Figure size 432x288 with 2 Axes>"
      ]
     },
     "metadata": {
      "needs_background": "light"
     },
     "output_type": "display_data"
    }
   ],
   "source": [
    "# Scatter plot matrix of \"isFraud\", \"type\", and \"amount\"\n",
    "sns.pairplot(df[['isFraud', 'type', 'amount']])\n",
    "plt.show()\n",
    "\n",
    "# Heatmap of correlation between \"isFraud\", \"type\", and \"amount\"\n",
    "corr_matrix = df[['isFraud', 'type', 'amount']].corr()\n",
    "sns.heatmap(corr_matrix, annot=True, cmap='coolwarm')\n",
    "plt.show()"
   ]
  },
  {
   "cell_type": "code",
   "execution_count": 25,
   "id": "aa10ccc9",
   "metadata": {},
   "outputs": [
    {
     "data": {
      "image/png": "[encoded data removed]",
      "text/plain": [
       "<Figure size 432x288 with 1 Axes>"
      ]
     },
     "metadata": {
      "needs_background": "light"
     },
     "output_type": "display_data"
    },
    {
     "data": {
      "image/png": "[encoded data removed]",
      "text/plain": [
       "<Figure size 540x540 with 12 Axes>"
      ]
     },
     "metadata": {
      "needs_background": "light"
     },
     "output_type": "display_data"
    }
   ],
   "source": [
    "# 3D scatter plot of \"oldbalanceOrg\", \"newbalanceOrig\", and \"isFraud\"\n",
    "from mpl_toolkits.mplot3d import Axes3D\n",
    "fig = plt.figure()\n",
    "ax = fig.add_subplot(111, projection='3d')\n",
    "ax.scatter(df['oldbalanceOrg'], df['newbalanceOrig'], df['isFraud'])\n",
    "ax.set_xlabel('oldbalanceOrg')\n",
    "ax.set_ylabel('newbalanceOrig')\n",
    "ax.set_zlabel('isFraud')\n",
    "plt.show()\n",
    "\n",
    "# Scatter plot matrix of \"oldbalanceOrg\", \"newbalanceOrig\", and \"isFraud\"\n",
    "sns.pairplot(df[['oldbalanceOrg', 'newbalanceOrig', 'isFraud']])\n",
    "plt.show()"
   ]
  },
  {
   "cell_type": "markdown",
   "id": "8ddc9f8f",
   "metadata": {},
   "source": [
    "Outlier Detection"
   ]
  },
  {
   "cell_type": "code",
   "execution_count": 26,
   "id": "e34d133b",
   "metadata": {},
   "outputs": [
    {
     "data": {
      "image/png": "[encoded data removed]",
      "text/plain": [
       "<Figure size 432x288 with 1 Axes>"
      ]
     },
     "metadata": {
      "needs_background": "light"
     },
     "output_type": "display_data"
    },
    {
     "data": {
      "image/png": "[encoded data removed]",
      "text/plain": [
       "<Figure size 432x288 with 1 Axes>"
      ]
     },
     "metadata": {
      "needs_background": "light"
     },
     "output_type": "display_data"
    },
    {
     "data": {
      "image/png": "[encoded data removed]",
      "text/plain": [
       "<Figure size 432x288 with 1 Axes>"
      ]
     },
     "metadata": {
      "needs_background": "light"
     },
     "output_type": "display_data"
    },
    {
     "data": {
      "image/png": "[encoded data removed]",
      "text/plain": [
       "<Figure size 432x288 with 1 Axes>"
      ]
     },
     "metadata": {
      "needs_background": "light"
     },
     "output_type": "display_data"
    },
    {
     "data": {
      "image/png": "[encoded data removed]",
      "text/plain": [
       "<Figure size 432x288 with 1 Axes>"
      ]
     },
     "metadata": {
      "needs_background": "light"
     },
     "output_type": "display_data"
    }
   ],
   "source": [
    "# Box plot of \"amount\"\n",
    "sns.boxplot(x=df['amount'])\n",
    "plt.show()\n",
    "\n",
    "# Box plot of \"oldbalanceOrg\"\n",
    "sns.boxplot(x=df['oldbalanceOrg'])\n",
    "plt.show()\n",
    "\n",
    "# Box plot of \"newbalanceOrig\"\n",
    "sns.boxplot(x=df['newbalanceOrig'])\n",
    "plt.show()\n",
    "\n",
    "# Box plot of \"oldbalanceDest\"\n",
    "sns.boxplot(x=df['oldbalanceDest'])\n",
    "plt.show()\n",
    "\n",
    "# Box plot of \"newbalanceDest\"\n",
    "sns.boxplot(x=df['newbalanceDest'])\n",
    "plt.show()"
   ]
  },
  {
   "cell_type": "markdown",
   "id": "266403e8",
   "metadata": {},
   "source": [
    "A z-score greater than 3 or less than -3 is considered an outlier."
   ]
  },
  {
   "cell_type": "code",
   "execution_count": 27,
   "id": "f1d83a35",
   "metadata": {},
   "outputs": [
    {
     "name": "stdout",
     "output_type": "stream",
     "text": [
      "         step      type      amount     nameOrig  oldbalanceOrg  \\\n",
      "359         1  TRANSFER  2421578.09   C106297322           0.00   \n",
      "375         1  TRANSFER  2545478.01  C1057507014           0.00   \n",
      "376         1  TRANSFER  2061082.82  C2007599722           0.00   \n",
      "1153        1  TRANSFER  3776389.09   C197491520           0.00   \n",
      "1202        1  TRANSFER  2258388.15    C12139181           0.00   \n",
      "...       ...       ...         ...          ...            ...   \n",
      "6362584   741  TRANSFER  5674547.89   C992223106     5674547.89   \n",
      "6362598   742  TRANSFER  4009058.39  C1044665079     4009058.39   \n",
      "6362599   742  CASH_OUT  4009058.39  C1970706589     4009058.39   \n",
      "6362616   743  TRANSFER  6311409.28  C1529008245     6311409.28   \n",
      "6362617   743  CASH_OUT  6311409.28  C1162922333     6311409.28   \n",
      "\n",
      "         newbalanceOrig     nameDest  oldbalanceDest  newbalanceDest  isFraud  \\\n",
      "359                0.00  C1590550415      8515645.77     19169204.93        0   \n",
      "375                0.00  C1590550415     12394437.40     19169204.93        0   \n",
      "376                0.00  C1590550415     14939915.42     19169204.93        0   \n",
      "1153               0.00  C1883840933     10138670.86     16874643.09        0   \n",
      "1202               0.00  C1789550256      2784129.27      4619798.56        0   \n",
      "...                 ...          ...             ...             ...      ...   \n",
      "6362584      5674547.89  C1366804249            0.00            0.00        1   \n",
      "6362598            0.00   C750074708            0.00            0.00        1   \n",
      "6362599            0.00   C637394241      1229761.96      5238820.34        1   \n",
      "6362616            0.00  C1881841831            0.00            0.00        1   \n",
      "6362617            0.00  C1365125890        68488.84      6379898.11        1   \n",
      "\n",
      "         isFlaggedFraud  amount_zscore  \n",
      "359                   0       3.712322  \n",
      "375                   0       3.917503  \n",
      "376                   0       3.115336  \n",
      "1153                  0       5.955914  \n",
      "1202                  0       3.442077  \n",
      "...                 ...            ...  \n",
      "6362584               1       9.099299  \n",
      "6362598               0       6.341218  \n",
      "6362599               0       6.341218  \n",
      "6362616               0      10.153953  \n",
      "6362617               0      10.153953  \n",
      "\n",
      "[44945 rows x 12 columns]\n"
     ]
    }
   ],
   "source": [
    "# Calculate the z-score for \"amount\"\n",
    "from scipy.stats import zscore\n",
    "df['amount_zscore'] = zscore(df['amount'])\n",
    "outliers = df[(df['amount_zscore'] > 3) | (df['amount_zscore'] < -3)]\n",
    "print(outliers)"
   ]
  },
  {
   "cell_type": "markdown",
   "id": "40e71098",
   "metadata": {},
   "source": [
    "Data points that are more than 1.5 times the IQR below the first quartile or above the third quartile are considered outliers"
   ]
  },
  {
   "cell_type": "code",
   "execution_count": 28,
   "id": "ca13fb1c",
   "metadata": {},
   "outputs": [
    {
     "name": "stdout",
     "output_type": "stream",
     "text": [
      "         step      type      amount     nameOrig  oldbalanceOrg  \\\n",
      "14          1   PAYMENT     4098.78  C1026483832      503264.00   \n",
      "37          1   PAYMENT     2791.42   C923341586      300481.00   \n",
      "38          1   PAYMENT     7413.54  C1470868839      297689.58   \n",
      "62          1     DEBIT     8727.74   C166694583      882770.00   \n",
      "63          1   PAYMENT     2599.46   C885910946      874042.26   \n",
      "...       ...       ...         ...          ...            ...   \n",
      "6362615   743  CASH_OUT   339682.13   C786484425      339682.13   \n",
      "6362616   743  TRANSFER  6311409.28  C1529008245     6311409.28   \n",
      "6362617   743  CASH_OUT  6311409.28  C1162922333     6311409.28   \n",
      "6362618   743  TRANSFER   850002.52  C1685995037      850002.52   \n",
      "6362619   743  CASH_OUT   850002.52  C1280323807      850002.52   \n",
      "\n",
      "         newbalanceOrig     nameDest  oldbalanceDest  newbalanceDest  isFraud  \\\n",
      "14            499165.22  M1635378213            0.00            0.00        0   \n",
      "37            297689.58   M107994825            0.00            0.00        0   \n",
      "38            290276.03  M1426725223            0.00            0.00        0   \n",
      "62            874042.26  C1129670968        12636.00            0.00        0   \n",
      "63            871442.79  M1860591867            0.00            0.00        0   \n",
      "...                 ...          ...             ...             ...      ...   \n",
      "6362615            0.00   C776919290            0.00       339682.13        1   \n",
      "6362616            0.00  C1881841831            0.00            0.00        1   \n",
      "6362617            0.00  C1365125890        68488.84      6379898.11        1   \n",
      "6362618            0.00  C2080388513            0.00            0.00        1   \n",
      "6362619            0.00   C873221189      6510099.11      7360101.63        1   \n",
      "\n",
      "         isFlaggedFraud  amount_zscore  \n",
      "14                    0      -0.291067  \n",
      "37                    0      -0.293232  \n",
      "38                    0      -0.285578  \n",
      "62                    0      -0.283401  \n",
      "63                    0      -0.293550  \n",
      "...                 ...            ...  \n",
      "6362615               0       0.264665  \n",
      "6362616               0      10.153953  \n",
      "6362617               0      10.153953  \n",
      "6362618               0       1.109765  \n",
      "6362619               0       1.109765  \n",
      "\n",
      "[1112507 rows x 12 columns]\n"
     ]
    }
   ],
   "source": [
    "# Calculate the IQR for \"oldbalanceOrg\"\n",
    "Q1 = df['oldbalanceOrg'].quantile(0.25)\n",
    "Q3 = df['oldbalanceOrg'].quantile(0.75)\n",
    "IQR = Q3 - Q1\n",
    "\n",
    "# Identify the outliers\n",
    "outliers = df[(df['oldbalanceOrg'] < (Q1 - 1.5 * IQR)) | (df['oldbalanceOrg'] > (Q3 + 1.5 * IQR))]\n",
    "print(outliers)"
   ]
  },
  {
   "cell_type": "markdown",
   "id": "8e6ceaa2",
   "metadata": {},
   "source": [
    "Feature Engineering"
   ]
  },
  {
   "cell_type": "code",
   "execution_count": 29,
   "id": "8f6ae7f5",
   "metadata": {},
   "outputs": [],
   "source": [
    "df['amount_diff'] = df['oldbalanceOrg'] - df['newbalanceOrig']"
   ]
  },
  {
   "cell_type": "code",
   "execution_count": 30,
   "id": "0cb653a6",
   "metadata": {},
   "outputs": [],
   "source": [
    "df['hour'] = pd.to_datetime(df['step'], unit='h').dt.hour"
   ]
  },
  {
   "cell_type": "code",
   "execution_count": 31,
   "id": "8de34a43",
   "metadata": {},
   "outputs": [],
   "source": [
    "def account_type(name):\n",
    "    if name.startswith('C'):\n",
    "        return 'customer'\n",
    "    elif name.startswith('M'):\n",
    "        return 'merchant'\n",
    "    else:\n",
    "        return 'unknown'\n",
    "\n",
    "df['account_type'] = df['nameOrig'].apply(account_type)"
   ]
  },
  {
   "cell_type": "code",
   "execution_count": null,
   "id": "58870a99",
   "metadata": {},
   "outputs": [],
   "source": [
    "freq = df.groupby('nameOrig')['step'].diff().fillna(0)\n",
    "df['transaction_freq'] = freq.apply(lambda x: 1 if x == 0 else 1/x)"
   ]
  },
  {
   "cell_type": "code",
   "execution_count": null,
   "id": "3cb939e9",
   "metadata": {},
   "outputs": [],
   "source": [
    "df['transaction_volume'] = df.groupby('nameOrig')['amount'].cumsum()"
   ]
  },
  {
   "cell_type": "code",
   "execution_count": null,
   "id": "52060bc5",
   "metadata": {},
   "outputs": [],
   "source": [
    "df.head()"
   ]
  },
  {
   "cell_type": "markdown",
   "id": "5c77f148",
   "metadata": {},
   "source": [
    "More EDA with the Feature Engineering data points"
   ]
  },
  {
   "cell_type": "code",
   "execution_count": null,
   "id": "a6b443cd",
   "metadata": {},
   "outputs": [],
   "source": [
    "sns.boxplot(x='isFraud', y='amount_diff', data=df)\n",
    "plt.title('Transaction Amount Difference vs. Fraudulent Transactions')"
   ]
  },
  {
   "cell_type": "code",
   "execution_count": null,
   "id": "8c7fffa6",
   "metadata": {},
   "outputs": [],
   "source": [
    "sns.countplot(x='account_type', hue='isFraud', data=df)\n",
    "plt.title('Account Type vs. Fraudulent Transactions')"
   ]
  },
  {
   "cell_type": "code",
   "execution_count": null,
   "id": "aa32b1ef",
   "metadata": {},
   "outputs": [],
   "source": [
    "sns.scatterplot(x='transaction_freq', y='isFraud', data=df)\n",
    "plt.title('Transaction Frequency vs. Fraudulent Transactions')"
   ]
  },
  {
   "cell_type": "markdown",
   "id": "89cfb993",
   "metadata": {},
   "source": [
    "# 3. Splitting features and target variable"
   ]
  },
  {
   "cell_type": "code",
   "execution_count": null,
   "id": "d5029994",
   "metadata": {},
   "outputs": [],
   "source": [
    "df.columns"
   ]
  },
  {
   "cell_type": "code",
   "execution_count": null,
   "id": "65ed06fe",
   "metadata": {},
   "outputs": [],
   "source": [
    "X = df.drop(columns=['isFraud'])"
   ]
  },
  {
   "cell_type": "code",
   "execution_count": null,
   "id": "6ce9d331",
   "metadata": {},
   "outputs": [],
   "source": [
    "y = df['isFraud']"
   ]
  },
  {
   "cell_type": "markdown",
   "id": "77eb4aba",
   "metadata": {},
   "source": [
    "# 4. Get dummies"
   ]
  },
  {
   "cell_type": "code",
   "execution_count": null,
   "id": "9b20026e",
   "metadata": {},
   "outputs": [],
   "source": [
    "X = pd.get_dummies(X, columns=['type', 'account_type',], drop_first=True)"
   ]
  },
  {
   "cell_type": "code",
   "execution_count": null,
   "id": "459ae24b",
   "metadata": {},
   "outputs": [],
   "source": [
    "X['nameOrig'] = X['nameOrig'].str[1:]\n",
    "X['nameDest'] = X['nameDest'].str[1:]"
   ]
  },
  {
   "cell_type": "code",
   "execution_count": null,
   "id": "819a8539",
   "metadata": {},
   "outputs": [],
   "source": [
    "X.head()"
   ]
  },
  {
   "cell_type": "markdown",
   "id": "016148ff",
   "metadata": {},
   "source": [
    "# 5. Split into train test set"
   ]
  },
  {
   "cell_type": "code",
   "execution_count": null,
   "id": "2a3d1695",
   "metadata": {},
   "outputs": [],
   "source": [
    "from sklearn.model_selection import train_test_split"
   ]
  },
  {
   "cell_type": "code",
   "execution_count": null,
   "id": "37276152",
   "metadata": {},
   "outputs": [],
   "source": [
    "from imblearn.over_sampling import SMOTE\n",
    "sm=SMOTE(random_state=42)\n",
    "x_res, y_res=sm.fit_resample(X,y)"
   ]
  },
  {
   "cell_type": "code",
   "execution_count": null,
   "id": "3e3c9685",
   "metadata": {},
   "outputs": [],
   "source": [
    "y_res.head()"
   ]
  },
  {
   "cell_type": "code",
   "execution_count": null,
   "id": "9304b1bf",
   "metadata": {},
   "outputs": [],
   "source": [
    "# Create a figure with two subplots\n",
    "fig, axs = plt.subplots(ncols=2, figsize=(10, 5))\n",
    "\n",
    "# Plot the distribution of the original data\n",
    "sns.countplot(x=y, ax=axs[0])\n",
    "axs[0].set_title('Distribution of target variable (before SMOTE)')\n",
    "\n",
    "# Plot the distribution of the resampled data\n",
    "sns.countplot(x=y_res, ax=axs[1])\n",
    "axs[1].set_title('Distribution of target variable (after SMOTE)')\n",
    "\n",
    "# Show the plot\n",
    "plt.tight_layout()\n",
    "plt.show()"
   ]
  },
  {
   "cell_type": "code",
   "execution_count": null,
   "id": "959e2d5d",
   "metadata": {},
   "outputs": [],
   "source": [
    "#split balanced datasets\n",
    "xb_train,xb_test,yb_train,yb_test=train_test_split(x_res,y_res,test_size=0.2,random_state=42)"
   ]
  },
  {
   "cell_type": "markdown",
   "id": "f9d36d35",
   "metadata": {},
   "source": [
    "# 6. Feature Standardization"
   ]
  },
  {
   "cell_type": "code",
   "execution_count": null,
   "id": "027e7c4b",
   "metadata": {},
   "outputs": [],
   "source": [
    "from sklearn.preprocessing import StandardScaler"
   ]
  },
  {
   "cell_type": "code",
   "execution_count": null,
   "id": "51ad9c0e",
   "metadata": {},
   "outputs": [],
   "source": [
    "#scale balanced data\n",
    "scaler_b=StandardScaler()\n",
    "scaler_b.fit(xb_train)\n",
    "xb_train_scaled=scaler_b.transform(xb_train)\n",
    "xb_test_scaled=scaler_b.transform(xb_test)"
   ]
  },
  {
   "cell_type": "markdown",
   "id": "aec4b917",
   "metadata": {},
   "source": [
    "# 7. Modeling"
   ]
  },
  {
   "cell_type": "code",
   "execution_count": null,
   "id": "66c8f346",
   "metadata": {},
   "outputs": [],
   "source": [
    "from sklearn.linear_model import LogisticRegression\n",
    "from sklearn.neighbors import KNeighborsClassifier\n",
    "from sklearn.metrics import accuracy_score\n",
    "from sklearn.metrics import confusion_matrix\n",
    "from sklearn.metrics import classification_report\n",
    "from sklearn.metrics import log_loss\n",
    "from sklearn.ensemble import RandomForestClassifier\n",
    "from sklearn.metrics import roc_auc_score\n",
    "from sklearn import svm"
   ]
  },
  {
   "cell_type": "markdown",
   "id": "851d38dd",
   "metadata": {},
   "source": [
    "Logistic Regression"
   ]
  },
  {
   "cell_type": "code",
   "execution_count": null,
   "id": "f221b4d3",
   "metadata": {},
   "outputs": [],
   "source": [
    "lr_b = LogisticRegression(random_state=42)\n",
    "lr_b.fit(xb_train_scaled, yb_train)\n",
    "y_pred_lr_b = lr_b.predict(xb_test_scaled)"
   ]
  },
  {
   "cell_type": "code",
   "execution_count": null,
   "id": "9436ea7b",
   "metadata": {},
   "outputs": [],
   "source": [
    "print(\"\\nConfusion Matrix for Logistic Regression Model with balanced dataset:\\n\\n\", confusion_matrix(yb_test, y_pred_lr_b))\n",
    "print(\"\\nClassification Report for Logistic Regression Model with balanced dataset:\\n\\n\", classification_report(yb_test, y_pred_lr_b))"
   ]
  },
  {
   "cell_type": "markdown",
   "id": "450eecb2",
   "metadata": {},
   "source": [
    "Random Forest"
   ]
  },
  {
   "cell_type": "code",
   "execution_count": null,
   "id": "b0ccd555",
   "metadata": {},
   "outputs": [],
   "source": [
    "rf_b = RandomForestClassifier(random_state=42, max_depth=10)\n",
    "rf_b.fit(xb_train, yb_train)\n",
    "y_pred_rf_b=rf_b.predict(xb_test)"
   ]
  },
  {
   "cell_type": "code",
   "execution_count": null,
   "id": "8c61d566",
   "metadata": {},
   "outputs": [],
   "source": [
    "print(\"\\nConfusion Matrix for Random Forest Model with balanced dataset:\\n\\n\", confusion_matrix(yb_test, y_pred_rf_b))\n",
    "print(\"\\nClassification Report for Random Forest Model with balanced dataset:\\n\\n\", classification_report(yb_test, y_pred_rf_b))"
   ]
  },
  {
   "cell_type": "code",
   "execution_count": null,
   "id": "67f3ffd2",
   "metadata": {},
   "outputs": [],
   "source": [
    "features = X.columns\n",
    "importances_b = rf_b.feature_importances_\n",
    "indices = np.argsort(importances_b)\n",
    "\n",
    "plt.title('Feature Importances')\n",
    "plt.barh(range(len(indices)), importances_b[indices], color='b', align='center')\n",
    "plt.yticks(range(len(indices)), [features[i] for i in indices])\n",
    "plt.xlabel('Relative Importance')\n",
    "plt.show()"
   ]
  },
  {
   "cell_type": "markdown",
   "id": "e8409c3a",
   "metadata": {},
   "source": [
    "K Nearest Neighbors"
   ]
  },
  {
   "cell_type": "code",
   "execution_count": null,
   "id": "f89df3fd",
   "metadata": {},
   "outputs": [],
   "source": [
    "knn_b=KNeighborsClassifier(3)\n",
    "knn_b.fit(xb_train,yb_train)"
   ]
  },
  {
   "cell_type": "code",
   "execution_count": null,
   "id": "6d9ef29c",
   "metadata": {},
   "outputs": [],
   "source": [
    "knn_b_hat=knn_b.predict(xb_test)"
   ]
  },
  {
   "cell_type": "code",
   "execution_count": null,
   "id": "94d4315e",
   "metadata": {},
   "outputs": [],
   "source": [
    "print(\"\\nConfusion Matrix for KNN Model with balanced dataset:\\n\\n\", confusion_matrix(yb_test.values,knn_b_hat))\n",
    "print(\"\\nClassification Report for KNN Model with balanced dataset:\\n\\n\",classification_report(yb_test.values,knn_b_hat))"
   ]
  },
  {
   "cell_type": "markdown",
   "id": "5a832f40",
   "metadata": {},
   "source": [
    "SVM"
   ]
  },
  {
   "cell_type": "code",
   "execution_count": null,
   "id": "bbf60188",
   "metadata": {},
   "outputs": [],
   "source": [
    "clf_b=svm.SVC(kernel='rbf',C=10,gamma=0.01)"
   ]
  },
  {
   "cell_type": "code",
   "execution_count": null,
   "id": "94cb4ee8",
   "metadata": {},
   "outputs": [],
   "source": [
    "clf_b.fit(xb_train,yb_train)"
   ]
  },
  {
   "cell_type": "code",
   "execution_count": null,
   "id": "51baf163",
   "metadata": {},
   "outputs": [],
   "source": [
    "svm_b=clf_b.predict(X_test)"
   ]
  },
  {
   "cell_type": "code",
   "execution_count": null,
   "id": "f3724185",
   "metadata": {},
   "outputs": [],
   "source": [
    "print(\"\\nConfusion Matrix for SVM Model with balanced dataset:\\n\\n\",confusion_matrix(y_test.values,svm_b))\n",
    "print(\"\\nClassification Report for SVM Model with balanced dataset:\\n\\n\",classification_report(y_test.values,svm_b))"
   ]
  },
  {
   "cell_type": "markdown",
   "id": "51f255e3",
   "metadata": {},
   "source": [
    "# 6. Cross Validation"
   ]
  },
  {
   "cell_type": "code",
   "execution_count": null,
   "id": "b8b14aea",
   "metadata": {},
   "outputs": [],
   "source": [
    "from sklearn.model_selection import cross_val_score"
   ]
  },
  {
   "cell_type": "code",
   "execution_count": null,
   "id": "d00881d8",
   "metadata": {},
   "outputs": [],
   "source": [
    "accuracy_lr=cross_val_score(lr,X_train,y_train,scoring='accuracy',cv=10)\n",
    "score_lr=accuracy_score(y_test,y_pred_lr)\n",
    "dif_lr=(accuracy_lr.mean()-score_lr)/score_lr"
   ]
  },
  {
   "cell_type": "code",
   "execution_count": null,
   "id": "6c720563",
   "metadata": {},
   "outputs": [],
   "source": [
    "print(\"The logistic regression model's mean accuracy score after cross validation on training dataset is {}\".format(accuracy_lr.mean()))\n",
    "print(\"The evaluation accuracy score for logistic model is {}\".format(score_lr))\n",
    "print(\"The percentage difference between cross validation and evaluation is {}, meaning our model is not overfitting or underfitting\".format(dif_lr))"
   ]
  },
  {
   "cell_type": "code",
   "execution_count": null,
   "id": "555a0e3d",
   "metadata": {},
   "outputs": [],
   "source": [
    "accuracy_rf=cross_val_score(rf,X_train,y_train,scoring='accuracy',cv=10)\n",
    "score_rf=accuracy_score(y_test,y_pred_rf)\n",
    "dif_rf=(accuracy_rf.mean()-score_rf)/score_rf"
   ]
  },
  {
   "cell_type": "code",
   "execution_count": null,
   "id": "a7752e36",
   "metadata": {},
   "outputs": [],
   "source": [
    "print(\"The random forest model's mean accuracy score after cross validation on training dataset is {}\".format(accuracy_rf.mean()))\n",
    "print(\"The evaluation accuracy score for random forest is {}\".format(score_rf))\n",
    "print(\"The percentage difference between cross validation and evaluation is {}, meaning our model is not overfitting or underfitting\".format(dif_rf))"
   ]
  },
  {
   "cell_type": "code",
   "execution_count": null,
   "id": "eca88266",
   "metadata": {},
   "outputs": [],
   "source": [
    "accuracy_knn=cross_val_score(knn,X_train,y_train,scoring='accuracy',cv=10)\n",
    "score_knn=accuracy_score(y_test,knn_b_hat)\n",
    "dif_knn=(accuracy_knn.mean()-score_knn)/score_knn"
   ]
  },
  {
   "cell_type": "code",
   "execution_count": null,
   "id": "84806252",
   "metadata": {},
   "outputs": [],
   "source": [
    "print(\"The knn model's mean accuracy score after cross validation on training dataset is {}\".format(accuracy_knn.mean()))\n",
    "print(\"The evaluation accuracy score for knn is {}\".format(score_knn))\n",
    "print(\"The percentage difference between cross validation and evaluation is {}, meaning our model is not overfitting or underfitting\".format(dif_knn))"
   ]
  },
  {
   "cell_type": "code",
   "execution_count": null,
   "id": "868ee260",
   "metadata": {},
   "outputs": [],
   "source": [
    "accuracy_svm=cross_val_score(clf,X_train,y_train,scoring='accuracy',cv=10)\n",
    "score_svm=accuracy_score(y_test,svm_b)\n",
    "dif_svm=(accuracy_svm.mean()-score_svm)/score_svm"
   ]
  },
  {
   "cell_type": "code",
   "execution_count": null,
   "id": "b7d31f9f",
   "metadata": {},
   "outputs": [],
   "source": [
    "print(\"The svm model's mean accuracy score after cross validation on training dataset is {}\".format(accuracy_svm.mean()))\n",
    "print(\"The evaluation accuracy score for svm is {}\".format(score_svm))\n",
    "print(\"The percentage difference between cross validation and evaluation is {}, meaning our model is not overfitting or underfitting\".format(dif_svm))"
   ]
  },
  {
   "cell_type": "code",
   "execution_count": null,
   "id": "94b6e96f",
   "metadata": {},
   "outputs": [],
   "source": [
    "print(\"Accuracy of logistic regression with Cross Validation is:\",accuracy_lr.mean() * 100)\n",
    "print(\"Accuracy of random forest with Cross Validation is:\",accuracy_rf.mean() * 100)\n",
    "print(\"Accuracy of knn with Cross Validation is:\",accuracy_knn.mean() * 100)\n",
    "print(\"Accuracy of svm with Cross Validation is:\",accuracy_svm.mean() * 100)"
   ]
  },
  {
   "cell_type": "markdown",
   "id": "52a7d3d9",
   "metadata": {},
   "source": [
    "# 7. Selection the Best model and Explain it using success metrics"
   ]
  },
  {
   "cell_type": "markdown",
   "id": "397e7216",
   "metadata": {},
   "source": [
    "ROC AUC( i.e Area Under Curve). The metric refers to the probability that a classifier will rank a randomly chosed positive instance higher than a randomly chosen negative one. If ROC AUC is more closer to 1, then the model is better performed."
   ]
  },
  {
   "cell_type": "markdown",
   "id": "bccbadc6",
   "metadata": {},
   "source": [
    "AUC LR"
   ]
  },
  {
   "cell_type": "code",
   "execution_count": null,
   "id": "4f8ec66e",
   "metadata": {},
   "outputs": [],
   "source": [
    "AUC_b_lr=roc_auc_score(y_test.values, y_pred_lr_b)\n",
    "print(\"The auc for balanced dataset on Logistic Regression is {}\".format(AUC_b_lr))"
   ]
  },
  {
   "cell_type": "markdown",
   "id": "2493ecfc",
   "metadata": {},
   "source": [
    "AUC KNN"
   ]
  },
  {
   "cell_type": "code",
   "execution_count": null,
   "id": "ddc9d84c",
   "metadata": {},
   "outputs": [],
   "source": [
    "AUC_b_knn=roc_auc_score(y_test.values,knn_b_hat)\n",
    "AUC_b_knn"
   ]
  },
  {
   "cell_type": "markdown",
   "id": "83c95df9",
   "metadata": {},
   "source": [
    "AUC SVM"
   ]
  },
  {
   "cell_type": "code",
   "execution_count": null,
   "id": "029d3996",
   "metadata": {},
   "outputs": [],
   "source": [
    "AUC_b_svm=roc_auc_score(y_test.values,svm_b)\n",
    "AUC_b_svm"
   ]
  },
  {
   "cell_type": "markdown",
   "id": "a9a81e28",
   "metadata": {},
   "source": [
    "AUC RF"
   ]
  },
  {
   "cell_type": "code",
   "execution_count": null,
   "id": "90d4fa82",
   "metadata": {},
   "outputs": [],
   "source": [
    "AUC_b_rf=roc_auc_score(y_test.values, y_pred_rf_b)\n",
    "print(\"The auc for balanced dataset on Random Forest is {}\".format(AUC_b_lr))"
   ]
  },
  {
   "cell_type": "markdown",
   "id": "83056cd8",
   "metadata": {},
   "source": [
    "Log Loss function. It measures how well a function of the predicted probability and the actual label. The log loss is a logarithmic function that penalizes false positives and false negatives. Ideally, smaller the log loss value is, more perfect the model is"
   ]
  },
  {
   "cell_type": "markdown",
   "id": "6e802ba1",
   "metadata": {},
   "source": [
    "LL LR"
   ]
  },
  {
   "cell_type": "code",
   "execution_count": null,
   "id": "d08ac2d0",
   "metadata": {},
   "outputs": [],
   "source": [
    "ll_b_lr=log_loss(y_test.values, y_pred_lr_b)\n",
    "print(\"The log_loss for balanced dataset on Logistic Regression is {}\".format(ll_b_lr))"
   ]
  },
  {
   "cell_type": "markdown",
   "id": "24dfd2af",
   "metadata": {},
   "source": [
    "LL KNN"
   ]
  },
  {
   "cell_type": "code",
   "execution_count": null,
   "id": "4e05e5e4",
   "metadata": {},
   "outputs": [],
   "source": [
    "ll_b_knn=log_loss(y_test.values,knn_b_hat)\n",
    "ll_b_knn"
   ]
  },
  {
   "cell_type": "markdown",
   "id": "0007d729",
   "metadata": {},
   "source": [
    "LL RF"
   ]
  },
  {
   "cell_type": "code",
   "execution_count": null,
   "id": "d1042cd0",
   "metadata": {},
   "outputs": [],
   "source": [
    "ll_b_rf=log_loss(y_test.values, y_pred_rf_b)\n",
    "print(\"The log_loss for balanced dataset on Logistic Regression is {}\".format(ll_b_rf))"
   ]
  },
  {
   "cell_type": "markdown",
   "id": "e137ddc4",
   "metadata": {},
   "source": [
    "LL SVM"
   ]
  },
  {
   "cell_type": "code",
   "execution_count": null,
   "id": "615b20e5",
   "metadata": {},
   "outputs": [],
   "source": [
    "ll_b_svm=log_loss(y_test.values,svm_b)\n",
    "ll_b_svm"
   ]
  },
  {
   "cell_type": "markdown",
   "id": "7ceed485",
   "metadata": {},
   "source": [
    "# Visualization of the metrics"
   ]
  },
  {
   "cell_type": "code",
   "execution_count": null,
   "id": "4d4a1e1c",
   "metadata": {},
   "outputs": [],
   "source": [
    "from sklearn.metrics import precision_recall_fscore_support as score\n",
    "import numpy as np\n",
    "import matplotlib.pyplot as plt"
   ]
  },
  {
   "cell_type": "code",
   "execution_count": null,
   "id": "d946ec67",
   "metadata": {},
   "outputs": [],
   "source": [
    "precision_lr,recall_lr,fscore_lr,support_lr=score(y_test,y_pred_lr_b)\n",
    "precision_rf,recall_rf,fscore_rf,support_rf=score(y_test,y_pred_rf_b)"
   ]
  },
  {
   "cell_type": "code",
   "execution_count": null,
   "id": "b245d858",
   "metadata": {},
   "outputs": [],
   "source": [
    "prec=[precision_lr.mean(),precision_rf.mean(),precision_knn.mean(),precision_svm.mean()]\n",
    "rec=[recall_lr.mean(),recall_rf.mean(),recall_knn.mean(),recall_svm.mean()]\n",
    "fsco=[fscore_lr.mean(),fscore_rf.mean(),fscore_knn.mean(),fscore_svm.mean()]\n",
    "accu=[accuracy_lr.mean(),accuracy_rf.mean(),accuracy_knn.mean(),accuracy_svm.mean()]\n",
    "auc=[AUC_b_lr,AUC_b_rf,AUC_b_knn,AUC_b_svm]\n",
    "log_loss=[ll_b_lr,ll_b_rf,ll_b_knn,ll_b_svm]"
   ]
  },
  {
   "cell_type": "code",
   "execution_count": null,
   "id": "b1dcef9c",
   "metadata": {},
   "outputs": [],
   "source": [
    "barWidth=0.1\n",
    "fig=plt.subplots(figsize=(12,8))\n",
    "br1=np.arange(len(prec))\n",
    "br2=[x+barWidth for x in br1]\n",
    "br3=[x+barWidth for x in br2]\n",
    "br4=[x+barWidth for x in br3]\n",
    "br5=[x+barWidth for x in br4]\n",
    "#br6=[x+barWidth for x in br5]\n",
    "plt.bar(br1,prec, color='r',width=barWidth,edgecolor='grey',label='Precision Score')\n",
    "plt.bar(br2,rec,color='g',width=barWidth,edgecolor='grey',label='Recall Score')\n",
    "plt.bar(br3,fsco, color='b',width=barWidth,edgecolor='grey',label='F score Score')\n",
    "plt.bar(br4,accu, color='black',width=barWidth,edgecolor='grey',label='Accuracy by Cross Validation')\n",
    "plt.bar(br5,auc,color='orange',width=barWidth,edgecolor='grey',label='Area Under Curve Score')\n",
    "#plt.bar(br6,log_loss,color='pink',width=barWidth,edgecolor='grey',label='Log Loss Score')\n",
    "plt.xlabel('Branch',fontweight='bold',fontsize=15)\n",
    "plt.ylabel('Students passed',fontweight='bold',fontsize=15)\n",
    "plt.xticks([r+barWidth for r in range(len(prec))],['Logistic Regression','Random Forest','KNN','SVM'])\n",
    "\n",
    "plt.legend(fontsize=10,loc='center')\n",
    "plt.show()"
   ]
  },
  {
   "cell_type": "code",
   "execution_count": null,
   "id": "d0bb6109",
   "metadata": {},
   "outputs": [],
   "source": [
    "barWidth_1=0.1\n",
    "fig=plt.subplots(figsize=(12,8))\n",
    "br6=np.arange(len(log_loss))\n",
    "\n",
    "plt.bar(br6,log_loss, color='r',width=barWidth,edgecolor='grey',label='Log Loss Score')\n",
    "\n",
    "plt.xlabel('Branch',fontweight='bold',fontsize=15)\n",
    "plt.ylabel('Students passed',fontweight='bold',fontsize=15)\n",
    "plt.xticks([r+barWidth for r in range(len(prec))],['Logistic Regression','Random Forest','KNN','SVM'])\n",
    "\n",
    "plt.legend(fontsize=15,loc='upper right')\n",
    "plt.show()"
   ]
  },
  {
   "cell_type": "code",
   "execution_count": null,
   "id": "7e294bcf",
   "metadata": {},
   "outputs": [],
   "source": []
  },
  {
   "cell_type": "code",
   "execution_count": null,
   "id": "ea5efaf3",
   "metadata": {},
   "outputs": [],
   "source": []
  }
 ],
 "metadata": {
  "kernelspec": {
   "display_name": "Python 3 (ipykernel)",
   "language": "python",
   "name": "python3"
  },
  "language_info": {
   "codemirror_mode": {
    "name": "ipython",
    "version": 3
   },
   "file_extension": ".py",
   "mimetype": "text/x-python",
   "name": "python",
   "nbconvert_exporter": "python",
   "pygments_lexer": "ipython3",
   "version": "3.9.12"
  }
 },
 "nbformat": 4,
 "nbformat_minor": 5
}
