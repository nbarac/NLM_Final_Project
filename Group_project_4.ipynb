{
 "cells": [
  {
   "cell_type": "markdown",
   "id": "733210a4",
   "metadata": {},
   "source": [
    "# HW 1"
   ]
  },
  {
   "cell_type": "markdown",
   "id": "80859bda",
   "metadata": {},
   "source": [
    "Problem: \n",
    "\n",
    "The fraud data refers to information collected and analyzed to identify fraudulent activities, such as illegal financial transactions, embezzlement, identity theft, and other forms of deception. Our team will work on this data and will analyze the information to uncover patterns and anomalies that may indicate fraudulent behavior, and then develop strategies to prevent and mitigate these types of incidents. The problem that we team will be working on is to develop an effective method of detecting fraud and protecting against financial losses, while also ensuring that legitimate transactions are not impeded. This will involve machine learning algorithms, and other tools to identify high-risk activities, and then implementing appropriate measures to prevent fraud from occurring.\n",
    "\n",
    "\n",
    "Source: https://www.kaggle.com/datasets/jainilcoder/online-payment-fraud-detection\n",
    "\n",
    "Data Description\n",
    "\n",
    "This is a dataset containing information about online payment fraud, so that we can understand what type of transactions lead to fraud.We collected a dataset from Kaggle, which contains historical information about fraudulent transactions which can be used to detect fraud in online payments. Below are all the columns from the dataset we’re using here:\n",
    "\n",
    "\n",
    "\n",
    "step: represents a unit of time where 1 step equals 1 hour\n",
    "\n",
    "type: type of online transaction\n",
    "\n",
    "amount: the amount of the transaction\n",
    "\n",
    "nameOrig: customer starting the transaction\n",
    "\n",
    "oldbalanceOrg: balance before the transaction\n",
    "\n",
    "newbalanceOrig: balance after the transaction\n",
    "\n",
    "nameDest: recipient of the transaction\n",
    "\n",
    "oldbalanceDest: initial balance of recipient before the transaction\n",
    "\n",
    "newbalanceDest: the new balance of recipient after the transaction\n",
    "\n",
    "isFraud: fraud transaction\n"
   ]
  },
  {
   "cell_type": "markdown",
   "id": "8a76c89c",
   "metadata": {},
   "source": [
    "# Teacher Note"
   ]
  },
  {
   "cell_type": "markdown",
   "id": "8195d936",
   "metadata": {},
   "source": [
    "your feature set seemed a little insufficient to me to do a business strategy. However, its not a big problem, the goal is the robust implementation of feature engineering, selection and model fit. Make sure you utilize imbalance dataset problems (u can check what other people use for this from the literature review). If you had some text data we could even apply a graph analysis for fraud. Please do a literature review for that as well"
   ]
  },
  {
   "cell_type": "markdown",
   "id": "63579216",
   "metadata": {},
   "source": [
    "# HW 2"
   ]
  },
  {
   "cell_type": "markdown",
   "id": "17e8ae77",
   "metadata": {},
   "source": [
    "The team will pick 3 journal papers from (preferably) the top-ranked business journals, such as SMJ, Management Science, MISQ ISR, Marketing Science, and Academy of Management Journal (AMJ), about the selected topic and will discuss/compare the empirical validation methods used in these papers for hypothesis testing.\n",
    "\n",
    "For example, if your team picks a topic about predicting market volatility and uses the Kaggle dataset to analyze this use case, they can review/compare the implementation on this paper that adopts a quantile regression approach on a similar use case. Google Scholar should be a great source to access these articles.\n",
    "\n",
    "Another example could be as follows: Assume you picked a topic to analyze Employee Churn Prediction in a company. You can search for articles about churn prediction and analyze how different models were adopted to validate the empirical results and hypotheses proposed in those papers.\n",
    "\n",
    "The goal of this stage is to explore the usage of the techniques learned in class for an academic article publication.\n",
    "\n",
    "Please review the Final Project information and Final Project Guidelines before completing this assignment.\n",
    "\n",
    "Submission: 3 pages of analysis (1 paper per page). Each page should include the problem covered in the paper, proposed models for solutions, and compare the implementation with your own project topic (similarities, relevance, adaptability of proposed model to your project)."
   ]
  },
  {
   "cell_type": "markdown",
   "id": "5f242ee7",
   "metadata": {},
   "source": [
    "# HW 3"
   ]
  },
  {
   "cell_type": "code",
   "execution_count": 1,
   "id": "1000ed4f",
   "metadata": {},
   "outputs": [],
   "source": [
    "import numpy as np\n",
    "import matplotlib.pyplot as plt\n",
    "import pandas as pd\n",
    "import seaborn as sns\n",
    "import warnings\n",
    "warnings.filterwarnings(\"ignore\")"
   ]
  },
  {
   "cell_type": "code",
   "execution_count": 2,
   "id": "45f9bf5e",
   "metadata": {},
   "outputs": [],
   "source": [
    "#df = pd.read_csv('onlinefraud.csv')"
   ]
  },
  {
   "cell_type": "code",
   "execution_count": 122,
   "id": "dc21df1a",
   "metadata": {},
   "outputs": [],
   "source": [
    "df = df = pd.read_csv('onlinefraud.csv', nrows=100000)"
   ]
  },
  {
   "cell_type": "markdown",
   "id": "324b60d4",
   "metadata": {},
   "source": [
    "# 1. Getting familiar with the data"
   ]
  },
  {
   "cell_type": "code",
   "execution_count": 4,
   "id": "8eb12955",
   "metadata": {},
   "outputs": [
    {
     "data": {
      "text/html": [
       "<div>\n",
       "<style scoped>\n",
       "    .dataframe tbody tr th:only-of-type {\n",
       "        vertical-align: middle;\n",
       "    }\n",
       "\n",
       "    .dataframe tbody tr th {\n",
       "        vertical-align: top;\n",
       "    }\n",
       "\n",
       "    .dataframe thead th {\n",
       "        text-align: right;\n",
       "    }\n",
       "</style>\n",
       "<table border=\"1\" class=\"dataframe\">\n",
       "  <thead>\n",
       "    <tr style=\"text-align: right;\">\n",
       "      <th></th>\n",
       "      <th>step</th>\n",
       "      <th>type</th>\n",
       "      <th>amount</th>\n",
       "      <th>nameOrig</th>\n",
       "      <th>oldbalanceOrg</th>\n",
       "      <th>newbalanceOrig</th>\n",
       "      <th>nameDest</th>\n",
       "      <th>oldbalanceDest</th>\n",
       "      <th>newbalanceDest</th>\n",
       "      <th>isFraud</th>\n",
       "      <th>isFlaggedFraud</th>\n",
       "    </tr>\n",
       "  </thead>\n",
       "  <tbody>\n",
       "    <tr>\n",
       "      <th>0</th>\n",
       "      <td>1</td>\n",
       "      <td>PAYMENT</td>\n",
       "      <td>9839.64</td>\n",
       "      <td>C1231006815</td>\n",
       "      <td>170136.0</td>\n",
       "      <td>160296.36</td>\n",
       "      <td>M1979787155</td>\n",
       "      <td>0.0</td>\n",
       "      <td>0.0</td>\n",
       "      <td>0</td>\n",
       "      <td>0</td>\n",
       "    </tr>\n",
       "    <tr>\n",
       "      <th>1</th>\n",
       "      <td>1</td>\n",
       "      <td>PAYMENT</td>\n",
       "      <td>1864.28</td>\n",
       "      <td>C1666544295</td>\n",
       "      <td>21249.0</td>\n",
       "      <td>19384.72</td>\n",
       "      <td>M2044282225</td>\n",
       "      <td>0.0</td>\n",
       "      <td>0.0</td>\n",
       "      <td>0</td>\n",
       "      <td>0</td>\n",
       "    </tr>\n",
       "    <tr>\n",
       "      <th>2</th>\n",
       "      <td>1</td>\n",
       "      <td>TRANSFER</td>\n",
       "      <td>181.00</td>\n",
       "      <td>C1305486145</td>\n",
       "      <td>181.0</td>\n",
       "      <td>0.00</td>\n",
       "      <td>C553264065</td>\n",
       "      <td>0.0</td>\n",
       "      <td>0.0</td>\n",
       "      <td>1</td>\n",
       "      <td>0</td>\n",
       "    </tr>\n",
       "    <tr>\n",
       "      <th>3</th>\n",
       "      <td>1</td>\n",
       "      <td>CASH_OUT</td>\n",
       "      <td>181.00</td>\n",
       "      <td>C840083671</td>\n",
       "      <td>181.0</td>\n",
       "      <td>0.00</td>\n",
       "      <td>C38997010</td>\n",
       "      <td>21182.0</td>\n",
       "      <td>0.0</td>\n",
       "      <td>1</td>\n",
       "      <td>0</td>\n",
       "    </tr>\n",
       "    <tr>\n",
       "      <th>4</th>\n",
       "      <td>1</td>\n",
       "      <td>PAYMENT</td>\n",
       "      <td>11668.14</td>\n",
       "      <td>C2048537720</td>\n",
       "      <td>41554.0</td>\n",
       "      <td>29885.86</td>\n",
       "      <td>M1230701703</td>\n",
       "      <td>0.0</td>\n",
       "      <td>0.0</td>\n",
       "      <td>0</td>\n",
       "      <td>0</td>\n",
       "    </tr>\n",
       "  </tbody>\n",
       "</table>\n",
       "</div>"
      ],
      "text/plain": [
       "   step      type    amount     nameOrig  oldbalanceOrg  newbalanceOrig  \\\n",
       "0     1   PAYMENT   9839.64  C1231006815       170136.0       160296.36   \n",
       "1     1   PAYMENT   1864.28  C1666544295        21249.0        19384.72   \n",
       "2     1  TRANSFER    181.00  C1305486145          181.0            0.00   \n",
       "3     1  CASH_OUT    181.00   C840083671          181.0            0.00   \n",
       "4     1   PAYMENT  11668.14  C2048537720        41554.0        29885.86   \n",
       "\n",
       "      nameDest  oldbalanceDest  newbalanceDest  isFraud  isFlaggedFraud  \n",
       "0  M1979787155             0.0             0.0        0               0  \n",
       "1  M2044282225             0.0             0.0        0               0  \n",
       "2   C553264065             0.0             0.0        1               0  \n",
       "3    C38997010         21182.0             0.0        1               0  \n",
       "4  M1230701703             0.0             0.0        0               0  "
      ]
     },
     "execution_count": 4,
     "metadata": {},
     "output_type": "execute_result"
    }
   ],
   "source": [
    "df.head()"
   ]
  },
  {
   "cell_type": "code",
   "execution_count": 5,
   "id": "c6862572",
   "metadata": {},
   "outputs": [
    {
     "data": {
      "text/html": [
       "<div>\n",
       "<style scoped>\n",
       "    .dataframe tbody tr th:only-of-type {\n",
       "        vertical-align: middle;\n",
       "    }\n",
       "\n",
       "    .dataframe tbody tr th {\n",
       "        vertical-align: top;\n",
       "    }\n",
       "\n",
       "    .dataframe thead th {\n",
       "        text-align: right;\n",
       "    }\n",
       "</style>\n",
       "<table border=\"1\" class=\"dataframe\">\n",
       "  <thead>\n",
       "    <tr style=\"text-align: right;\">\n",
       "      <th></th>\n",
       "      <th>step</th>\n",
       "      <th>amount</th>\n",
       "      <th>oldbalanceOrg</th>\n",
       "      <th>newbalanceOrig</th>\n",
       "      <th>oldbalanceDest</th>\n",
       "      <th>newbalanceDest</th>\n",
       "      <th>isFraud</th>\n",
       "      <th>isFlaggedFraud</th>\n",
       "    </tr>\n",
       "  </thead>\n",
       "  <tbody>\n",
       "    <tr>\n",
       "      <th>count</th>\n",
       "      <td>100000.000000</td>\n",
       "      <td>1.000000e+05</td>\n",
       "      <td>1.000000e+05</td>\n",
       "      <td>1.000000e+05</td>\n",
       "      <td>1.000000e+05</td>\n",
       "      <td>1.000000e+05</td>\n",
       "      <td>100000.000000</td>\n",
       "      <td>100000.0</td>\n",
       "    </tr>\n",
       "    <tr>\n",
       "      <th>mean</th>\n",
       "      <td>8.499640</td>\n",
       "      <td>1.736022e+05</td>\n",
       "      <td>8.777575e+05</td>\n",
       "      <td>8.940619e+05</td>\n",
       "      <td>8.805048e+05</td>\n",
       "      <td>1.184041e+06</td>\n",
       "      <td>0.001160</td>\n",
       "      <td>0.0</td>\n",
       "    </tr>\n",
       "    <tr>\n",
       "      <th>std</th>\n",
       "      <td>1.825545</td>\n",
       "      <td>3.443003e+05</td>\n",
       "      <td>2.673284e+06</td>\n",
       "      <td>2.711318e+06</td>\n",
       "      <td>2.402267e+06</td>\n",
       "      <td>2.802350e+06</td>\n",
       "      <td>0.034039</td>\n",
       "      <td>0.0</td>\n",
       "    </tr>\n",
       "    <tr>\n",
       "      <th>min</th>\n",
       "      <td>1.000000</td>\n",
       "      <td>3.200000e-01</td>\n",
       "      <td>0.000000e+00</td>\n",
       "      <td>0.000000e+00</td>\n",
       "      <td>0.000000e+00</td>\n",
       "      <td>0.000000e+00</td>\n",
       "      <td>0.000000</td>\n",
       "      <td>0.0</td>\n",
       "    </tr>\n",
       "    <tr>\n",
       "      <th>25%</th>\n",
       "      <td>8.000000</td>\n",
       "      <td>9.963562e+03</td>\n",
       "      <td>0.000000e+00</td>\n",
       "      <td>0.000000e+00</td>\n",
       "      <td>0.000000e+00</td>\n",
       "      <td>0.000000e+00</td>\n",
       "      <td>0.000000</td>\n",
       "      <td>0.0</td>\n",
       "    </tr>\n",
       "    <tr>\n",
       "      <th>50%</th>\n",
       "      <td>9.000000</td>\n",
       "      <td>5.274552e+04</td>\n",
       "      <td>2.006150e+04</td>\n",
       "      <td>0.000000e+00</td>\n",
       "      <td>2.083943e+04</td>\n",
       "      <td>4.990918e+04</td>\n",
       "      <td>0.000000</td>\n",
       "      <td>0.0</td>\n",
       "    </tr>\n",
       "    <tr>\n",
       "      <th>75%</th>\n",
       "      <td>10.000000</td>\n",
       "      <td>2.117631e+05</td>\n",
       "      <td>1.901920e+05</td>\n",
       "      <td>2.148132e+05</td>\n",
       "      <td>5.882724e+05</td>\n",
       "      <td>1.058186e+06</td>\n",
       "      <td>0.000000</td>\n",
       "      <td>0.0</td>\n",
       "    </tr>\n",
       "    <tr>\n",
       "      <th>max</th>\n",
       "      <td>10.000000</td>\n",
       "      <td>1.000000e+07</td>\n",
       "      <td>3.379739e+07</td>\n",
       "      <td>3.400874e+07</td>\n",
       "      <td>3.400874e+07</td>\n",
       "      <td>3.894623e+07</td>\n",
       "      <td>1.000000</td>\n",
       "      <td>0.0</td>\n",
       "    </tr>\n",
       "  </tbody>\n",
       "</table>\n",
       "</div>"
      ],
      "text/plain": [
       "                step        amount  oldbalanceOrg  newbalanceOrig  \\\n",
       "count  100000.000000  1.000000e+05   1.000000e+05    1.000000e+05   \n",
       "mean        8.499640  1.736022e+05   8.777575e+05    8.940619e+05   \n",
       "std         1.825545  3.443003e+05   2.673284e+06    2.711318e+06   \n",
       "min         1.000000  3.200000e-01   0.000000e+00    0.000000e+00   \n",
       "25%         8.000000  9.963562e+03   0.000000e+00    0.000000e+00   \n",
       "50%         9.000000  5.274552e+04   2.006150e+04    0.000000e+00   \n",
       "75%        10.000000  2.117631e+05   1.901920e+05    2.148132e+05   \n",
       "max        10.000000  1.000000e+07   3.379739e+07    3.400874e+07   \n",
       "\n",
       "       oldbalanceDest  newbalanceDest        isFraud  isFlaggedFraud  \n",
       "count    1.000000e+05    1.000000e+05  100000.000000        100000.0  \n",
       "mean     8.805048e+05    1.184041e+06       0.001160             0.0  \n",
       "std      2.402267e+06    2.802350e+06       0.034039             0.0  \n",
       "min      0.000000e+00    0.000000e+00       0.000000             0.0  \n",
       "25%      0.000000e+00    0.000000e+00       0.000000             0.0  \n",
       "50%      2.083943e+04    4.990918e+04       0.000000             0.0  \n",
       "75%      5.882724e+05    1.058186e+06       0.000000             0.0  \n",
       "max      3.400874e+07    3.894623e+07       1.000000             0.0  "
      ]
     },
     "execution_count": 5,
     "metadata": {},
     "output_type": "execute_result"
    }
   ],
   "source": [
    "df.describe()"
   ]
  },
  {
   "cell_type": "code",
   "execution_count": 98,
   "id": "09a5449b",
   "metadata": {},
   "outputs": [
    {
     "name": "stdout",
     "output_type": "stream",
     "text": [
      "<class 'pandas.core.frame.DataFrame'>\n",
      "RangeIndex: 100000 entries, 0 to 99999\n",
      "Data columns (total 17 columns):\n",
      " #   Column              Non-Null Count   Dtype  \n",
      "---  ------              --------------   -----  \n",
      " 0   step                100000 non-null  int64  \n",
      " 1   type                100000 non-null  object \n",
      " 2   amount              100000 non-null  float64\n",
      " 3   nameOrig            100000 non-null  object \n",
      " 4   oldbalanceOrg       100000 non-null  float64\n",
      " 5   newbalanceOrig      100000 non-null  float64\n",
      " 6   nameDest            100000 non-null  object \n",
      " 7   oldbalanceDest      100000 non-null  float64\n",
      " 8   newbalanceDest      100000 non-null  float64\n",
      " 9   isFraud             100000 non-null  int64  \n",
      " 10  isFlaggedFraud      100000 non-null  int64  \n",
      " 11  amount_zscore       100000 non-null  float64\n",
      " 12  amount_diff         100000 non-null  float64\n",
      " 13  hour                100000 non-null  int64  \n",
      " 14  account_type        100000 non-null  object \n",
      " 15  transaction_freq    100000 non-null  int64  \n",
      " 16  transaction_volume  100000 non-null  float64\n",
      "dtypes: float64(8), int64(5), object(4)\n",
      "memory usage: 13.0+ MB\n"
     ]
    }
   ],
   "source": [
    "df.info()"
   ]
  },
  {
   "cell_type": "code",
   "execution_count": 99,
   "id": "0bf36708",
   "metadata": {},
   "outputs": [
    {
     "data": {
      "text/plain": [
       "<AxesSubplot:>"
      ]
     },
     "execution_count": 99,
     "metadata": {},
     "output_type": "execute_result"
    },
    {
     "data": {
      "image/png": "[encoded data removed]",
      "text/plain": [
       "<Figure size 576x432 with 2 Axes>"
      ]
     },
     "metadata": {
      "needs_background": "light"
     },
     "output_type": "display_data"
    }
   ],
   "source": [
    "plt.figure(figsize=(8,6))\n",
    "sns.heatmap(df.isnull())"
   ]
  },
  {
   "cell_type": "code",
   "execution_count": 8,
   "id": "9984ea0f",
   "metadata": {},
   "outputs": [
    {
     "data": {
      "text/plain": [
       "(100000, 11)"
      ]
     },
     "execution_count": 8,
     "metadata": {},
     "output_type": "execute_result"
    }
   ],
   "source": [
    "df.shape"
   ]
  },
  {
   "cell_type": "markdown",
   "id": "b3841345",
   "metadata": {},
   "source": [
    "# 2. Exploratory Data Analysis (EDA)"
   ]
  },
  {
   "cell_type": "markdown",
   "id": "98ee58ad",
   "metadata": {},
   "source": [
    "Univariate Analysis"
   ]
  },
  {
   "cell_type": "code",
   "execution_count": 9,
   "id": "03c816e6",
   "metadata": {},
   "outputs": [
    {
     "data": {
      "image/png": "[encoded data removed]",
      "text/plain": [
       "<Figure size 432x288 with 1 Axes>"
      ]
     },
     "metadata": {
      "needs_background": "light"
     },
     "output_type": "display_data"
    }
   ],
   "source": [
    "# Plot a box plot for the \"amount\" column\n",
    "plt.boxplot(df['oldbalanceOrg'])\n",
    "plt.show()"
   ]
  },
  {
   "cell_type": "code",
   "execution_count": 10,
   "id": "a3d22915",
   "metadata": {},
   "outputs": [
    {
     "data": {
      "image/png": "[encoded data removed]",
      "text/plain": [
       "<Figure size 432x288 with 1 Axes>"
      ]
     },
     "metadata": {
      "needs_background": "light"
     },
     "output_type": "display_data"
    }
   ],
   "source": [
    "# Plot a histogram for the \"amount\" column\n",
    "df['oldbalanceOrg'].hist(bins=50)\n",
    "plt.show()"
   ]
  },
  {
   "cell_type": "code",
   "execution_count": 11,
   "id": "856e7fec",
   "metadata": {},
   "outputs": [
    {
     "name": "stdout",
     "output_type": "stream",
     "text": [
      "PAYMENT     39512\n",
      "CASH_OUT    30718\n",
      "CASH_IN     20185\n",
      "TRANSFER     8597\n",
      "DEBIT         988\n",
      "Name: type, dtype: int64\n"
     ]
    },
    {
     "data": {
      "image/png": "[encoded data removed]",
      "text/plain": [
       "<Figure size 432x288 with 1 Axes>"
      ]
     },
     "metadata": {
      "needs_background": "light"
     },
     "output_type": "display_data"
    }
   ],
   "source": [
    "# Frequency distribution of \"type\" column\n",
    "print(df['type'].value_counts())\n",
    "\n",
    "# Bar plot of \"type\" column\n",
    "df['type'].value_counts().plot.bar()\n",
    "plt.show()"
   ]
  },
  {
   "cell_type": "code",
   "execution_count": 12,
   "id": "d400329f",
   "metadata": {},
   "outputs": [
    {
     "name": "stdout",
     "output_type": "stream",
     "text": [
      "0    99884\n",
      "1      116\n",
      "Name: isFraud, dtype: int64\n"
     ]
    },
    {
     "data": {
      "image/png": "[encoded data removed]",
      "text/plain": [
       "<Figure size 432x288 with 1 Axes>"
      ]
     },
     "metadata": {
      "needs_background": "light"
     },
     "output_type": "display_data"
    }
   ],
   "source": [
    "# Frequency distribution of \"isFraud\" column\n",
    "print(df['isFraud'].value_counts())\n",
    "\n",
    "# Bar plot of \"isFraud\" column\n",
    "df['isFraud'].value_counts().plot.bar()\n",
    "plt.show()"
   ]
  },
  {
   "cell_type": "code",
   "execution_count": 13,
   "id": "0188a106",
   "metadata": {},
   "outputs": [
    {
     "data": {
      "text/plain": [
       "Text(0, 0.5, 'Count')"
      ]
     },
     "execution_count": 13,
     "metadata": {},
     "output_type": "execute_result"
    },
    {
     "data": {
      "image/png": "[encoded data removed]",
      "text/plain": [
       "<Figure size 432x432 with 1 Axes>"
      ]
     },
     "metadata": {
      "needs_background": "light"
     },
     "output_type": "display_data"
    }
   ],
   "source": [
    "plt.figure(figsize=(6,6))\n",
    "sns.countplot(df['isFraud'])\n",
    "plt.xlabel('isFraud')\n",
    "plt.ylabel('Count')"
   ]
  },
  {
   "cell_type": "code",
   "execution_count": 14,
   "id": "c2945492",
   "metadata": {},
   "outputs": [
    {
     "data": {
      "text/plain": [
       "Text(0, 0.5, 'Count')"
      ]
     },
     "execution_count": 14,
     "metadata": {},
     "output_type": "execute_result"
    },
    {
     "data": {
      "image/png": "[encoded data removed]",
      "text/plain": [
       "<Figure size 432x432 with 1 Axes>"
      ]
     },
     "metadata": {
      "needs_background": "light"
     },
     "output_type": "display_data"
    }
   ],
   "source": [
    "plt.figure(figsize=(6,6))\n",
    "df_default = df[df['isFraud']==1]\n",
    "sns.countplot(df_default['type'])\n",
    "plt.xlabel('type')\n",
    "plt.ylabel('Count')"
   ]
  },
  {
   "cell_type": "code",
   "execution_count": 15,
   "id": "ed8fa0a9",
   "metadata": {},
   "outputs": [
    {
     "data": {
      "text/plain": [
       "Text(0, 0.5, 'Count')"
      ]
     },
     "execution_count": 15,
     "metadata": {},
     "output_type": "execute_result"
    },
    {
     "data": {
      "image/png": "[encoded data removed]",
      "text/plain": [
       "<Figure size 432x432 with 1 Axes>"
      ]
     },
     "metadata": {
      "needs_background": "light"
     },
     "output_type": "display_data"
    }
   ],
   "source": [
    "plt.figure(figsize=(6,6))\n",
    "df_default = df[df['isFraud']==0]\n",
    "sns.countplot(df_default['type'])\n",
    "plt.xlabel('type')\n",
    "plt.ylabel('Count')"
   ]
  },
  {
   "cell_type": "code",
   "execution_count": 16,
   "id": "0d1bec77",
   "metadata": {},
   "outputs": [
    {
     "data": {
      "text/plain": [
       "type\n",
       "CASH_IN     20185\n",
       "CASH_OUT    30718\n",
       "DEBIT         988\n",
       "PAYMENT     39512\n",
       "TRANSFER     8597\n",
       "Name: step, dtype: int64"
      ]
     },
     "execution_count": 16,
     "metadata": {},
     "output_type": "execute_result"
    }
   ],
   "source": [
    "df.groupby('type')['step'].count()"
   ]
  },
  {
   "cell_type": "code",
   "execution_count": 17,
   "id": "94ec8b71",
   "metadata": {
    "scrolled": true
   },
   "outputs": [
    {
     "data": {
      "text/plain": [
       "Text(0, 0.5, 'Count')"
      ]
     },
     "execution_count": 17,
     "metadata": {},
     "output_type": "execute_result"
    },
    {
     "data": {
      "image/png": "[encoded data removed]",
      "text/plain": [
       "<Figure size 720x432 with 1 Axes>"
      ]
     },
     "metadata": {
      "needs_background": "light"
     },
     "output_type": "display_data"
    }
   ],
   "source": [
    "plt.figure(figsize=(10,6))\n",
    "sns.histplot(data = df, x = \"step\", kde = True, hue = \"isFraud\")\n",
    "plt.xlabel('step')\n",
    "plt.ylabel('Count')"
   ]
  },
  {
   "cell_type": "code",
   "execution_count": 18,
   "id": "d56fc2eb",
   "metadata": {},
   "outputs": [
    {
     "data": {
      "text/plain": [
       "Text(0, 0.5, 'Count')"
      ]
     },
     "execution_count": 18,
     "metadata": {},
     "output_type": "execute_result"
    },
    {
     "data": {
      "image/png": "[encoded data removed]",
      "text/plain": [
       "<Figure size 720x432 with 1 Axes>"
      ]
     },
     "metadata": {
      "needs_background": "light"
     },
     "output_type": "display_data"
    }
   ],
   "source": [
    "plt.figure(figsize=(10,6))\n",
    "sns.histplot(data = df, x = \"type\", kde = True, hue = \"isFraud\")\n",
    "plt.xlabel('type')\n",
    "plt.ylabel('Count')"
   ]
  },
  {
   "cell_type": "code",
   "execution_count": 100,
   "id": "cee16d8d",
   "metadata": {
    "scrolled": true
   },
   "outputs": [
    {
     "data": {
      "image/png": "[encoded data removed]",
      "text/plain": [
       "<Figure size 1080x720 with 16 Axes>"
      ]
     },
     "metadata": {
      "needs_background": "light"
     },
     "output_type": "display_data"
    }
   ],
   "source": [
    "fig = plt.figure(figsize = (15, 10));\n",
    "ax = fig.gca();\n",
    "df.hist(ax = ax, color = 'maroon')\n",
    "pass"
   ]
  },
  {
   "cell_type": "code",
   "execution_count": 139,
   "id": "263fef15",
   "metadata": {},
   "outputs": [
    {
     "data": {
      "image/png": "[encoded data removed]",
      "text/plain": [
       "<Figure size 1080x1080 with 12 Axes>"
      ]
     },
     "metadata": {},
     "output_type": "display_data"
    }
   ],
   "source": [
    "fig = plt.figure(figsize = (15, 15));\n",
    "ax = fig.gca();\n",
    "df.hist(ax = ax, color = 'maroon', bins = 100)\n",
    "pass"
   ]
  },
  {
   "cell_type": "code",
   "execution_count": 101,
   "id": "9b51e1ff",
   "metadata": {},
   "outputs": [
    {
     "data": {
      "text/html": [
       "<div>\n",
       "<style scoped>\n",
       "    .dataframe tbody tr th:only-of-type {\n",
       "        vertical-align: middle;\n",
       "    }\n",
       "\n",
       "    .dataframe tbody tr th {\n",
       "        vertical-align: top;\n",
       "    }\n",
       "\n",
       "    .dataframe thead th {\n",
       "        text-align: right;\n",
       "    }\n",
       "</style>\n",
       "<table border=\"1\" class=\"dataframe\">\n",
       "  <thead>\n",
       "    <tr style=\"text-align: right;\">\n",
       "      <th></th>\n",
       "      <th>step</th>\n",
       "      <th>amount</th>\n",
       "      <th>oldbalanceOrg</th>\n",
       "      <th>newbalanceOrig</th>\n",
       "      <th>oldbalanceDest</th>\n",
       "      <th>newbalanceDest</th>\n",
       "      <th>isFraud</th>\n",
       "      <th>isFlaggedFraud</th>\n",
       "      <th>amount_zscore</th>\n",
       "      <th>amount_diff</th>\n",
       "      <th>hour</th>\n",
       "      <th>transaction_freq</th>\n",
       "      <th>transaction_volume</th>\n",
       "    </tr>\n",
       "  </thead>\n",
       "  <tbody>\n",
       "    <tr>\n",
       "      <th>step</th>\n",
       "      <td>1.000000</td>\n",
       "      <td>0.076026</td>\n",
       "      <td>-0.003769</td>\n",
       "      <td>-0.003846</td>\n",
       "      <td>0.009470</td>\n",
       "      <td>0.011325</td>\n",
       "      <td>-0.051329</td>\n",
       "      <td>NaN</td>\n",
       "      <td>0.076026</td>\n",
       "      <td>0.002621</td>\n",
       "      <td>1.000000</td>\n",
       "      <td>NaN</td>\n",
       "      <td>0.076026</td>\n",
       "    </tr>\n",
       "    <tr>\n",
       "      <th>amount</th>\n",
       "      <td>0.076026</td>\n",
       "      <td>1.000000</td>\n",
       "      <td>-0.011420</td>\n",
       "      <td>-0.017804</td>\n",
       "      <td>0.245814</td>\n",
       "      <td>0.373313</td>\n",
       "      <td>0.036422</td>\n",
       "      <td>NaN</td>\n",
       "      <td>1.000000</td>\n",
       "      <td>0.131637</td>\n",
       "      <td>0.076026</td>\n",
       "      <td>NaN</td>\n",
       "      <td>1.000000</td>\n",
       "    </tr>\n",
       "    <tr>\n",
       "      <th>oldbalanceOrg</th>\n",
       "      <td>-0.003769</td>\n",
       "      <td>-0.011420</td>\n",
       "      <td>1.000000</td>\n",
       "      <td>0.998846</td>\n",
       "      <td>0.106192</td>\n",
       "      <td>0.074833</td>\n",
       "      <td>-0.004144</td>\n",
       "      <td>NaN</td>\n",
       "      <td>-0.011420</td>\n",
       "      <td>-0.258949</td>\n",
       "      <td>-0.003769</td>\n",
       "      <td>NaN</td>\n",
       "      <td>-0.011420</td>\n",
       "    </tr>\n",
       "    <tr>\n",
       "      <th>newbalanceOrig</th>\n",
       "      <td>-0.003846</td>\n",
       "      <td>-0.017804</td>\n",
       "      <td>0.998846</td>\n",
       "      <td>1.000000</td>\n",
       "      <td>0.107784</td>\n",
       "      <td>0.073759</td>\n",
       "      <td>-0.010872</td>\n",
       "      <td>NaN</td>\n",
       "      <td>-0.017804</td>\n",
       "      <td>-0.305033</td>\n",
       "      <td>-0.003846</td>\n",
       "      <td>NaN</td>\n",
       "      <td>-0.017804</td>\n",
       "    </tr>\n",
       "    <tr>\n",
       "      <th>oldbalanceDest</th>\n",
       "      <td>0.009470</td>\n",
       "      <td>0.245814</td>\n",
       "      <td>0.106192</td>\n",
       "      <td>0.107784</td>\n",
       "      <td>1.000000</td>\n",
       "      <td>0.938675</td>\n",
       "      <td>-0.009266</td>\n",
       "      <td>NaN</td>\n",
       "      <td>0.245814</td>\n",
       "      <td>-0.061982</td>\n",
       "      <td>0.009470</td>\n",
       "      <td>NaN</td>\n",
       "      <td>0.245814</td>\n",
       "    </tr>\n",
       "    <tr>\n",
       "      <th>newbalanceDest</th>\n",
       "      <td>0.011325</td>\n",
       "      <td>0.373313</td>\n",
       "      <td>0.074833</td>\n",
       "      <td>0.073759</td>\n",
       "      <td>0.938675</td>\n",
       "      <td>1.000000</td>\n",
       "      <td>-0.006394</td>\n",
       "      <td>NaN</td>\n",
       "      <td>0.373313</td>\n",
       "      <td>0.000473</td>\n",
       "      <td>0.011325</td>\n",
       "      <td>NaN</td>\n",
       "      <td>0.373313</td>\n",
       "    </tr>\n",
       "    <tr>\n",
       "      <th>isFraud</th>\n",
       "      <td>-0.051329</td>\n",
       "      <td>0.036422</td>\n",
       "      <td>-0.004144</td>\n",
       "      <td>-0.010872</td>\n",
       "      <td>-0.009266</td>\n",
       "      <td>-0.006394</td>\n",
       "      <td>1.000000</td>\n",
       "      <td>NaN</td>\n",
       "      <td>0.036422</td>\n",
       "      <td>0.136504</td>\n",
       "      <td>-0.051329</td>\n",
       "      <td>NaN</td>\n",
       "      <td>0.036422</td>\n",
       "    </tr>\n",
       "    <tr>\n",
       "      <th>isFlaggedFraud</th>\n",
       "      <td>NaN</td>\n",
       "      <td>NaN</td>\n",
       "      <td>NaN</td>\n",
       "      <td>NaN</td>\n",
       "      <td>NaN</td>\n",
       "      <td>NaN</td>\n",
       "      <td>NaN</td>\n",
       "      <td>NaN</td>\n",
       "      <td>NaN</td>\n",
       "      <td>NaN</td>\n",
       "      <td>NaN</td>\n",
       "      <td>NaN</td>\n",
       "      <td>NaN</td>\n",
       "    </tr>\n",
       "    <tr>\n",
       "      <th>amount_zscore</th>\n",
       "      <td>0.076026</td>\n",
       "      <td>1.000000</td>\n",
       "      <td>-0.011420</td>\n",
       "      <td>-0.017804</td>\n",
       "      <td>0.245814</td>\n",
       "      <td>0.373313</td>\n",
       "      <td>0.036422</td>\n",
       "      <td>NaN</td>\n",
       "      <td>1.000000</td>\n",
       "      <td>0.131637</td>\n",
       "      <td>0.076026</td>\n",
       "      <td>NaN</td>\n",
       "      <td>1.000000</td>\n",
       "    </tr>\n",
       "    <tr>\n",
       "      <th>amount_diff</th>\n",
       "      <td>0.002621</td>\n",
       "      <td>0.131637</td>\n",
       "      <td>-0.258949</td>\n",
       "      <td>-0.305033</td>\n",
       "      <td>-0.061982</td>\n",
       "      <td>0.000473</td>\n",
       "      <td>0.136504</td>\n",
       "      <td>NaN</td>\n",
       "      <td>0.131637</td>\n",
       "      <td>1.000000</td>\n",
       "      <td>0.002621</td>\n",
       "      <td>NaN</td>\n",
       "      <td>0.131637</td>\n",
       "    </tr>\n",
       "    <tr>\n",
       "      <th>hour</th>\n",
       "      <td>1.000000</td>\n",
       "      <td>0.076026</td>\n",
       "      <td>-0.003769</td>\n",
       "      <td>-0.003846</td>\n",
       "      <td>0.009470</td>\n",
       "      <td>0.011325</td>\n",
       "      <td>-0.051329</td>\n",
       "      <td>NaN</td>\n",
       "      <td>0.076026</td>\n",
       "      <td>0.002621</td>\n",
       "      <td>1.000000</td>\n",
       "      <td>NaN</td>\n",
       "      <td>0.076026</td>\n",
       "    </tr>\n",
       "    <tr>\n",
       "      <th>transaction_freq</th>\n",
       "      <td>NaN</td>\n",
       "      <td>NaN</td>\n",
       "      <td>NaN</td>\n",
       "      <td>NaN</td>\n",
       "      <td>NaN</td>\n",
       "      <td>NaN</td>\n",
       "      <td>NaN</td>\n",
       "      <td>NaN</td>\n",
       "      <td>NaN</td>\n",
       "      <td>NaN</td>\n",
       "      <td>NaN</td>\n",
       "      <td>NaN</td>\n",
       "      <td>NaN</td>\n",
       "    </tr>\n",
       "    <tr>\n",
       "      <th>transaction_volume</th>\n",
       "      <td>0.076026</td>\n",
       "      <td>1.000000</td>\n",
       "      <td>-0.011420</td>\n",
       "      <td>-0.017804</td>\n",
       "      <td>0.245814</td>\n",
       "      <td>0.373313</td>\n",
       "      <td>0.036422</td>\n",
       "      <td>NaN</td>\n",
       "      <td>1.000000</td>\n",
       "      <td>0.131637</td>\n",
       "      <td>0.076026</td>\n",
       "      <td>NaN</td>\n",
       "      <td>1.000000</td>\n",
       "    </tr>\n",
       "  </tbody>\n",
       "</table>\n",
       "</div>"
      ],
      "text/plain": [
       "                        step    amount  oldbalanceOrg  newbalanceOrig  \\\n",
       "step                1.000000  0.076026      -0.003769       -0.003846   \n",
       "amount              0.076026  1.000000      -0.011420       -0.017804   \n",
       "oldbalanceOrg      -0.003769 -0.011420       1.000000        0.998846   \n",
       "newbalanceOrig     -0.003846 -0.017804       0.998846        1.000000   \n",
       "oldbalanceDest      0.009470  0.245814       0.106192        0.107784   \n",
       "newbalanceDest      0.011325  0.373313       0.074833        0.073759   \n",
       "isFraud            -0.051329  0.036422      -0.004144       -0.010872   \n",
       "isFlaggedFraud           NaN       NaN            NaN             NaN   \n",
       "amount_zscore       0.076026  1.000000      -0.011420       -0.017804   \n",
       "amount_diff         0.002621  0.131637      -0.258949       -0.305033   \n",
       "hour                1.000000  0.076026      -0.003769       -0.003846   \n",
       "transaction_freq         NaN       NaN            NaN             NaN   \n",
       "transaction_volume  0.076026  1.000000      -0.011420       -0.017804   \n",
       "\n",
       "                    oldbalanceDest  newbalanceDest   isFraud  isFlaggedFraud  \\\n",
       "step                      0.009470        0.011325 -0.051329             NaN   \n",
       "amount                    0.245814        0.373313  0.036422             NaN   \n",
       "oldbalanceOrg             0.106192        0.074833 -0.004144             NaN   \n",
       "newbalanceOrig            0.107784        0.073759 -0.010872             NaN   \n",
       "oldbalanceDest            1.000000        0.938675 -0.009266             NaN   \n",
       "newbalanceDest            0.938675        1.000000 -0.006394             NaN   \n",
       "isFraud                  -0.009266       -0.006394  1.000000             NaN   \n",
       "isFlaggedFraud                 NaN             NaN       NaN             NaN   \n",
       "amount_zscore             0.245814        0.373313  0.036422             NaN   \n",
       "amount_diff              -0.061982        0.000473  0.136504             NaN   \n",
       "hour                      0.009470        0.011325 -0.051329             NaN   \n",
       "transaction_freq               NaN             NaN       NaN             NaN   \n",
       "transaction_volume        0.245814        0.373313  0.036422             NaN   \n",
       "\n",
       "                    amount_zscore  amount_diff      hour  transaction_freq  \\\n",
       "step                     0.076026     0.002621  1.000000               NaN   \n",
       "amount                   1.000000     0.131637  0.076026               NaN   \n",
       "oldbalanceOrg           -0.011420    -0.258949 -0.003769               NaN   \n",
       "newbalanceOrig          -0.017804    -0.305033 -0.003846               NaN   \n",
       "oldbalanceDest           0.245814    -0.061982  0.009470               NaN   \n",
       "newbalanceDest           0.373313     0.000473  0.011325               NaN   \n",
       "isFraud                  0.036422     0.136504 -0.051329               NaN   \n",
       "isFlaggedFraud                NaN          NaN       NaN               NaN   \n",
       "amount_zscore            1.000000     0.131637  0.076026               NaN   \n",
       "amount_diff              0.131637     1.000000  0.002621               NaN   \n",
       "hour                     0.076026     0.002621  1.000000               NaN   \n",
       "transaction_freq              NaN          NaN       NaN               NaN   \n",
       "transaction_volume       1.000000     0.131637  0.076026               NaN   \n",
       "\n",
       "                    transaction_volume  \n",
       "step                          0.076026  \n",
       "amount                        1.000000  \n",
       "oldbalanceOrg                -0.011420  \n",
       "newbalanceOrig               -0.017804  \n",
       "oldbalanceDest                0.245814  \n",
       "newbalanceDest                0.373313  \n",
       "isFraud                       0.036422  \n",
       "isFlaggedFraud                     NaN  \n",
       "amount_zscore                 1.000000  \n",
       "amount_diff                   0.131637  \n",
       "hour                          0.076026  \n",
       "transaction_freq                   NaN  \n",
       "transaction_volume            1.000000  "
      ]
     },
     "execution_count": 101,
     "metadata": {},
     "output_type": "execute_result"
    }
   ],
   "source": [
    "df.corr()"
   ]
  },
  {
   "cell_type": "code",
   "execution_count": 114,
   "id": "9314e4c0",
   "metadata": {},
   "outputs": [
    {
     "data": {
      "image/png": "[encoded data removed]",
      "text/plain": [
       "<Figure size 720x576 with 2 Axes>"
      ]
     },
     "metadata": {},
     "output_type": "display_data"
    }
   ],
   "source": [
    "sns.set(font_scale = 1.2)\n",
    "f, ax = plt.subplots(figsize = (10, 8))\n",
    "ax.set_xticklabels(ax.get_xmajorticklabels(), fontsize = 18)\n",
    "ax.set_yticklabels(ax.get_ymajorticklabels(), fontsize = 18)\n",
    "sns.heatmap(df[['oldbalanceOrg', 'newbalanceOrig', 'amount_diff', 'hour','isFraud','amount']].corr(), annot = True, \n",
    "            linewidths = 0.5, fmt = '.1f', ax = ax, cmap = 'magma_r')\n",
    "pass"
   ]
  },
  {
   "cell_type": "code",
   "execution_count": 120,
   "id": "2ff5b95f",
   "metadata": {},
   "outputs": [
    {
     "data": {
      "text/html": [
       "<div>\n",
       "<style scoped>\n",
       "    .dataframe tbody tr th:only-of-type {\n",
       "        vertical-align: middle;\n",
       "    }\n",
       "\n",
       "    .dataframe tbody tr th {\n",
       "        vertical-align: top;\n",
       "    }\n",
       "\n",
       "    .dataframe thead th {\n",
       "        text-align: right;\n",
       "    }\n",
       "</style>\n",
       "<table border=\"1\" class=\"dataframe\">\n",
       "  <thead>\n",
       "    <tr style=\"text-align: right;\">\n",
       "      <th></th>\n",
       "      <th>step</th>\n",
       "      <th>type</th>\n",
       "      <th>amount</th>\n",
       "      <th>nameOrig</th>\n",
       "      <th>oldbalanceOrg</th>\n",
       "      <th>newbalanceOrig</th>\n",
       "      <th>nameDest</th>\n",
       "      <th>oldbalanceDest</th>\n",
       "      <th>newbalanceDest</th>\n",
       "      <th>isFraud</th>\n",
       "      <th>isFlaggedFraud</th>\n",
       "    </tr>\n",
       "  </thead>\n",
       "  <tbody>\n",
       "    <tr>\n",
       "      <th>4441</th>\n",
       "      <td>4</td>\n",
       "      <td>CASH_OUT</td>\n",
       "      <td>10000000.00</td>\n",
       "      <td>C351297720</td>\n",
       "      <td>10000000.00</td>\n",
       "      <td>0.00</td>\n",
       "      <td>C766681183</td>\n",
       "      <td>0.0</td>\n",
       "      <td>9941904.21</td>\n",
       "      <td>1</td>\n",
       "      <td>0</td>\n",
       "    </tr>\n",
       "    <tr>\n",
       "      <th>4440</th>\n",
       "      <td>4</td>\n",
       "      <td>TRANSFER</td>\n",
       "      <td>10000000.00</td>\n",
       "      <td>C7162498</td>\n",
       "      <td>12930418.44</td>\n",
       "      <td>2930418.44</td>\n",
       "      <td>C945327594</td>\n",
       "      <td>0.0</td>\n",
       "      <td>0.00</td>\n",
       "      <td>1</td>\n",
       "      <td>0</td>\n",
       "    </tr>\n",
       "    <tr>\n",
       "      <th>10395</th>\n",
       "      <td>7</td>\n",
       "      <td>TRANSFER</td>\n",
       "      <td>5460002.91</td>\n",
       "      <td>C666654362</td>\n",
       "      <td>5460002.91</td>\n",
       "      <td>0.00</td>\n",
       "      <td>C1726301214</td>\n",
       "      <td>0.0</td>\n",
       "      <td>0.00</td>\n",
       "      <td>1</td>\n",
       "      <td>0</td>\n",
       "    </tr>\n",
       "    <tr>\n",
       "      <th>10396</th>\n",
       "      <td>7</td>\n",
       "      <td>CASH_OUT</td>\n",
       "      <td>5460002.91</td>\n",
       "      <td>C1588880909</td>\n",
       "      <td>5460002.91</td>\n",
       "      <td>0.00</td>\n",
       "      <td>C1570256460</td>\n",
       "      <td>0.0</td>\n",
       "      <td>9281535.44</td>\n",
       "      <td>1</td>\n",
       "      <td>0</td>\n",
       "    </tr>\n",
       "    <tr>\n",
       "      <th>4442</th>\n",
       "      <td>4</td>\n",
       "      <td>TRANSFER</td>\n",
       "      <td>2930418.44</td>\n",
       "      <td>C2047521920</td>\n",
       "      <td>2930418.44</td>\n",
       "      <td>0.00</td>\n",
       "      <td>C449261773</td>\n",
       "      <td>0.0</td>\n",
       "      <td>0.00</td>\n",
       "      <td>1</td>\n",
       "      <td>0</td>\n",
       "    </tr>\n",
       "    <tr>\n",
       "      <th>...</th>\n",
       "      <td>...</td>\n",
       "      <td>...</td>\n",
       "      <td>...</td>\n",
       "      <td>...</td>\n",
       "      <td>...</td>\n",
       "      <td>...</td>\n",
       "      <td>...</td>\n",
       "      <td>...</td>\n",
       "      <td>...</td>\n",
       "      <td>...</td>\n",
       "      <td>...</td>\n",
       "    </tr>\n",
       "    <tr>\n",
       "      <th>18772</th>\n",
       "      <td>8</td>\n",
       "      <td>CASH_OUT</td>\n",
       "      <td>222.00</td>\n",
       "      <td>C1737727444</td>\n",
       "      <td>222.00</td>\n",
       "      <td>0.00</td>\n",
       "      <td>C588779235</td>\n",
       "      <td>24708.0</td>\n",
       "      <td>171647.35</td>\n",
       "      <td>1</td>\n",
       "      <td>0</td>\n",
       "    </tr>\n",
       "    <tr>\n",
       "      <th>3</th>\n",
       "      <td>1</td>\n",
       "      <td>CASH_OUT</td>\n",
       "      <td>181.00</td>\n",
       "      <td>C840083671</td>\n",
       "      <td>181.00</td>\n",
       "      <td>0.00</td>\n",
       "      <td>C38997010</td>\n",
       "      <td>21182.0</td>\n",
       "      <td>0.00</td>\n",
       "      <td>1</td>\n",
       "      <td>0</td>\n",
       "    </tr>\n",
       "    <tr>\n",
       "      <th>2</th>\n",
       "      <td>1</td>\n",
       "      <td>TRANSFER</td>\n",
       "      <td>181.00</td>\n",
       "      <td>C1305486145</td>\n",
       "      <td>181.00</td>\n",
       "      <td>0.00</td>\n",
       "      <td>C553264065</td>\n",
       "      <td>0.0</td>\n",
       "      <td>0.00</td>\n",
       "      <td>1</td>\n",
       "      <td>0</td>\n",
       "    </tr>\n",
       "    <tr>\n",
       "      <th>12179</th>\n",
       "      <td>7</td>\n",
       "      <td>TRANSFER</td>\n",
       "      <td>164.00</td>\n",
       "      <td>C1455969984</td>\n",
       "      <td>164.00</td>\n",
       "      <td>0.00</td>\n",
       "      <td>C2119910556</td>\n",
       "      <td>0.0</td>\n",
       "      <td>0.00</td>\n",
       "      <td>1</td>\n",
       "      <td>0</td>\n",
       "    </tr>\n",
       "    <tr>\n",
       "      <th>12180</th>\n",
       "      <td>7</td>\n",
       "      <td>CASH_OUT</td>\n",
       "      <td>164.00</td>\n",
       "      <td>C1173659886</td>\n",
       "      <td>164.00</td>\n",
       "      <td>0.00</td>\n",
       "      <td>C1769947269</td>\n",
       "      <td>4068.0</td>\n",
       "      <td>0.00</td>\n",
       "      <td>1</td>\n",
       "      <td>0</td>\n",
       "    </tr>\n",
       "  </tbody>\n",
       "</table>\n",
       "<p>116 rows × 11 columns</p>\n",
       "</div>"
      ],
      "text/plain": [
       "       step      type       amount     nameOrig  oldbalanceOrg  \\\n",
       "4441      4  CASH_OUT  10000000.00   C351297720    10000000.00   \n",
       "4440      4  TRANSFER  10000000.00     C7162498    12930418.44   \n",
       "10395     7  TRANSFER   5460002.91   C666654362     5460002.91   \n",
       "10396     7  CASH_OUT   5460002.91  C1588880909     5460002.91   \n",
       "4442      4  TRANSFER   2930418.44  C2047521920     2930418.44   \n",
       "...     ...       ...          ...          ...            ...   \n",
       "18772     8  CASH_OUT       222.00  C1737727444         222.00   \n",
       "3         1  CASH_OUT       181.00   C840083671         181.00   \n",
       "2         1  TRANSFER       181.00  C1305486145         181.00   \n",
       "12179     7  TRANSFER       164.00  C1455969984         164.00   \n",
       "12180     7  CASH_OUT       164.00  C1173659886         164.00   \n",
       "\n",
       "       newbalanceOrig     nameDest  oldbalanceDest  newbalanceDest  isFraud  \\\n",
       "4441             0.00   C766681183             0.0      9941904.21        1   \n",
       "4440       2930418.44   C945327594             0.0            0.00        1   \n",
       "10395            0.00  C1726301214             0.0            0.00        1   \n",
       "10396            0.00  C1570256460             0.0      9281535.44        1   \n",
       "4442             0.00   C449261773             0.0            0.00        1   \n",
       "...               ...          ...             ...             ...      ...   \n",
       "18772            0.00   C588779235         24708.0       171647.35        1   \n",
       "3                0.00    C38997010         21182.0            0.00        1   \n",
       "2                0.00   C553264065             0.0            0.00        1   \n",
       "12179            0.00  C2119910556             0.0            0.00        1   \n",
       "12180            0.00  C1769947269          4068.0            0.00        1   \n",
       "\n",
       "       isFlaggedFraud  \n",
       "4441                0  \n",
       "4440                0  \n",
       "10395               0  \n",
       "10396               0  \n",
       "4442                0  \n",
       "...               ...  \n",
       "18772               0  \n",
       "3                   0  \n",
       "2                   0  \n",
       "12179               0  \n",
       "12180               0  \n",
       "\n",
       "[116 rows x 11 columns]"
      ]
     },
     "execution_count": 120,
     "metadata": {},
     "output_type": "execute_result"
    }
   ],
   "source": [
    "fraud_amount= df[df.isFraud==1]\n",
    "fraud_amount=fraud_amount.sort_values(by=['amount'],ascending=False)\n",
    "fraud_amount"
   ]
  },
  {
   "cell_type": "code",
   "execution_count": 121,
   "id": "295b156c",
   "metadata": {},
   "outputs": [
    {
     "data": {
      "text/plain": [
       "<AxesSubplot:ylabel='Frequency'>"
      ]
     },
     "execution_count": 121,
     "metadata": {},
     "output_type": "execute_result"
    },
    {
     "data": {
      "image/png": "[encoded data removed]",
      "text/plain": [
       "<Figure size 864x432 with 1 Axes>"
      ]
     },
     "metadata": {},
     "output_type": "display_data"
    }
   ],
   "source": [
    "fraud_amount.amount.plot(kind='hist', bins=15, figsize=(12,6), facecolor='orange',edgecolor='black')"
   ]
  },
  {
   "cell_type": "code",
   "execution_count": 123,
   "id": "e2e91bcc",
   "metadata": {},
   "outputs": [
    {
     "data": {
      "text/plain": [
       "0    99884\n",
       "1      116\n",
       "Name: isFraud, dtype: int64"
      ]
     },
     "execution_count": 123,
     "metadata": {},
     "output_type": "execute_result"
    }
   ],
   "source": [
    "df.isFraud.value_counts()"
   ]
  },
  {
   "cell_type": "code",
   "execution_count": 126,
   "id": "b58aca9f",
   "metadata": {},
   "outputs": [
    {
     "data": {
      "text/html": [
       "<div>\n",
       "<style scoped>\n",
       "    .dataframe tbody tr th:only-of-type {\n",
       "        vertical-align: middle;\n",
       "    }\n",
       "\n",
       "    .dataframe tbody tr th {\n",
       "        vertical-align: top;\n",
       "    }\n",
       "\n",
       "    .dataframe thead th {\n",
       "        text-align: right;\n",
       "    }\n",
       "</style>\n",
       "<table border=\"1\" class=\"dataframe\">\n",
       "  <thead>\n",
       "    <tr style=\"text-align: right;\">\n",
       "      <th>isFraud</th>\n",
       "      <th>0</th>\n",
       "      <th>1</th>\n",
       "    </tr>\n",
       "    <tr>\n",
       "      <th>type</th>\n",
       "      <th></th>\n",
       "      <th></th>\n",
       "    </tr>\n",
       "  </thead>\n",
       "  <tbody>\n",
       "    <tr>\n",
       "      <th>CASH_IN</th>\n",
       "      <td>20185</td>\n",
       "      <td>0</td>\n",
       "    </tr>\n",
       "    <tr>\n",
       "      <th>CASH_OUT</th>\n",
       "      <td>30659</td>\n",
       "      <td>59</td>\n",
       "    </tr>\n",
       "    <tr>\n",
       "      <th>DEBIT</th>\n",
       "      <td>988</td>\n",
       "      <td>0</td>\n",
       "    </tr>\n",
       "    <tr>\n",
       "      <th>PAYMENT</th>\n",
       "      <td>39512</td>\n",
       "      <td>0</td>\n",
       "    </tr>\n",
       "    <tr>\n",
       "      <th>TRANSFER</th>\n",
       "      <td>8540</td>\n",
       "      <td>57</td>\n",
       "    </tr>\n",
       "  </tbody>\n",
       "</table>\n",
       "</div>"
      ],
      "text/plain": [
       "isFraud       0   1\n",
       "type               \n",
       "CASH_IN   20185   0\n",
       "CASH_OUT  30659  59\n",
       "DEBIT       988   0\n",
       "PAYMENT   39512   0\n",
       "TRANSFER   8540  57"
      ]
     },
     "execution_count": 126,
     "metadata": {},
     "output_type": "execute_result"
    }
   ],
   "source": [
    "CrosstabResult=pd.crosstab(index=df.type,columns=df.isFraud)\n",
    "CrosstabResult"
   ]
  },
  {
   "cell_type": "code",
   "execution_count": null,
   "id": "b8f2c10b",
   "metadata": {},
   "outputs": [],
   "source": []
  },
  {
   "cell_type": "markdown",
   "id": "f75f5c25",
   "metadata": {},
   "source": [
    "Bivariate Analysis"
   ]
  },
  {
   "cell_type": "code",
   "execution_count": 21,
   "id": "4b828dd0",
   "metadata": {},
   "outputs": [
    {
     "name": "stdout",
     "output_type": "stream",
     "text": [
      "Chi-square statistic: 307.8430555995066\n",
      "P-value: 2.2021231459327e-65\n"
     ]
    }
   ],
   "source": [
    "# Create a contingency table of \"isFraud\" and \"type\"\n",
    "contingency_table = pd.crosstab(df['isFraud'], df['type'])\n",
    "\n",
    "# Perform a chi-square test\n",
    "from scipy.stats import chi2_contingency\n",
    "stat, p, dof, expected = chi2_contingency(contingency_table)\n",
    "print(\"Chi-square statistic:\", stat)\n",
    "print(\"P-value:\", p)"
   ]
  },
  {
   "cell_type": "code",
   "execution_count": 22,
   "id": "ba8a435d",
   "metadata": {},
   "outputs": [
    {
     "data": {
      "image/png": "[encoded data removed]",
      "text/plain": [
       "<Figure size 432x288 with 1 Axes>"
      ]
     },
     "metadata": {
      "needs_background": "light"
     },
     "output_type": "display_data"
    },
    {
     "data": {
      "image/png": "[encoded data removed]",
      "text/plain": [
       "<Figure size 432x288 with 1 Axes>"
      ]
     },
     "metadata": {
      "needs_background": "light"
     },
     "output_type": "display_data"
    }
   ],
   "source": [
    "# Box plot of \"amount\" for \"isFraud\" categories\n",
    "df.boxplot(column='amount', by='isFraud')\n",
    "plt.show()\n",
    "\n",
    "# Violin plot of \"amount\" for \"isFraud\" categories\n",
    "import seaborn as sns\n",
    "sns.violinplot(x='isFraud', y='amount', data=df)\n",
    "plt.show()"
   ]
  },
  {
   "cell_type": "code",
   "execution_count": 23,
   "id": "fe526420",
   "metadata": {},
   "outputs": [
    {
     "data": {
      "image/png": "[encoded data removed]",
      "text/plain": [
       "<Figure size 432x288 with 1 Axes>"
      ]
     },
     "metadata": {
      "needs_background": "light"
     },
     "output_type": "display_data"
    },
    {
     "name": "stdout",
     "output_type": "stream",
     "text": [
      "Correlation coefficient: 0.9988463448417012\n",
      "P-value: 0.0\n"
     ]
    }
   ],
   "source": [
    "# Scatter plot of \"oldbalanceOrg\" vs \"newbalanceOrig\"\n",
    "plt.scatter(df['oldbalanceOrg'], df['newbalanceOrig'])\n",
    "plt.xlabel('oldbalanceOrg')\n",
    "plt.ylabel('newbalanceOrig')\n",
    "plt.show()\n",
    "\n",
    "# Calculate the correlation coefficient\n",
    "from scipy.stats import pearsonr\n",
    "corr, p_value = pearsonr(df['oldbalanceOrg'], df['newbalanceOrig'])\n",
    "print(\"Correlation coefficient:\", corr)\n",
    "print(\"P-value:\", p_value)"
   ]
  },
  {
   "cell_type": "markdown",
   "id": "e534b87c",
   "metadata": {},
   "source": [
    "Multivariate Analysis"
   ]
  },
  {
   "cell_type": "code",
   "execution_count": 24,
   "id": "eccfa054",
   "metadata": {},
   "outputs": [
    {
     "data": {
      "image/png": "[encoded data removed]",
      "text/plain": [
       "<Figure size 360x360 with 6 Axes>"
      ]
     },
     "metadata": {
      "needs_background": "light"
     },
     "output_type": "display_data"
    },
    {
     "data": {
      "image/png": "[encoded data removed]",
      "text/plain": [
       "<Figure size 432x288 with 2 Axes>"
      ]
     },
     "metadata": {
      "needs_background": "light"
     },
     "output_type": "display_data"
    }
   ],
   "source": [
    "# Scatter plot matrix of \"isFraud\", \"type\", and \"amount\"\n",
    "sns.pairplot(df[['isFraud', 'type', 'amount']])\n",
    "plt.show()\n",
    "\n",
    "# Heatmap of correlation between \"isFraud\", \"type\", and \"amount\"\n",
    "corr_matrix = df[['isFraud', 'type', 'amount']].corr()\n",
    "sns.heatmap(corr_matrix, annot=True, cmap='coolwarm')\n",
    "plt.show()"
   ]
  },
  {
   "cell_type": "code",
   "execution_count": 25,
   "id": "aa10ccc9",
   "metadata": {},
   "outputs": [
    {
     "data": {
      "image/png": "[encoded data removed]",
      "text/plain": [
       "<Figure size 432x288 with 1 Axes>"
      ]
     },
     "metadata": {
      "needs_background": "light"
     },
     "output_type": "display_data"
    },
    {
     "data": {
      "image/png": "[encoded data removed]",
      "text/plain": [
       "<Figure size 540x540 with 12 Axes>"
      ]
     },
     "metadata": {
      "needs_background": "light"
     },
     "output_type": "display_data"
    }
   ],
   "source": [
    "# 3D scatter plot of \"oldbalanceOrg\", \"newbalanceOrig\", and \"isFraud\"\n",
    "from mpl_toolkits.mplot3d import Axes3D\n",
    "fig = plt.figure()\n",
    "ax = fig.add_subplot(111, projection='3d')\n",
    "ax.scatter(df['oldbalanceOrg'], df['newbalanceOrig'], df['isFraud'])\n",
    "ax.set_xlabel('oldbalanceOrg')\n",
    "ax.set_ylabel('newbalanceOrig')\n",
    "ax.set_zlabel('isFraud')\n",
    "plt.show()\n",
    "\n",
    "# Scatter plot matrix of \"oldbalanceOrg\", \"newbalanceOrig\", and \"isFraud\"\n",
    "sns.pairplot(df[['oldbalanceOrg', 'newbalanceOrig', 'isFraud']])\n",
    "plt.show()"
   ]
  },
  {
   "cell_type": "markdown",
   "id": "8ddc9f8f",
   "metadata": {},
   "source": [
    "Outlier Detection"
   ]
  },
  {
   "cell_type": "code",
   "execution_count": 26,
   "id": "e34d133b",
   "metadata": {},
   "outputs": [
    {
     "data": {
      "image/png": "[encoded data removed]",
      "text/plain": [
       "<Figure size 432x288 with 1 Axes>"
      ]
     },
     "metadata": {
      "needs_background": "light"
     },
     "output_type": "display_data"
    },
    {
     "data": {
      "image/png": "[encoded data removed]",
      "text/plain": [
       "<Figure size 432x288 with 1 Axes>"
      ]
     },
     "metadata": {
      "needs_background": "light"
     },
     "output_type": "display_data"
    },
    {
     "data": {
      "image/png": "[encoded data removed]",
      "text/plain": [
       "<Figure size 432x288 with 1 Axes>"
      ]
     },
     "metadata": {
      "needs_background": "light"
     },
     "output_type": "display_data"
    },
    {
     "data": {
      "image/png": "[encoded data removed]",
      "text/plain": [
       "<Figure size 432x288 with 1 Axes>"
      ]
     },
     "metadata": {
      "needs_background": "light"
     },
     "output_type": "display_data"
    },
    {
     "data": {
      "image/png": "[encoded data removed]",
      "text/plain": [
       "<Figure size 432x288 with 1 Axes>"
      ]
     },
     "metadata": {
      "needs_background": "light"
     },
     "output_type": "display_data"
    }
   ],
   "source": [
    "# Box plot of \"amount\"\n",
    "sns.boxplot(x=df['amount'])\n",
    "plt.show()\n",
    "\n",
    "# Box plot of \"oldbalanceOrg\"\n",
    "sns.boxplot(x=df['oldbalanceOrg'])\n",
    "plt.show()\n",
    "\n",
    "# Box plot of \"newbalanceOrig\"\n",
    "sns.boxplot(x=df['newbalanceOrig'])\n",
    "plt.show()\n",
    "\n",
    "# Box plot of \"oldbalanceDest\"\n",
    "sns.boxplot(x=df['oldbalanceDest'])\n",
    "plt.show()\n",
    "\n",
    "# Box plot of \"newbalanceDest\"\n",
    "sns.boxplot(x=df['newbalanceDest'])\n",
    "plt.show()"
   ]
  },
  {
   "cell_type": "markdown",
   "id": "266403e8",
   "metadata": {},
   "source": [
    "A z-score greater than 3 or less than -3 is considered an outlier."
   ]
  },
  {
   "cell_type": "code",
   "execution_count": 27,
   "id": "f1d83a35",
   "metadata": {},
   "outputs": [
    {
     "name": "stdout",
     "output_type": "stream",
     "text": [
      "       step      type      amount     nameOrig  oldbalanceOrg  newbalanceOrig  \\\n",
      "85        1  TRANSFER  1505626.01   C926859124           0.00             0.0   \n",
      "89        1  TRANSFER  1429051.47  C1520267010           0.00             0.0   \n",
      "94        1  TRANSFER  1724887.05  C1495608502           0.00             0.0   \n",
      "358       1  TRANSFER  1538200.39   C476579021           0.00             0.0   \n",
      "359       1  TRANSFER  2421578.09   C106297322           0.00             0.0   \n",
      "...     ...       ...         ...          ...            ...             ...   \n",
      "99929    10  TRANSFER  1428341.97   C344874698       90602.00             0.0   \n",
      "99930    10  TRANSFER  1707531.43   C407521144       31384.00             0.0   \n",
      "99937    10  TRANSFER  1966197.94   C620820455       19534.00             0.0   \n",
      "99961    10  TRANSFER  1295693.90   C158104172      178872.78             0.0   \n",
      "99974    10  TRANSFER  2920612.16   C204961550       49919.00             0.0   \n",
      "\n",
      "          nameDest  oldbalanceDest  newbalanceDest  isFraud  isFlaggedFraud  \\\n",
      "85      C665576141        29031.00      5515763.34        0               0   \n",
      "89     C1590550415      2041543.62     19169204.93        0               0   \n",
      "94     C1590550415      3470595.10     19169204.93        0               0   \n",
      "358    C1590550415      6977445.38     19169204.93        0               0   \n",
      "359    C1590550415      8515645.77     19169204.93        0               0   \n",
      "...            ...             ...             ...      ...             ...   \n",
      "99929   C453595223        11723.15      1440065.12        0               0   \n",
      "99930  C1689152633            0.00      2663337.26        0               0   \n",
      "99937  C1649389360       393737.15      2042657.38        0               0   \n",
      "99961  C1544755390     12355319.23     13303747.61        0               0   \n",
      "99974   C498202206       105349.42      2890188.53        0               0   \n",
      "\n",
      "       amount_zscore  \n",
      "85          3.868804  \n",
      "89          3.646397  \n",
      "94          4.505638  \n",
      "358         3.963415  \n",
      "359         6.529146  \n",
      "...              ...  \n",
      "99929       3.644336  \n",
      "99930       4.455229  \n",
      "99937       5.206515  \n",
      "99961       3.259065  \n",
      "99974       7.978568  \n",
      "\n",
      "[2314 rows x 12 columns]\n"
     ]
    }
   ],
   "source": [
    "# Calculate the z-score for \"amount\"\n",
    "from scipy.stats import zscore\n",
    "df['amount_zscore'] = zscore(df['amount'])\n",
    "outliers = df[(df['amount_zscore'] > 3) | (df['amount_zscore'] < -3)]\n",
    "print(outliers)"
   ]
  },
  {
   "cell_type": "markdown",
   "id": "40e71098",
   "metadata": {},
   "source": [
    "Data points that are more than 1.5 times the IQR below the first quartile or above the third quartile are considered outliers"
   ]
  },
  {
   "cell_type": "code",
   "execution_count": 28,
   "id": "ca13fb1c",
   "metadata": {},
   "outputs": [
    {
     "name": "stdout",
     "output_type": "stream",
     "text": [
      "       step      type     amount     nameOrig  oldbalanceOrg  newbalanceOrig  \\\n",
      "14        1   PAYMENT    4098.78  C1026483832      503264.00       499165.22   \n",
      "62        1     DEBIT    8727.74   C166694583      882770.00       874042.26   \n",
      "63        1   PAYMENT    2599.46   C885910946      874042.26       871442.79   \n",
      "241       1   PAYMENT    4635.18  C1110698130     6313782.05      6309146.87   \n",
      "242       1   PAYMENT    1267.97  C1053632127     6309146.87      6307878.90   \n",
      "...     ...       ...        ...          ...            ...             ...   \n",
      "99925    10   PAYMENT    5354.04   C188009838     3762749.80      3757395.76   \n",
      "99926    10   PAYMENT    2624.51   C493120200     3757395.76      3754771.25   \n",
      "99935    10   PAYMENT    1956.80  C1956363687     1443925.64      1441968.84   \n",
      "99936    10  CASH_OUT  146494.55  C1629641318     1441968.84      1295474.29   \n",
      "99943    10   CASH_IN  137851.05  C1075450889      569109.00       706960.05   \n",
      "\n",
      "          nameDest  oldbalanceDest  newbalanceDest  isFraud  isFlaggedFraud  \\\n",
      "14     M1635378213            0.00            0.00        0               0   \n",
      "62     C1129670968        12636.00            0.00        0               0   \n",
      "63     M1860591867            0.00            0.00        0               0   \n",
      "241     M125644421            0.00            0.00        0               0   \n",
      "242    M1493158871            0.00            0.00        0               0   \n",
      "...            ...             ...             ...      ...             ...   \n",
      "99925   M704647129            0.00            0.00        0               0   \n",
      "99926   M455451207            0.00            0.00        0               0   \n",
      "99935  M1000783032            0.00            0.00        0               0   \n",
      "99936  C1401316767      2082733.39      2229227.94        0               0   \n",
      "99943   C244428576            0.00            0.00        0               0   \n",
      "\n",
      "       amount_zscore  \n",
      "14         -0.492315  \n",
      "62         -0.478871  \n",
      "63         -0.496670  \n",
      "241        -0.490757  \n",
      "242        -0.500537  \n",
      "...              ...  \n",
      "99925      -0.488669  \n",
      "99926      -0.496597  \n",
      "99935      -0.498537  \n",
      "99936      -0.078733  \n",
      "99943      -0.103838  \n",
      "\n",
      "[18335 rows x 12 columns]\n"
     ]
    }
   ],
   "source": [
    "# Calculate the IQR for \"oldbalanceOrg\"\n",
    "Q1 = df['oldbalanceOrg'].quantile(0.25)\n",
    "Q3 = df['oldbalanceOrg'].quantile(0.75)\n",
    "IQR = Q3 - Q1\n",
    "\n",
    "# Identify the outliers\n",
    "outliers = df[(df['oldbalanceOrg'] < (Q1 - 1.5 * IQR)) | (df['oldbalanceOrg'] > (Q3 + 1.5 * IQR))]\n",
    "print(outliers)"
   ]
  },
  {
   "cell_type": "markdown",
   "id": "8e6ceaa2",
   "metadata": {},
   "source": [
    "Feature Engineering"
   ]
  },
  {
   "cell_type": "code",
   "execution_count": 128,
   "id": "8f6ae7f5",
   "metadata": {},
   "outputs": [],
   "source": [
    "df['amount_diff'] = df['oldbalanceOrg'] - df['newbalanceOrig']"
   ]
  },
  {
   "cell_type": "code",
   "execution_count": 129,
   "id": "0cb653a6",
   "metadata": {},
   "outputs": [],
   "source": [
    "df['hour'] = pd.to_datetime(df['step'], unit='h').dt.hour"
   ]
  },
  {
   "cell_type": "code",
   "execution_count": 130,
   "id": "8de34a43",
   "metadata": {},
   "outputs": [],
   "source": [
    "def account_type(name):\n",
    "    if name.startswith('C'):\n",
    "        return 'customer'\n",
    "    elif name.startswith('M'):\n",
    "        return 'merchant'\n",
    "    else:\n",
    "        return 'unknown'\n",
    "\n",
    "df['account_type'] = df['nameOrig'].apply(account_type)"
   ]
  },
  {
   "cell_type": "code",
   "execution_count": 131,
   "id": "58870a99",
   "metadata": {},
   "outputs": [],
   "source": [
    "freq = df.groupby('nameOrig')['step'].diff().fillna(0)\n",
    "df['transaction_freq'] = freq.apply(lambda x: 1 if x == 0 else 1/x)"
   ]
  },
  {
   "cell_type": "code",
   "execution_count": 132,
   "id": "3cb939e9",
   "metadata": {},
   "outputs": [],
   "source": [
    "df['transaction_volume'] = df.groupby('nameOrig')['amount'].cumsum()"
   ]
  },
  {
   "cell_type": "code",
   "execution_count": 133,
   "id": "52060bc5",
   "metadata": {},
   "outputs": [
    {
     "data": {
      "text/html": [
       "<div>\n",
       "<style scoped>\n",
       "    .dataframe tbody tr th:only-of-type {\n",
       "        vertical-align: middle;\n",
       "    }\n",
       "\n",
       "    .dataframe tbody tr th {\n",
       "        vertical-align: top;\n",
       "    }\n",
       "\n",
       "    .dataframe thead th {\n",
       "        text-align: right;\n",
       "    }\n",
       "</style>\n",
       "<table border=\"1\" class=\"dataframe\">\n",
       "  <thead>\n",
       "    <tr style=\"text-align: right;\">\n",
       "      <th></th>\n",
       "      <th>step</th>\n",
       "      <th>type</th>\n",
       "      <th>amount</th>\n",
       "      <th>nameOrig</th>\n",
       "      <th>oldbalanceOrg</th>\n",
       "      <th>newbalanceOrig</th>\n",
       "      <th>nameDest</th>\n",
       "      <th>oldbalanceDest</th>\n",
       "      <th>newbalanceDest</th>\n",
       "      <th>isFraud</th>\n",
       "      <th>isFlaggedFraud</th>\n",
       "      <th>amount_diff</th>\n",
       "      <th>hour</th>\n",
       "      <th>account_type</th>\n",
       "      <th>transaction_freq</th>\n",
       "      <th>transaction_volume</th>\n",
       "    </tr>\n",
       "  </thead>\n",
       "  <tbody>\n",
       "    <tr>\n",
       "      <th>0</th>\n",
       "      <td>1</td>\n",
       "      <td>PAYMENT</td>\n",
       "      <td>9839.64</td>\n",
       "      <td>C1231006815</td>\n",
       "      <td>170136.0</td>\n",
       "      <td>160296.36</td>\n",
       "      <td>M1979787155</td>\n",
       "      <td>0.0</td>\n",
       "      <td>0.0</td>\n",
       "      <td>0</td>\n",
       "      <td>0</td>\n",
       "      <td>9839.64</td>\n",
       "      <td>1</td>\n",
       "      <td>customer</td>\n",
       "      <td>1</td>\n",
       "      <td>9839.64</td>\n",
       "    </tr>\n",
       "    <tr>\n",
       "      <th>1</th>\n",
       "      <td>1</td>\n",
       "      <td>PAYMENT</td>\n",
       "      <td>1864.28</td>\n",
       "      <td>C1666544295</td>\n",
       "      <td>21249.0</td>\n",
       "      <td>19384.72</td>\n",
       "      <td>M2044282225</td>\n",
       "      <td>0.0</td>\n",
       "      <td>0.0</td>\n",
       "      <td>0</td>\n",
       "      <td>0</td>\n",
       "      <td>1864.28</td>\n",
       "      <td>1</td>\n",
       "      <td>customer</td>\n",
       "      <td>1</td>\n",
       "      <td>1864.28</td>\n",
       "    </tr>\n",
       "    <tr>\n",
       "      <th>2</th>\n",
       "      <td>1</td>\n",
       "      <td>TRANSFER</td>\n",
       "      <td>181.00</td>\n",
       "      <td>C1305486145</td>\n",
       "      <td>181.0</td>\n",
       "      <td>0.00</td>\n",
       "      <td>C553264065</td>\n",
       "      <td>0.0</td>\n",
       "      <td>0.0</td>\n",
       "      <td>1</td>\n",
       "      <td>0</td>\n",
       "      <td>181.00</td>\n",
       "      <td>1</td>\n",
       "      <td>customer</td>\n",
       "      <td>1</td>\n",
       "      <td>181.00</td>\n",
       "    </tr>\n",
       "    <tr>\n",
       "      <th>3</th>\n",
       "      <td>1</td>\n",
       "      <td>CASH_OUT</td>\n",
       "      <td>181.00</td>\n",
       "      <td>C840083671</td>\n",
       "      <td>181.0</td>\n",
       "      <td>0.00</td>\n",
       "      <td>C38997010</td>\n",
       "      <td>21182.0</td>\n",
       "      <td>0.0</td>\n",
       "      <td>1</td>\n",
       "      <td>0</td>\n",
       "      <td>181.00</td>\n",
       "      <td>1</td>\n",
       "      <td>customer</td>\n",
       "      <td>1</td>\n",
       "      <td>181.00</td>\n",
       "    </tr>\n",
       "    <tr>\n",
       "      <th>4</th>\n",
       "      <td>1</td>\n",
       "      <td>PAYMENT</td>\n",
       "      <td>11668.14</td>\n",
       "      <td>C2048537720</td>\n",
       "      <td>41554.0</td>\n",
       "      <td>29885.86</td>\n",
       "      <td>M1230701703</td>\n",
       "      <td>0.0</td>\n",
       "      <td>0.0</td>\n",
       "      <td>0</td>\n",
       "      <td>0</td>\n",
       "      <td>11668.14</td>\n",
       "      <td>1</td>\n",
       "      <td>customer</td>\n",
       "      <td>1</td>\n",
       "      <td>11668.14</td>\n",
       "    </tr>\n",
       "  </tbody>\n",
       "</table>\n",
       "</div>"
      ],
      "text/plain": [
       "   step      type    amount     nameOrig  oldbalanceOrg  newbalanceOrig  \\\n",
       "0     1   PAYMENT   9839.64  C1231006815       170136.0       160296.36   \n",
       "1     1   PAYMENT   1864.28  C1666544295        21249.0        19384.72   \n",
       "2     1  TRANSFER    181.00  C1305486145          181.0            0.00   \n",
       "3     1  CASH_OUT    181.00   C840083671          181.0            0.00   \n",
       "4     1   PAYMENT  11668.14  C2048537720        41554.0        29885.86   \n",
       "\n",
       "      nameDest  oldbalanceDest  newbalanceDest  isFraud  isFlaggedFraud  \\\n",
       "0  M1979787155             0.0             0.0        0               0   \n",
       "1  M2044282225             0.0             0.0        0               0   \n",
       "2   C553264065             0.0             0.0        1               0   \n",
       "3    C38997010         21182.0             0.0        1               0   \n",
       "4  M1230701703             0.0             0.0        0               0   \n",
       "\n",
       "   amount_diff  hour account_type  transaction_freq  transaction_volume  \n",
       "0      9839.64     1     customer                 1             9839.64  \n",
       "1      1864.28     1     customer                 1             1864.28  \n",
       "2       181.00     1     customer                 1              181.00  \n",
       "3       181.00     1     customer                 1              181.00  \n",
       "4     11668.14     1     customer                 1            11668.14  "
      ]
     },
     "execution_count": 133,
     "metadata": {},
     "output_type": "execute_result"
    }
   ],
   "source": [
    "df.head()"
   ]
  },
  {
   "cell_type": "markdown",
   "id": "5c77f148",
   "metadata": {},
   "source": [
    "More EDA with the Feature Engineering data points"
   ]
  },
  {
   "cell_type": "code",
   "execution_count": 135,
   "id": "a6b443cd",
   "metadata": {},
   "outputs": [
    {
     "data": {
      "text/plain": [
       "Text(0.5, 1.0, 'Transaction Amount Difference vs. Fraudulent Transactions\\n')"
      ]
     },
     "execution_count": 135,
     "metadata": {},
     "output_type": "execute_result"
    },
    {
     "data": {
      "image/png": "[encoded data removed]",
      "text/plain": [
       "<Figure size 432x288 with 1 Axes>"
      ]
     },
     "metadata": {},
     "output_type": "display_data"
    }
   ],
   "source": [
    "sns.boxplot(x='isFraud', y='amount_diff', data=df)\n",
    "plt.title('Transaction Amount Difference vs. Fraudulent Transactions\\n')"
   ]
  },
  {
   "cell_type": "code",
   "execution_count": 36,
   "id": "8c7fffa6",
   "metadata": {},
   "outputs": [
    {
     "data": {
      "text/plain": [
       "Text(0.5, 1.0, 'Account Type vs. Fraudulent Transactions')"
      ]
     },
     "execution_count": 36,
     "metadata": {},
     "output_type": "execute_result"
    },
    {
     "data": {
      "image/png": "[encoded data removed]",
      "text/plain": [
       "<Figure size 432x288 with 1 Axes>"
      ]
     },
     "metadata": {
      "needs_background": "light"
     },
     "output_type": "display_data"
    }
   ],
   "source": [
    "sns.countplot(x='account_type', hue='isFraud', data=df)\n",
    "plt.title('Account Type vs. Fraudulent Transactions')"
   ]
  },
  {
   "cell_type": "code",
   "execution_count": 37,
   "id": "aa32b1ef",
   "metadata": {},
   "outputs": [
    {
     "data": {
      "text/plain": [
       "Text(0.5, 1.0, 'Transaction Frequency vs. Fraudulent Transactions')"
      ]
     },
     "execution_count": 37,
     "metadata": {},
     "output_type": "execute_result"
    },
    {
     "data": {
      "image/png": "[encoded data removed]",
      "text/plain": [
       "<Figure size 432x288 with 1 Axes>"
      ]
     },
     "metadata": {
      "needs_background": "light"
     },
     "output_type": "display_data"
    }
   ],
   "source": [
    "sns.scatterplot(x='transaction_freq', y='isFraud', data=df)\n",
    "plt.title('Transaction Frequency vs. Fraudulent Transactions')"
   ]
  },
  {
   "cell_type": "markdown",
   "id": "89cfb993",
   "metadata": {},
   "source": [
    "# 3. Splitting features and target variable"
   ]
  },
  {
   "cell_type": "code",
   "execution_count": 38,
   "id": "d5029994",
   "metadata": {},
   "outputs": [
    {
     "data": {
      "text/plain": [
       "Index(['step', 'type', 'amount', 'nameOrig', 'oldbalanceOrg', 'newbalanceOrig',\n",
       "       'nameDest', 'oldbalanceDest', 'newbalanceDest', 'isFraud',\n",
       "       'isFlaggedFraud', 'amount_zscore', 'amount_diff', 'hour',\n",
       "       'account_type', 'transaction_freq', 'transaction_volume'],\n",
       "      dtype='object')"
      ]
     },
     "execution_count": 38,
     "metadata": {},
     "output_type": "execute_result"
    }
   ],
   "source": [
    "df.columns"
   ]
  },
  {
   "cell_type": "code",
   "execution_count": 39,
   "id": "65ed06fe",
   "metadata": {},
   "outputs": [],
   "source": [
    "X = df.drop(columns=['isFraud'])"
   ]
  },
  {
   "cell_type": "code",
   "execution_count": 40,
   "id": "6ce9d331",
   "metadata": {},
   "outputs": [],
   "source": [
    "y = df['isFraud']"
   ]
  },
  {
   "cell_type": "markdown",
   "id": "77eb4aba",
   "metadata": {},
   "source": [
    "# 4. Get dummies"
   ]
  },
  {
   "cell_type": "code",
   "execution_count": 41,
   "id": "9b20026e",
   "metadata": {},
   "outputs": [],
   "source": [
    "X = pd.get_dummies(X, columns=['type', 'account_type',], drop_first=True)"
   ]
  },
  {
   "cell_type": "code",
   "execution_count": 42,
   "id": "459ae24b",
   "metadata": {},
   "outputs": [],
   "source": [
    "X['nameOrig'] = X['nameOrig'].str[1:]\n",
    "X['nameDest'] = X['nameDest'].str[1:]"
   ]
  },
  {
   "cell_type": "code",
   "execution_count": 43,
   "id": "819a8539",
   "metadata": {},
   "outputs": [
    {
     "data": {
      "text/html": [
       "<div>\n",
       "<style scoped>\n",
       "    .dataframe tbody tr th:only-of-type {\n",
       "        vertical-align: middle;\n",
       "    }\n",
       "\n",
       "    .dataframe tbody tr th {\n",
       "        vertical-align: top;\n",
       "    }\n",
       "\n",
       "    .dataframe thead th {\n",
       "        text-align: right;\n",
       "    }\n",
       "</style>\n",
       "<table border=\"1\" class=\"dataframe\">\n",
       "  <thead>\n",
       "    <tr style=\"text-align: right;\">\n",
       "      <th></th>\n",
       "      <th>step</th>\n",
       "      <th>amount</th>\n",
       "      <th>nameOrig</th>\n",
       "      <th>oldbalanceOrg</th>\n",
       "      <th>newbalanceOrig</th>\n",
       "      <th>nameDest</th>\n",
       "      <th>oldbalanceDest</th>\n",
       "      <th>newbalanceDest</th>\n",
       "      <th>isFlaggedFraud</th>\n",
       "      <th>amount_zscore</th>\n",
       "      <th>amount_diff</th>\n",
       "      <th>hour</th>\n",
       "      <th>transaction_freq</th>\n",
       "      <th>transaction_volume</th>\n",
       "      <th>type_CASH_OUT</th>\n",
       "      <th>type_DEBIT</th>\n",
       "      <th>type_PAYMENT</th>\n",
       "      <th>type_TRANSFER</th>\n",
       "    </tr>\n",
       "  </thead>\n",
       "  <tbody>\n",
       "    <tr>\n",
       "      <th>0</th>\n",
       "      <td>1</td>\n",
       "      <td>9839.64</td>\n",
       "      <td>1231006815</td>\n",
       "      <td>170136.0</td>\n",
       "      <td>160296.36</td>\n",
       "      <td>1979787155</td>\n",
       "      <td>0.0</td>\n",
       "      <td>0.0</td>\n",
       "      <td>0</td>\n",
       "      <td>-0.475641</td>\n",
       "      <td>9839.64</td>\n",
       "      <td>1</td>\n",
       "      <td>1</td>\n",
       "      <td>9839.64</td>\n",
       "      <td>0</td>\n",
       "      <td>0</td>\n",
       "      <td>1</td>\n",
       "      <td>0</td>\n",
       "    </tr>\n",
       "    <tr>\n",
       "      <th>1</th>\n",
       "      <td>1</td>\n",
       "      <td>1864.28</td>\n",
       "      <td>1666544295</td>\n",
       "      <td>21249.0</td>\n",
       "      <td>19384.72</td>\n",
       "      <td>2044282225</td>\n",
       "      <td>0.0</td>\n",
       "      <td>0.0</td>\n",
       "      <td>0</td>\n",
       "      <td>-0.498805</td>\n",
       "      <td>1864.28</td>\n",
       "      <td>1</td>\n",
       "      <td>1</td>\n",
       "      <td>1864.28</td>\n",
       "      <td>0</td>\n",
       "      <td>0</td>\n",
       "      <td>1</td>\n",
       "      <td>0</td>\n",
       "    </tr>\n",
       "    <tr>\n",
       "      <th>2</th>\n",
       "      <td>1</td>\n",
       "      <td>181.00</td>\n",
       "      <td>1305486145</td>\n",
       "      <td>181.0</td>\n",
       "      <td>0.00</td>\n",
       "      <td>553264065</td>\n",
       "      <td>0.0</td>\n",
       "      <td>0.0</td>\n",
       "      <td>0</td>\n",
       "      <td>-0.503694</td>\n",
       "      <td>181.00</td>\n",
       "      <td>1</td>\n",
       "      <td>1</td>\n",
       "      <td>181.00</td>\n",
       "      <td>0</td>\n",
       "      <td>0</td>\n",
       "      <td>0</td>\n",
       "      <td>1</td>\n",
       "    </tr>\n",
       "    <tr>\n",
       "      <th>3</th>\n",
       "      <td>1</td>\n",
       "      <td>181.00</td>\n",
       "      <td>840083671</td>\n",
       "      <td>181.0</td>\n",
       "      <td>0.00</td>\n",
       "      <td>38997010</td>\n",
       "      <td>21182.0</td>\n",
       "      <td>0.0</td>\n",
       "      <td>0</td>\n",
       "      <td>-0.503694</td>\n",
       "      <td>181.00</td>\n",
       "      <td>1</td>\n",
       "      <td>1</td>\n",
       "      <td>181.00</td>\n",
       "      <td>1</td>\n",
       "      <td>0</td>\n",
       "      <td>0</td>\n",
       "      <td>0</td>\n",
       "    </tr>\n",
       "    <tr>\n",
       "      <th>4</th>\n",
       "      <td>1</td>\n",
       "      <td>11668.14</td>\n",
       "      <td>2048537720</td>\n",
       "      <td>41554.0</td>\n",
       "      <td>29885.86</td>\n",
       "      <td>1230701703</td>\n",
       "      <td>0.0</td>\n",
       "      <td>0.0</td>\n",
       "      <td>0</td>\n",
       "      <td>-0.470330</td>\n",
       "      <td>11668.14</td>\n",
       "      <td>1</td>\n",
       "      <td>1</td>\n",
       "      <td>11668.14</td>\n",
       "      <td>0</td>\n",
       "      <td>0</td>\n",
       "      <td>1</td>\n",
       "      <td>0</td>\n",
       "    </tr>\n",
       "  </tbody>\n",
       "</table>\n",
       "</div>"
      ],
      "text/plain": [
       "   step    amount    nameOrig  oldbalanceOrg  newbalanceOrig    nameDest  \\\n",
       "0     1   9839.64  1231006815       170136.0       160296.36  1979787155   \n",
       "1     1   1864.28  1666544295        21249.0        19384.72  2044282225   \n",
       "2     1    181.00  1305486145          181.0            0.00   553264065   \n",
       "3     1    181.00   840083671          181.0            0.00    38997010   \n",
       "4     1  11668.14  2048537720        41554.0        29885.86  1230701703   \n",
       "\n",
       "   oldbalanceDest  newbalanceDest  isFlaggedFraud  amount_zscore  amount_diff  \\\n",
       "0             0.0             0.0               0      -0.475641      9839.64   \n",
       "1             0.0             0.0               0      -0.498805      1864.28   \n",
       "2             0.0             0.0               0      -0.503694       181.00   \n",
       "3         21182.0             0.0               0      -0.503694       181.00   \n",
       "4             0.0             0.0               0      -0.470330     11668.14   \n",
       "\n",
       "   hour  transaction_freq  transaction_volume  type_CASH_OUT  type_DEBIT  \\\n",
       "0     1                 1             9839.64              0           0   \n",
       "1     1                 1             1864.28              0           0   \n",
       "2     1                 1              181.00              0           0   \n",
       "3     1                 1              181.00              1           0   \n",
       "4     1                 1            11668.14              0           0   \n",
       "\n",
       "   type_PAYMENT  type_TRANSFER  \n",
       "0             1              0  \n",
       "1             1              0  \n",
       "2             0              1  \n",
       "3             0              0  \n",
       "4             1              0  "
      ]
     },
     "execution_count": 43,
     "metadata": {},
     "output_type": "execute_result"
    }
   ],
   "source": [
    "X.head()"
   ]
  },
  {
   "cell_type": "markdown",
   "id": "016148ff",
   "metadata": {},
   "source": [
    "# 5. Split into train test set"
   ]
  },
  {
   "cell_type": "code",
   "execution_count": 44,
   "id": "2a3d1695",
   "metadata": {},
   "outputs": [],
   "source": [
    "from sklearn.model_selection import train_test_split"
   ]
  },
  {
   "cell_type": "code",
   "execution_count": 45,
   "id": "37276152",
   "metadata": {},
   "outputs": [],
   "source": [
    "from imblearn.over_sampling import SMOTE\n",
    "sm=SMOTE(random_state=42)\n",
    "x_res, y_res=sm.fit_resample(X,y)"
   ]
  },
  {
   "cell_type": "code",
   "execution_count": 46,
   "id": "9304b1bf",
   "metadata": {},
   "outputs": [
    {
     "data": {
      "image/png": "[encoded data removed]",
      "text/plain": [
       "<Figure size 720x360 with 2 Axes>"
      ]
     },
     "metadata": {
      "needs_background": "light"
     },
     "output_type": "display_data"
    }
   ],
   "source": [
    "# Create a figure with two subplots\n",
    "fig, axs = plt.subplots(ncols=2, figsize=(10, 5))\n",
    "\n",
    "# Plot the distribution of the original data\n",
    "sns.countplot(x=y, ax=axs[0])\n",
    "axs[0].set_title('Distribution of target variable (before SMOTE)')\n",
    "\n",
    "# Plot the distribution of the resampled data\n",
    "sns.countplot(x=y_res, ax=axs[1])\n",
    "axs[1].set_title('Distribution of target variable (after SMOTE)')\n",
    "\n",
    "# Show the plot\n",
    "plt.tight_layout()\n",
    "plt.show()"
   ]
  },
  {
   "cell_type": "code",
   "execution_count": 47,
   "id": "862c009a",
   "metadata": {},
   "outputs": [],
   "source": [
    "#split imbalanced datasets\n",
    "X_train, X_test, y_train, y_test = train_test_split(X, y, test_size=0.2, random_state=42)"
   ]
  },
  {
   "cell_type": "code",
   "execution_count": 48,
   "id": "959e2d5d",
   "metadata": {},
   "outputs": [],
   "source": [
    "#split balanced datasets\n",
    "xb_train,xb_test,yb_train,yb_test=train_test_split(x_res,y_res,test_size=0.2,random_state=42)"
   ]
  },
  {
   "cell_type": "markdown",
   "id": "f9d36d35",
   "metadata": {},
   "source": [
    "# 6. Feature Standardization"
   ]
  },
  {
   "cell_type": "code",
   "execution_count": 49,
   "id": "027e7c4b",
   "metadata": {},
   "outputs": [],
   "source": [
    "from sklearn.preprocessing import StandardScaler"
   ]
  },
  {
   "cell_type": "code",
   "execution_count": 50,
   "id": "2b45d92d",
   "metadata": {},
   "outputs": [],
   "source": [
    "#scale imbalanced data\n",
    "scaler = StandardScaler()\n",
    "scaler.fit(X_train)\n",
    "X_train_scaled = scaler.transform(X_train)\n",
    "X_test_scaled = scaler.transform(X_test)"
   ]
  },
  {
   "cell_type": "code",
   "execution_count": 51,
   "id": "51ad9c0e",
   "metadata": {},
   "outputs": [],
   "source": [
    "#scale balanced data\n",
    "scaler_b=StandardScaler()\n",
    "scaler_b.fit(xb_train)\n",
    "xb_train_scaled=scaler_b.transform(xb_train)\n",
    "xb_test_scaled=scaler_b.transform(xb_test)"
   ]
  },
  {
   "cell_type": "markdown",
   "id": "aec4b917",
   "metadata": {},
   "source": [
    "# 7. Modeling"
   ]
  },
  {
   "cell_type": "code",
   "execution_count": 52,
   "id": "66c8f346",
   "metadata": {},
   "outputs": [],
   "source": [
    "from sklearn.linear_model import LogisticRegression\n",
    "from sklearn.neighbors import KNeighborsClassifier\n",
    "from sklearn.metrics import accuracy_score\n",
    "from sklearn.metrics import confusion_matrix\n",
    "from sklearn.metrics import classification_report\n",
    "from sklearn.metrics import log_loss\n",
    "from sklearn.ensemble import RandomForestClassifier\n",
    "from sklearn.metrics import roc_auc_score\n",
    "from sklearn import svm"
   ]
  },
  {
   "cell_type": "markdown",
   "id": "851d38dd",
   "metadata": {},
   "source": [
    "Logistic Regression"
   ]
  },
  {
   "cell_type": "code",
   "execution_count": 53,
   "id": "044cc7ad",
   "metadata": {},
   "outputs": [],
   "source": [
    "lr = LogisticRegression(random_state=42)\n",
    "lr.fit(X_train_scaled, y_train)\n",
    "y_pred_lr = lr.predict(X_test_scaled)"
   ]
  },
  {
   "cell_type": "code",
   "execution_count": 54,
   "id": "63262b05",
   "metadata": {},
   "outputs": [
    {
     "name": "stdout",
     "output_type": "stream",
     "text": [
      "\n",
      "Confusion Matrix for Logistic Regression Model with imbalanced dataset:\n",
      "\n",
      " [[19977     1]\n",
      " [   20     2]]\n",
      "\n",
      "Classification Report for Logistic Regression Model with imbalanced dataset:\n",
      "\n",
      "               precision    recall  f1-score   support\n",
      "\n",
      "           0       1.00      1.00      1.00     19978\n",
      "           1       0.67      0.09      0.16        22\n",
      "\n",
      "    accuracy                           1.00     20000\n",
      "   macro avg       0.83      0.55      0.58     20000\n",
      "weighted avg       1.00      1.00      1.00     20000\n",
      "\n"
     ]
    }
   ],
   "source": [
    "print(\"\\nConfusion Matrix for Logistic Regression Model with imbalanced dataset:\\n\\n\", confusion_matrix(y_test, y_pred_lr))\n",
    "print(\"\\nClassification Report for Logistic Regression Model with imbalanced dataset:\\n\\n\", classification_report(y_test, y_pred_lr))"
   ]
  },
  {
   "cell_type": "code",
   "execution_count": 55,
   "id": "f221b4d3",
   "metadata": {},
   "outputs": [],
   "source": [
    "lr_b = LogisticRegression(random_state=42)\n",
    "lr_b.fit(xb_train_scaled, yb_train)\n",
    "y_pred_lr_b = lr_b.predict(xb_test_scaled)"
   ]
  },
  {
   "cell_type": "code",
   "execution_count": 56,
   "id": "9436ea7b",
   "metadata": {},
   "outputs": [
    {
     "name": "stdout",
     "output_type": "stream",
     "text": [
      "\n",
      "Confusion Matrix for Logistic Regression Model with balanced dataset:\n",
      "\n",
      " [[19338   628]\n",
      " [  739 19249]]\n",
      "\n",
      "Classification Report for Logistic Regression Model with balanced dataset:\n",
      "\n",
      "               precision    recall  f1-score   support\n",
      "\n",
      "           0       0.96      0.97      0.97     19966\n",
      "           1       0.97      0.96      0.97     19988\n",
      "\n",
      "    accuracy                           0.97     39954\n",
      "   macro avg       0.97      0.97      0.97     39954\n",
      "weighted avg       0.97      0.97      0.97     39954\n",
      "\n"
     ]
    }
   ],
   "source": [
    "print(\"\\nConfusion Matrix for Logistic Regression Model with balanced dataset:\\n\\n\", confusion_matrix(yb_test, y_pred_lr_b))\n",
    "print(\"\\nClassification Report for Logistic Regression Model with balanced dataset:\\n\\n\", classification_report(yb_test, y_pred_lr_b))"
   ]
  },
  {
   "cell_type": "markdown",
   "id": "450eecb2",
   "metadata": {},
   "source": [
    "Random Forest"
   ]
  },
  {
   "cell_type": "code",
   "execution_count": 57,
   "id": "0864af1d",
   "metadata": {},
   "outputs": [],
   "source": [
    "rf = RandomForestClassifier(random_state=42)\n",
    "rf.fit(X_train, y_train)\n",
    "y_pred_rf= rf.predict(X_test)"
   ]
  },
  {
   "cell_type": "code",
   "execution_count": 58,
   "id": "912795e6",
   "metadata": {},
   "outputs": [
    {
     "name": "stdout",
     "output_type": "stream",
     "text": [
      "\n",
      "Confusion Matrix for Random Forest Model with imbalanced dataset:\n",
      "\n",
      " [[19978     0]\n",
      " [   13     9]]\n",
      "\n",
      "Classification Report for Random Forest Model with imbalanced dataset:\n",
      "\n",
      "               precision    recall  f1-score   support\n",
      "\n",
      "           0       1.00      1.00      1.00     19978\n",
      "           1       1.00      0.41      0.58        22\n",
      "\n",
      "    accuracy                           1.00     20000\n",
      "   macro avg       1.00      0.70      0.79     20000\n",
      "weighted avg       1.00      1.00      1.00     20000\n",
      "\n"
     ]
    }
   ],
   "source": [
    "print(\"\\nConfusion Matrix for Random Forest Model with imbalanced dataset:\\n\\n\", confusion_matrix(y_test, y_pred_rf))\n",
    "print(\"\\nClassification Report for Random Forest Model with imbalanced dataset:\\n\\n\", classification_report(y_test, y_pred_rf))"
   ]
  },
  {
   "cell_type": "code",
   "execution_count": 59,
   "id": "b0ccd555",
   "metadata": {},
   "outputs": [],
   "source": [
    "rf_b = RandomForestClassifier(random_state=42, max_depth=10)\n",
    "rf_b.fit(xb_train, yb_train)\n",
    "y_pred_rf_b=rf_b.predict(xb_test)"
   ]
  },
  {
   "cell_type": "code",
   "execution_count": 60,
   "id": "8c61d566",
   "metadata": {},
   "outputs": [
    {
     "name": "stdout",
     "output_type": "stream",
     "text": [
      "\n",
      "Confusion Matrix for Random Forest Model with balanced dataset:\n",
      "\n",
      " [[19801   165]\n",
      " [   30 19958]]\n",
      "\n",
      "Classification Report for Random Forest Model with balanced dataset:\n",
      "\n",
      "               precision    recall  f1-score   support\n",
      "\n",
      "           0       1.00      0.99      1.00     19966\n",
      "           1       0.99      1.00      1.00     19988\n",
      "\n",
      "    accuracy                           1.00     39954\n",
      "   macro avg       1.00      1.00      1.00     39954\n",
      "weighted avg       1.00      1.00      1.00     39954\n",
      "\n"
     ]
    }
   ],
   "source": [
    "print(\"\\nConfusion Matrix for Random Forest Model with balanced dataset:\\n\\n\", confusion_matrix(yb_test, y_pred_rf_b))\n",
    "print(\"\\nClassification Report for Random Forest Model with balanced dataset:\\n\\n\", classification_report(yb_test, y_pred_rf_b))"
   ]
  },
  {
   "cell_type": "code",
   "execution_count": 61,
   "id": "67f3ffd2",
   "metadata": {},
   "outputs": [
    {
     "data": {
      "image/png": "[encoded data removed]",
      "text/plain": [
       "<Figure size 432x288 with 1 Axes>"
      ]
     },
     "metadata": {
      "needs_background": "light"
     },
     "output_type": "display_data"
    }
   ],
   "source": [
    "features = X.columns\n",
    "importances_b = rf_b.feature_importances_\n",
    "indices = np.argsort(importances_b)\n",
    "\n",
    "plt.title('Feature Importances')\n",
    "plt.barh(range(len(indices)), importances_b[indices], color='b', align='center')\n",
    "plt.yticks(range(len(indices)), [features[i] for i in indices])\n",
    "plt.xlabel('Relative Importance')\n",
    "plt.show()"
   ]
  },
  {
   "cell_type": "markdown",
   "id": "e8409c3a",
   "metadata": {},
   "source": [
    "K Nearest Neighbors"
   ]
  },
  {
   "cell_type": "code",
   "execution_count": 62,
   "id": "dc1527df",
   "metadata": {},
   "outputs": [
    {
     "data": {
      "text/html": [
       "<style>#sk-container-id-1 {color: black;background-color: white;}#sk-container-id-1 pre{padding: 0;}#sk-container-id-1 div.sk-toggleable {background-color: white;}#sk-container-id-1 label.sk-toggleable__label {cursor: pointer;display: block;width: 100%;margin-bottom: 0;padding: 0.3em;box-sizing: border-box;text-align: center;}#sk-container-id-1 label.sk-toggleable__label-arrow:before {content: \"▸\";float: left;margin-right: 0.25em;color: #696969;}#sk-container-id-1 label.sk-toggleable__label-arrow:hover:before {color: black;}#sk-container-id-1 div.sk-estimator:hover label.sk-toggleable__label-arrow:before {color: black;}#sk-container-id-1 div.sk-toggleable__content {max-height: 0;max-width: 0;overflow: hidden;text-align: left;background-color: #f0f8ff;}#sk-container-id-1 div.sk-toggleable__content pre {margin: 0.2em;color: black;border-radius: 0.25em;background-color: #f0f8ff;}#sk-container-id-1 input.sk-toggleable__control:checked~div.sk-toggleable__content {max-height: 200px;max-width: 100%;overflow: auto;}#sk-container-id-1 input.sk-toggleable__control:checked~label.sk-toggleable__label-arrow:before {content: \"▾\";}#sk-container-id-1 div.sk-estimator input.sk-toggleable__control:checked~label.sk-toggleable__label {background-color: #d4ebff;}#sk-container-id-1 div.sk-label input.sk-toggleable__control:checked~label.sk-toggleable__label {background-color: #d4ebff;}#sk-container-id-1 input.sk-hidden--visually {border: 0;clip: rect(1px 1px 1px 1px);clip: rect(1px, 1px, 1px, 1px);height: 1px;margin: -1px;overflow: hidden;padding: 0;position: absolute;width: 1px;}#sk-container-id-1 div.sk-estimator {font-family: monospace;background-color: #f0f8ff;border: 1px dotted black;border-radius: 0.25em;box-sizing: border-box;margin-bottom: 0.5em;}#sk-container-id-1 div.sk-estimator:hover {background-color: #d4ebff;}#sk-container-id-1 div.sk-parallel-item::after {content: \"\";width: 100%;border-bottom: 1px solid gray;flex-grow: 1;}#sk-container-id-1 div.sk-label:hover label.sk-toggleable__label {background-color: #d4ebff;}#sk-container-id-1 div.sk-serial::before {content: \"\";position: absolute;border-left: 1px solid gray;box-sizing: border-box;top: 0;bottom: 0;left: 50%;z-index: 0;}#sk-container-id-1 div.sk-serial {display: flex;flex-direction: column;align-items: center;background-color: white;padding-right: 0.2em;padding-left: 0.2em;position: relative;}#sk-container-id-1 div.sk-item {position: relative;z-index: 1;}#sk-container-id-1 div.sk-parallel {display: flex;align-items: stretch;justify-content: center;background-color: white;position: relative;}#sk-container-id-1 div.sk-item::before, #sk-container-id-1 div.sk-parallel-item::before {content: \"\";position: absolute;border-left: 1px solid gray;box-sizing: border-box;top: 0;bottom: 0;left: 50%;z-index: -1;}#sk-container-id-1 div.sk-parallel-item {display: flex;flex-direction: column;z-index: 1;position: relative;background-color: white;}#sk-container-id-1 div.sk-parallel-item:first-child::after {align-self: flex-end;width: 50%;}#sk-container-id-1 div.sk-parallel-item:last-child::after {align-self: flex-start;width: 50%;}#sk-container-id-1 div.sk-parallel-item:only-child::after {width: 0;}#sk-container-id-1 div.sk-dashed-wrapped {border: 1px dashed gray;margin: 0 0.4em 0.5em 0.4em;box-sizing: border-box;padding-bottom: 0.4em;background-color: white;}#sk-container-id-1 div.sk-label label {font-family: monospace;font-weight: bold;display: inline-block;line-height: 1.2em;}#sk-container-id-1 div.sk-label-container {text-align: center;}#sk-container-id-1 div.sk-container {/* jupyter's `normalize.less` sets `[hidden] { display: none; }` but bootstrap.min.css set `[hidden] { display: none !important; }` so we also need the `!important` here to be able to override the default hidden behavior on the sphinx rendered scikit-learn.org. See: https://github.com/scikit-learn/scikit-learn/issues/21755 */display: inline-block !important;position: relative;}#sk-container-id-1 div.sk-text-repr-fallback {display: none;}</style><div id=\"sk-container-id-1\" class=\"sk-top-container\"><div class=\"sk-text-repr-fallback\"><pre>KNeighborsClassifier(n_neighbors=3)</pre><b>In a Jupyter environment, please rerun this cell to show the HTML representation or trust the notebook. <br />On GitHub, the HTML representation is unable to render, please try loading this page with nbviewer.org.</b></div><div class=\"sk-container\" hidden><div class=\"sk-item\"><div class=\"sk-estimator sk-toggleable\"><input class=\"sk-toggleable__control sk-hidden--visually\" id=\"sk-estimator-id-1\" type=\"checkbox\" checked><label for=\"sk-estimator-id-1\" class=\"sk-toggleable__label sk-toggleable__label-arrow\">KNeighborsClassifier</label><div class=\"sk-toggleable__content\"><pre>KNeighborsClassifier(n_neighbors=3)</pre></div></div></div></div></div>"
      ],
      "text/plain": [
       "KNeighborsClassifier(n_neighbors=3)"
      ]
     },
     "execution_count": 62,
     "metadata": {},
     "output_type": "execute_result"
    }
   ],
   "source": [
    "knn=KNeighborsClassifier(3)\n",
    "knn.fit(X_train,y_train)"
   ]
  },
  {
   "cell_type": "code",
   "execution_count": 63,
   "id": "1f6b386d",
   "metadata": {},
   "outputs": [],
   "source": [
    "knn_hat=knn.predict(X_test)"
   ]
  },
  {
   "cell_type": "code",
   "execution_count": 64,
   "id": "a5fe8bf8",
   "metadata": {},
   "outputs": [
    {
     "name": "stdout",
     "output_type": "stream",
     "text": [
      "\n",
      "Confusion Matrix for KNN Model with imbalanced dataset:\n",
      "\n",
      " [[19978     0]\n",
      " [   22     0]]\n",
      "\n",
      "Classification Report for KNN Model with imbalanced dataset:\n",
      "\n",
      "               precision    recall  f1-score   support\n",
      "\n",
      "           0       1.00      1.00      1.00     19978\n",
      "           1       0.00      0.00      0.00        22\n",
      "\n",
      "    accuracy                           1.00     20000\n",
      "   macro avg       0.50      0.50      0.50     20000\n",
      "weighted avg       1.00      1.00      1.00     20000\n",
      "\n"
     ]
    }
   ],
   "source": [
    "print(\"\\nConfusion Matrix for KNN Model with imbalanced dataset:\\n\\n\", confusion_matrix(y_test.values,knn_hat))\n",
    "print(\"\\nClassification Report for KNN Model with imbalanced dataset:\\n\\n\",classification_report(y_test.values,knn_hat))"
   ]
  },
  {
   "cell_type": "code",
   "execution_count": 65,
   "id": "f89df3fd",
   "metadata": {},
   "outputs": [
    {
     "data": {
      "text/html": [
       "<style>#sk-container-id-2 {color: black;background-color: white;}#sk-container-id-2 pre{padding: 0;}#sk-container-id-2 div.sk-toggleable {background-color: white;}#sk-container-id-2 label.sk-toggleable__label {cursor: pointer;display: block;width: 100%;margin-bottom: 0;padding: 0.3em;box-sizing: border-box;text-align: center;}#sk-container-id-2 label.sk-toggleable__label-arrow:before {content: \"▸\";float: left;margin-right: 0.25em;color: #696969;}#sk-container-id-2 label.sk-toggleable__label-arrow:hover:before {color: black;}#sk-container-id-2 div.sk-estimator:hover label.sk-toggleable__label-arrow:before {color: black;}#sk-container-id-2 div.sk-toggleable__content {max-height: 0;max-width: 0;overflow: hidden;text-align: left;background-color: #f0f8ff;}#sk-container-id-2 div.sk-toggleable__content pre {margin: 0.2em;color: black;border-radius: 0.25em;background-color: #f0f8ff;}#sk-container-id-2 input.sk-toggleable__control:checked~div.sk-toggleable__content {max-height: 200px;max-width: 100%;overflow: auto;}#sk-container-id-2 input.sk-toggleable__control:checked~label.sk-toggleable__label-arrow:before {content: \"▾\";}#sk-container-id-2 div.sk-estimator input.sk-toggleable__control:checked~label.sk-toggleable__label {background-color: #d4ebff;}#sk-container-id-2 div.sk-label input.sk-toggleable__control:checked~label.sk-toggleable__label {background-color: #d4ebff;}#sk-container-id-2 input.sk-hidden--visually {border: 0;clip: rect(1px 1px 1px 1px);clip: rect(1px, 1px, 1px, 1px);height: 1px;margin: -1px;overflow: hidden;padding: 0;position: absolute;width: 1px;}#sk-container-id-2 div.sk-estimator {font-family: monospace;background-color: #f0f8ff;border: 1px dotted black;border-radius: 0.25em;box-sizing: border-box;margin-bottom: 0.5em;}#sk-container-id-2 div.sk-estimator:hover {background-color: #d4ebff;}#sk-container-id-2 div.sk-parallel-item::after {content: \"\";width: 100%;border-bottom: 1px solid gray;flex-grow: 1;}#sk-container-id-2 div.sk-label:hover label.sk-toggleable__label {background-color: #d4ebff;}#sk-container-id-2 div.sk-serial::before {content: \"\";position: absolute;border-left: 1px solid gray;box-sizing: border-box;top: 0;bottom: 0;left: 50%;z-index: 0;}#sk-container-id-2 div.sk-serial {display: flex;flex-direction: column;align-items: center;background-color: white;padding-right: 0.2em;padding-left: 0.2em;position: relative;}#sk-container-id-2 div.sk-item {position: relative;z-index: 1;}#sk-container-id-2 div.sk-parallel {display: flex;align-items: stretch;justify-content: center;background-color: white;position: relative;}#sk-container-id-2 div.sk-item::before, #sk-container-id-2 div.sk-parallel-item::before {content: \"\";position: absolute;border-left: 1px solid gray;box-sizing: border-box;top: 0;bottom: 0;left: 50%;z-index: -1;}#sk-container-id-2 div.sk-parallel-item {display: flex;flex-direction: column;z-index: 1;position: relative;background-color: white;}#sk-container-id-2 div.sk-parallel-item:first-child::after {align-self: flex-end;width: 50%;}#sk-container-id-2 div.sk-parallel-item:last-child::after {align-self: flex-start;width: 50%;}#sk-container-id-2 div.sk-parallel-item:only-child::after {width: 0;}#sk-container-id-2 div.sk-dashed-wrapped {border: 1px dashed gray;margin: 0 0.4em 0.5em 0.4em;box-sizing: border-box;padding-bottom: 0.4em;background-color: white;}#sk-container-id-2 div.sk-label label {font-family: monospace;font-weight: bold;display: inline-block;line-height: 1.2em;}#sk-container-id-2 div.sk-label-container {text-align: center;}#sk-container-id-2 div.sk-container {/* jupyter's `normalize.less` sets `[hidden] { display: none; }` but bootstrap.min.css set `[hidden] { display: none !important; }` so we also need the `!important` here to be able to override the default hidden behavior on the sphinx rendered scikit-learn.org. See: https://github.com/scikit-learn/scikit-learn/issues/21755 */display: inline-block !important;position: relative;}#sk-container-id-2 div.sk-text-repr-fallback {display: none;}</style><div id=\"sk-container-id-2\" class=\"sk-top-container\"><div class=\"sk-text-repr-fallback\"><pre>KNeighborsClassifier(n_neighbors=3)</pre><b>In a Jupyter environment, please rerun this cell to show the HTML representation or trust the notebook. <br />On GitHub, the HTML representation is unable to render, please try loading this page with nbviewer.org.</b></div><div class=\"sk-container\" hidden><div class=\"sk-item\"><div class=\"sk-estimator sk-toggleable\"><input class=\"sk-toggleable__control sk-hidden--visually\" id=\"sk-estimator-id-2\" type=\"checkbox\" checked><label for=\"sk-estimator-id-2\" class=\"sk-toggleable__label sk-toggleable__label-arrow\">KNeighborsClassifier</label><div class=\"sk-toggleable__content\"><pre>KNeighborsClassifier(n_neighbors=3)</pre></div></div></div></div></div>"
      ],
      "text/plain": [
       "KNeighborsClassifier(n_neighbors=3)"
      ]
     },
     "execution_count": 65,
     "metadata": {},
     "output_type": "execute_result"
    }
   ],
   "source": [
    "knn_b=KNeighborsClassifier(3)\n",
    "knn_b.fit(xb_train,yb_train)"
   ]
  },
  {
   "cell_type": "code",
   "execution_count": 66,
   "id": "6d9ef29c",
   "metadata": {},
   "outputs": [],
   "source": [
    "knn_b_hat=knn_b.predict(xb_test)"
   ]
  },
  {
   "cell_type": "code",
   "execution_count": 67,
   "id": "94d4315e",
   "metadata": {},
   "outputs": [
    {
     "name": "stdout",
     "output_type": "stream",
     "text": [
      "\n",
      "Confusion Matrix for KNN Model with balanced dataset:\n",
      "\n",
      " [[17422  2544]\n",
      " [  121 19867]]\n",
      "\n",
      "Classification Report for KNN Model with balanced dataset:\n",
      "\n",
      "               precision    recall  f1-score   support\n",
      "\n",
      "           0       0.99      0.87      0.93     19966\n",
      "           1       0.89      0.99      0.94     19988\n",
      "\n",
      "    accuracy                           0.93     39954\n",
      "   macro avg       0.94      0.93      0.93     39954\n",
      "weighted avg       0.94      0.93      0.93     39954\n",
      "\n"
     ]
    }
   ],
   "source": [
    "print(\"\\nConfusion Matrix for KNN Model with balanced dataset:\\n\\n\", confusion_matrix(yb_test.values,knn_b_hat))\n",
    "print(\"\\nClassification Report for KNN Model with balanced dataset:\\n\\n\",classification_report(yb_test.values,knn_b_hat))"
   ]
  },
  {
   "cell_type": "markdown",
   "id": "5a832f40",
   "metadata": {},
   "source": [
    "Naive Bayes"
   ]
  },
  {
   "cell_type": "code",
   "execution_count": 68,
   "id": "3d8c7146",
   "metadata": {},
   "outputs": [],
   "source": [
    "from sklearn.naive_bayes import GaussianNB"
   ]
  },
  {
   "cell_type": "code",
   "execution_count": 69,
   "id": "19c090d8",
   "metadata": {},
   "outputs": [],
   "source": [
    "# Define the cost matrix\n",
    "cost_matrix = np.array([[0, 1], [5, 0]])"
   ]
  },
  {
   "cell_type": "code",
   "execution_count": 70,
   "id": "7f550e64",
   "metadata": {},
   "outputs": [
    {
     "data": {
      "text/html": [
       "<style>#sk-container-id-3 {color: black;background-color: white;}#sk-container-id-3 pre{padding: 0;}#sk-container-id-3 div.sk-toggleable {background-color: white;}#sk-container-id-3 label.sk-toggleable__label {cursor: pointer;display: block;width: 100%;margin-bottom: 0;padding: 0.3em;box-sizing: border-box;text-align: center;}#sk-container-id-3 label.sk-toggleable__label-arrow:before {content: \"▸\";float: left;margin-right: 0.25em;color: #696969;}#sk-container-id-3 label.sk-toggleable__label-arrow:hover:before {color: black;}#sk-container-id-3 div.sk-estimator:hover label.sk-toggleable__label-arrow:before {color: black;}#sk-container-id-3 div.sk-toggleable__content {max-height: 0;max-width: 0;overflow: hidden;text-align: left;background-color: #f0f8ff;}#sk-container-id-3 div.sk-toggleable__content pre {margin: 0.2em;color: black;border-radius: 0.25em;background-color: #f0f8ff;}#sk-container-id-3 input.sk-toggleable__control:checked~div.sk-toggleable__content {max-height: 200px;max-width: 100%;overflow: auto;}#sk-container-id-3 input.sk-toggleable__control:checked~label.sk-toggleable__label-arrow:before {content: \"▾\";}#sk-container-id-3 div.sk-estimator input.sk-toggleable__control:checked~label.sk-toggleable__label {background-color: #d4ebff;}#sk-container-id-3 div.sk-label input.sk-toggleable__control:checked~label.sk-toggleable__label {background-color: #d4ebff;}#sk-container-id-3 input.sk-hidden--visually {border: 0;clip: rect(1px 1px 1px 1px);clip: rect(1px, 1px, 1px, 1px);height: 1px;margin: -1px;overflow: hidden;padding: 0;position: absolute;width: 1px;}#sk-container-id-3 div.sk-estimator {font-family: monospace;background-color: #f0f8ff;border: 1px dotted black;border-radius: 0.25em;box-sizing: border-box;margin-bottom: 0.5em;}#sk-container-id-3 div.sk-estimator:hover {background-color: #d4ebff;}#sk-container-id-3 div.sk-parallel-item::after {content: \"\";width: 100%;border-bottom: 1px solid gray;flex-grow: 1;}#sk-container-id-3 div.sk-label:hover label.sk-toggleable__label {background-color: #d4ebff;}#sk-container-id-3 div.sk-serial::before {content: \"\";position: absolute;border-left: 1px solid gray;box-sizing: border-box;top: 0;bottom: 0;left: 50%;z-index: 0;}#sk-container-id-3 div.sk-serial {display: flex;flex-direction: column;align-items: center;background-color: white;padding-right: 0.2em;padding-left: 0.2em;position: relative;}#sk-container-id-3 div.sk-item {position: relative;z-index: 1;}#sk-container-id-3 div.sk-parallel {display: flex;align-items: stretch;justify-content: center;background-color: white;position: relative;}#sk-container-id-3 div.sk-item::before, #sk-container-id-3 div.sk-parallel-item::before {content: \"\";position: absolute;border-left: 1px solid gray;box-sizing: border-box;top: 0;bottom: 0;left: 50%;z-index: -1;}#sk-container-id-3 div.sk-parallel-item {display: flex;flex-direction: column;z-index: 1;position: relative;background-color: white;}#sk-container-id-3 div.sk-parallel-item:first-child::after {align-self: flex-end;width: 50%;}#sk-container-id-3 div.sk-parallel-item:last-child::after {align-self: flex-start;width: 50%;}#sk-container-id-3 div.sk-parallel-item:only-child::after {width: 0;}#sk-container-id-3 div.sk-dashed-wrapped {border: 1px dashed gray;margin: 0 0.4em 0.5em 0.4em;box-sizing: border-box;padding-bottom: 0.4em;background-color: white;}#sk-container-id-3 div.sk-label label {font-family: monospace;font-weight: bold;display: inline-block;line-height: 1.2em;}#sk-container-id-3 div.sk-label-container {text-align: center;}#sk-container-id-3 div.sk-container {/* jupyter's `normalize.less` sets `[hidden] { display: none; }` but bootstrap.min.css set `[hidden] { display: none !important; }` so we also need the `!important` here to be able to override the default hidden behavior on the sphinx rendered scikit-learn.org. See: https://github.com/scikit-learn/scikit-learn/issues/21755 */display: inline-block !important;position: relative;}#sk-container-id-3 div.sk-text-repr-fallback {display: none;}</style><div id=\"sk-container-id-3\" class=\"sk-top-container\"><div class=\"sk-text-repr-fallback\"><pre>GaussianNB()</pre><b>In a Jupyter environment, please rerun this cell to show the HTML representation or trust the notebook. <br />On GitHub, the HTML representation is unable to render, please try loading this page with nbviewer.org.</b></div><div class=\"sk-container\" hidden><div class=\"sk-item\"><div class=\"sk-estimator sk-toggleable\"><input class=\"sk-toggleable__control sk-hidden--visually\" id=\"sk-estimator-id-3\" type=\"checkbox\" checked><label for=\"sk-estimator-id-3\" class=\"sk-toggleable__label sk-toggleable__label-arrow\">GaussianNB</label><div class=\"sk-toggleable__content\"><pre>GaussianNB()</pre></div></div></div></div></div>"
      ],
      "text/plain": [
       "GaussianNB()"
      ]
     },
     "execution_count": 70,
     "metadata": {},
     "output_type": "execute_result"
    }
   ],
   "source": [
    "# Train a Gaussian Naive Bayes classifier\n",
    "classifier = GaussianNB()\n",
    "classifier.fit(xb_train, yb_train)"
   ]
  },
  {
   "cell_type": "code",
   "execution_count": 71,
   "id": "b9dc93dc",
   "metadata": {},
   "outputs": [],
   "source": [
    "# Make predictions on the test data\n",
    "y_pred = classifier.predict(xb_test)"
   ]
  },
  {
   "cell_type": "code",
   "execution_count": 72,
   "id": "b40739d3",
   "metadata": {},
   "outputs": [],
   "source": [
    "# Compute the confusion matrix\n",
    "conf_mat = confusion_matrix(yb_test, y_pred)"
   ]
  },
  {
   "cell_type": "code",
   "execution_count": 73,
   "id": "e1325b76",
   "metadata": {},
   "outputs": [],
   "source": [
    "# Compute the total cost\n",
    "total_cost = np.sum(conf_mat * cost_matrix)"
   ]
  },
  {
   "cell_type": "code",
   "execution_count": 74,
   "id": "ff54207a",
   "metadata": {},
   "outputs": [
    {
     "name": "stdout",
     "output_type": "stream",
     "text": [
      "\n",
      "Confusion Matrix for naive_bayes Model with balanced dataset:\n",
      "\n",
      " [[13614  6352]\n",
      " [ 4430 15558]]\n",
      "\n",
      "Classification Report for naive_bayes Model with balanced dataset:\n",
      "\n",
      "               precision    recall  f1-score   support\n",
      "\n",
      "           0       0.75      0.68      0.72     19966\n",
      "           1       0.71      0.78      0.74     19988\n",
      "\n",
      "    accuracy                           0.73     39954\n",
      "   macro avg       0.73      0.73      0.73     39954\n",
      "weighted avg       0.73      0.73      0.73     39954\n",
      "\n",
      "Total cost: 28502\n"
     ]
    }
   ],
   "source": [
    "print(\"\\nConfusion Matrix for naive_bayes Model with balanced dataset:\\n\\n\", confusion_matrix(yb_test.values,y_pred))\n",
    "print(\"\\nClassification Report for naive_bayes Model with balanced dataset:\\n\\n\",classification_report(yb_test.values,y_pred))\n",
    "print(f\"Total cost: {total_cost}\")\n"
   ]
  },
  {
   "cell_type": "markdown",
   "id": "51f255e3",
   "metadata": {},
   "source": [
    "# 6. Cross Validation"
   ]
  },
  {
   "cell_type": "code",
   "execution_count": 75,
   "id": "b8b14aea",
   "metadata": {},
   "outputs": [],
   "source": [
    "from sklearn.model_selection import cross_val_score"
   ]
  },
  {
   "cell_type": "code",
   "execution_count": 76,
   "id": "d00881d8",
   "metadata": {},
   "outputs": [],
   "source": [
    "accuracy_lr=cross_val_score(lr,X_train,y_train,scoring='accuracy',cv=10)\n",
    "score_lr=accuracy_score(y_test,y_pred_lr)\n",
    "dif_lr=(accuracy_lr.mean()-score_lr)/score_lr"
   ]
  },
  {
   "cell_type": "code",
   "execution_count": 77,
   "id": "6c720563",
   "metadata": {},
   "outputs": [
    {
     "name": "stdout",
     "output_type": "stream",
     "text": [
      "The logistic regression model's mean accuracy score after cross validation on training dataset is 0.99885\n",
      "The evaluation accuracy score for logistic model is 0.99895\n",
      "The percentage difference between cross validation and evaluation is -0.00010010511036587316, meaning our model is not overfitting or underfitting\n"
     ]
    }
   ],
   "source": [
    "print(\"The logistic regression model's mean accuracy score after cross validation on training dataset is {}\".format(accuracy_lr.mean()))\n",
    "print(\"The evaluation accuracy score for logistic model is {}\".format(score_lr))\n",
    "print(\"The percentage difference between cross validation and evaluation is {}, meaning our model is not overfitting or underfitting\".format(dif_lr))"
   ]
  },
  {
   "cell_type": "code",
   "execution_count": 78,
   "id": "555a0e3d",
   "metadata": {},
   "outputs": [],
   "source": [
    "accuracy_rf=cross_val_score(rf,X_train,y_train,scoring='accuracy',cv=10)\n",
    "score_rf=accuracy_score(y_test,y_pred_rf)\n",
    "dif_rf=(accuracy_rf.mean()-score_rf)/score_rf"
   ]
  },
  {
   "cell_type": "code",
   "execution_count": 111,
   "id": "eb65b94f",
   "metadata": {},
   "outputs": [
    {
     "name": "stdout",
     "output_type": "stream",
     "text": [
      "The random forest model's mean accuracy score after cross validation on training dataset is 0.9992125000000002\n",
      "The evaluation accuracy score for random forest is 0.99935\n",
      "The percentage difference between cross validation and evaluation is -0.0001, meaning our model is not overfitting or underfitting\n"
     ]
    }
   ],
   "source": [
    "print(\"The random forest model's mean accuracy score after cross validation on training dataset is {}\".format(accuracy_rf.mean()))\n",
    "print(\"The evaluation accuracy score for random forest is {}\".format(score_rf))\n",
    "print(\"The percentage difference between cross validation and evaluation is {}, meaning our model is not overfitting or underfitting\".format(round(dif_rf,4)))"
   ]
  },
  {
   "cell_type": "code",
   "execution_count": 80,
   "id": "eca88266",
   "metadata": {},
   "outputs": [],
   "source": [
    "accuracy_knn=cross_val_score(knn,X_train,y_train,scoring='accuracy',cv=10)\n",
    "score_knn=accuracy_score(y_test,knn_hat)\n",
    "dif_knn=(accuracy_knn.mean()-score_knn)/score_knn"
   ]
  },
  {
   "cell_type": "code",
   "execution_count": 81,
   "id": "84806252",
   "metadata": {},
   "outputs": [
    {
     "name": "stdout",
     "output_type": "stream",
     "text": [
      "The knn model's mean accuracy score after cross validation on training dataset is 0.9988249999999999\n",
      "The evaluation accuracy score for knn is 0.9989\n",
      "The percentage difference between cross validation and evaluation is -7.508259085009338e-05, meaning our model is not overfitting or underfitting\n"
     ]
    }
   ],
   "source": [
    "print(\"The knn model's mean accuracy score after cross validation on training dataset is {}\".format(accuracy_knn.mean()))\n",
    "print(\"The evaluation accuracy score for knn is {}\".format(score_knn))\n",
    "print(\"The percentage difference between cross validation and evaluation is {}, meaning our model is not overfitting or underfitting\".format(dif_knn))"
   ]
  },
  {
   "cell_type": "code",
   "execution_count": 82,
   "id": "868ee260",
   "metadata": {},
   "outputs": [],
   "source": [
    "accuracy_nb=cross_val_score(classifier,xb_train,yb_train,scoring='accuracy',cv=10)\n",
    "score_nb=accuracy_score(yb_test,y_pred)\n",
    "dif_nb=(accuracy_nb.mean()-score_nb)/score_nb"
   ]
  },
  {
   "cell_type": "code",
   "execution_count": 83,
   "id": "b7d31f9f",
   "metadata": {},
   "outputs": [
    {
     "name": "stdout",
     "output_type": "stream",
     "text": [
      "The naive_bayes model's mean accuracy score after cross validation on training dataset is 0.7297545504602195\n",
      "The evaluation accuracy score for naive_bayes is 0.7301396606097011\n",
      "The percentage difference between cross validation and evaluation is -0.0005274472409292633, meaning our model is not overfitting or underfitting\n"
     ]
    }
   ],
   "source": [
    "print(\"The naive_bayes model's mean accuracy score after cross validation on training dataset is {}\".format(accuracy_nb.mean()))\n",
    "print(\"The evaluation accuracy score for naive_bayes is {}\".format(score_nb))\n",
    "print(\"The percentage difference between cross validation and evaluation is {}, meaning our model is not overfitting or underfitting\".format(dif_nb))"
   ]
  },
  {
   "cell_type": "code",
   "execution_count": 84,
   "id": "94b6e96f",
   "metadata": {},
   "outputs": [
    {
     "name": "stdout",
     "output_type": "stream",
     "text": [
      "Accuracy of logistic regression with Cross Validation is: 99.885\n",
      "Accuracy of random forest with Cross Validation is: 99.92125000000001\n",
      "Accuracy of knn with Cross Validation is: 99.88249999999998\n",
      "Accuracy of naive_bayes with Cross Validation is: 72.97545504602195\n"
     ]
    }
   ],
   "source": [
    "print(\"Accuracy of logistic regression with Cross Validation is:\",accuracy_lr.mean() * 100)\n",
    "print(\"Accuracy of random forest with Cross Validation is:\",accuracy_rf.mean() * 100)\n",
    "print(\"Accuracy of knn with Cross Validation is:\",accuracy_knn.mean() * 100)\n",
    "print(\"Accuracy of naive_bayes with Cross Validation is:\",accuracy_nb.mean() * 100)"
   ]
  },
  {
   "cell_type": "markdown",
   "id": "52a7d3d9",
   "metadata": {},
   "source": [
    "# 7. Selection the Best model and Explain it using success metrics"
   ]
  },
  {
   "cell_type": "markdown",
   "id": "397e7216",
   "metadata": {},
   "source": [
    "ROC AUC( i.e Area Under Curve). The metric refers to the probability that a classifier will rank a randomly chosed positive instance higher than a randomly chosen negative one. If ROC AUC is more closer to 1, then the model is better performed."
   ]
  },
  {
   "cell_type": "markdown",
   "id": "bccbadc6",
   "metadata": {},
   "source": [
    "AUC LR"
   ]
  },
  {
   "cell_type": "code",
   "execution_count": 85,
   "id": "4f8ec66e",
   "metadata": {},
   "outputs": [
    {
     "name": "stdout",
     "output_type": "stream",
     "text": [
      "The auc for balanced dataset on Logistic Regression is 0.9657871728947416\n"
     ]
    }
   ],
   "source": [
    "AUC_b_lr=roc_auc_score(yb_test.values, y_pred_lr_b)\n",
    "print(\"The auc for balanced dataset on Logistic Regression is {}\".format(AUC_b_lr))"
   ]
  },
  {
   "cell_type": "markdown",
   "id": "2493ecfc",
   "metadata": {},
   "source": [
    "AUC KNN"
   ]
  },
  {
   "cell_type": "code",
   "execution_count": 86,
   "id": "ddc9d84c",
   "metadata": {},
   "outputs": [
    {
     "data": {
      "text/plain": [
       "0.9332648797933473"
      ]
     },
     "execution_count": 86,
     "metadata": {},
     "output_type": "execute_result"
    }
   ],
   "source": [
    "AUC_b_knn=roc_auc_score(yb_test.values,knn_b_hat)\n",
    "AUC_b_knn"
   ]
  },
  {
   "cell_type": "markdown",
   "id": "83c95df9",
   "metadata": {},
   "source": [
    "AUC SVM"
   ]
  },
  {
   "cell_type": "code",
   "execution_count": 87,
   "id": "029d3996",
   "metadata": {},
   "outputs": [
    {
     "data": {
      "text/plain": [
       "0.7301130903925506"
      ]
     },
     "execution_count": 87,
     "metadata": {},
     "output_type": "execute_result"
    }
   ],
   "source": [
    "AUC_b_nb=roc_auc_score(yb_test.values,y_pred)\n",
    "AUC_b_nb"
   ]
  },
  {
   "cell_type": "markdown",
   "id": "a9a81e28",
   "metadata": {},
   "source": [
    "AUC RF"
   ]
  },
  {
   "cell_type": "code",
   "execution_count": 88,
   "id": "90d4fa82",
   "metadata": {},
   "outputs": [
    {
     "name": "stdout",
     "output_type": "stream",
     "text": [
      "The auc for balanced dataset on Random Forest is 0.9657871728947416\n"
     ]
    }
   ],
   "source": [
    "AUC_b_rf=roc_auc_score(yb_test.values, y_pred_rf_b)\n",
    "print(\"The auc for balanced dataset on Random Forest is {}\".format(AUC_b_lr))"
   ]
  },
  {
   "cell_type": "markdown",
   "id": "83056cd8",
   "metadata": {},
   "source": [
    "Log Loss function. It measures how well a function of the predicted probability and the actual label. The log loss is a logarithmic function that penalizes false positives and false negatives. Ideally, smaller the log loss value is, more perfect the model is"
   ]
  },
  {
   "cell_type": "markdown",
   "id": "6e802ba1",
   "metadata": {},
   "source": [
    "LL LR"
   ]
  },
  {
   "cell_type": "code",
   "execution_count": 89,
   "id": "d08ac2d0",
   "metadata": {},
   "outputs": [
    {
     "name": "stdout",
     "output_type": "stream",
     "text": [
      "The log_loss for balanced dataset on Logistic Regression is 1.1817342313417702\n"
     ]
    }
   ],
   "source": [
    "ll_b_lr=log_loss(yb_test.values, y_pred_lr_b)\n",
    "print(\"The log_loss for balanced dataset on Logistic Regression is {}\".format(ll_b_lr))"
   ]
  },
  {
   "cell_type": "markdown",
   "id": "24dfd2af",
   "metadata": {},
   "source": [
    "LL KNN"
   ]
  },
  {
   "cell_type": "code",
   "execution_count": 90,
   "id": "4e05e5e4",
   "metadata": {},
   "outputs": [
    {
     "data": {
      "text/plain": [
       "2.3038462549006207"
      ]
     },
     "execution_count": 90,
     "metadata": {},
     "output_type": "execute_result"
    }
   ],
   "source": [
    "ll_b_knn=log_loss(yb_test.values,knn_b_hat)\n",
    "ll_b_knn"
   ]
  },
  {
   "cell_type": "markdown",
   "id": "0007d729",
   "metadata": {},
   "source": [
    "LL RF"
   ]
  },
  {
   "cell_type": "code",
   "execution_count": 91,
   "id": "d1042cd0",
   "metadata": {},
   "outputs": [
    {
     "name": "stdout",
     "output_type": "stream",
     "text": [
      "The log_loss for balanced dataset on Logistic Regression is 0.1685736930115534\n"
     ]
    }
   ],
   "source": [
    "ll_b_rf=log_loss(yb_test.values, y_pred_rf_b)\n",
    "print(\"The log_loss for balanced dataset on Logistic Regression is {}\".format(ll_b_rf))"
   ]
  },
  {
   "cell_type": "markdown",
   "id": "e137ddc4",
   "metadata": {},
   "source": [
    "LL SVM"
   ]
  },
  {
   "cell_type": "code",
   "execution_count": 92,
   "id": "615b20e5",
   "metadata": {},
   "outputs": [
    {
     "name": "stdout",
     "output_type": "stream",
     "text": [
      "The log_loss for balanced dataset on Logistic Regression is 9.320773042318756\n"
     ]
    }
   ],
   "source": [
    "ll_b_nb=log_loss(yb_test.values,y_pred)\n",
    "print(\"The log_loss for balanced dataset on Logistic Regression is {}\".format(ll_b_nb))"
   ]
  },
  {
   "cell_type": "markdown",
   "id": "7ceed485",
   "metadata": {},
   "source": [
    "# Visualization of the metrics"
   ]
  },
  {
   "cell_type": "code",
   "execution_count": 93,
   "id": "4d4a1e1c",
   "metadata": {},
   "outputs": [],
   "source": [
    "from sklearn.metrics import precision_recall_fscore_support as score\n",
    "import numpy as np\n",
    "import matplotlib.pyplot as plt"
   ]
  },
  {
   "cell_type": "code",
   "execution_count": 94,
   "id": "d946ec67",
   "metadata": {},
   "outputs": [],
   "source": [
    "precision_lr,recall_lr,fscore_lr,support_lr=score(yb_test,y_pred_lr_b)\n",
    "precision_rf,recall_rf,fscore_rf,support_rf=score(yb_test,y_pred_rf_b)\n",
    "precision_knn,recall_knn,fscore_knn,support_knn=score(yb_test,knn_b_hat)\n",
    "precision_nb,recall_nb,fscore_nb,support_nb=score(yb_test,y_pred)"
   ]
  },
  {
   "cell_type": "code",
   "execution_count": 95,
   "id": "b245d858",
   "metadata": {},
   "outputs": [],
   "source": [
    "prec=[precision_lr.mean(),precision_rf.mean(),precision_knn.mean(),precision_nb.mean()]\n",
    "rec=[recall_lr.mean(),recall_rf.mean(),recall_knn.mean(),recall_nb.mean()]\n",
    "fsco=[fscore_lr.mean(),fscore_rf.mean(),fscore_knn.mean(),fscore_nb.mean()]\n",
    "accu=[accuracy_lr.mean(),accuracy_rf.mean(),accuracy_knn.mean(),accuracy_nb.mean()]\n",
    "auc=[AUC_b_lr,AUC_b_rf,AUC_b_knn,AUC_b_nb]\n",
    "log_loss=[ll_b_lr,ll_b_rf,ll_b_knn,ll_b_nb]"
   ]
  },
  {
   "cell_type": "code",
   "execution_count": 96,
   "id": "b1dcef9c",
   "metadata": {},
   "outputs": [
    {
     "data": {
      "image/png": "[encoded data removed]",
      "text/plain": [
       "<Figure size 864x576 with 1 Axes>"
      ]
     },
     "metadata": {
      "needs_background": "light"
     },
     "output_type": "display_data"
    }
   ],
   "source": [
    "barWidth=0.1\n",
    "fig=plt.subplots(figsize=(12,8))\n",
    "br1=np.arange(len(prec))\n",
    "br2=[x+barWidth for x in br1]\n",
    "br3=[x+barWidth for x in br2]\n",
    "br4=[x+barWidth for x in br3]\n",
    "br5=[x+barWidth for x in br4]\n",
    "#br6=[x+barWidth for x in br5]\n",
    "plt.bar(br1,prec, color='r',width=barWidth,edgecolor='grey',label='Precision Score')\n",
    "plt.bar(br2,rec,color='g',width=barWidth,edgecolor='grey',label='Recall Score')\n",
    "plt.bar(br3,fsco, color='b',width=barWidth,edgecolor='grey',label='F score Score')\n",
    "plt.bar(br4,accu, color='black',width=barWidth,edgecolor='grey',label='Accuracy by Cross Validation')\n",
    "plt.bar(br5,auc,color='orange',width=barWidth,edgecolor='grey',label='Area Under Curve Score')\n",
    "#plt.bar(br6,log_loss,color='pink',width=barWidth,edgecolor='grey',label='Log Loss Score')\n",
    "plt.xlabel('Branch',fontweight='bold',fontsize=15)\n",
    "plt.ylabel('Students passed',fontweight='bold',fontsize=15)\n",
    "plt.xticks([r+barWidth for r in range(len(prec))],['Logistic Regression','Random Forest','KNN','Naive Bayes'])\n",
    "\n",
    "plt.legend(fontsize=10,loc='center')\n",
    "plt.show()"
   ]
  },
  {
   "cell_type": "code",
   "execution_count": 97,
   "id": "d0bb6109",
   "metadata": {},
   "outputs": [
    {
     "data": {
      "image/png": "[encoded data removed]",
      "text/plain": [
       "<Figure size 864x576 with 1 Axes>"
      ]
     },
     "metadata": {
      "needs_background": "light"
     },
     "output_type": "display_data"
    }
   ],
   "source": [
    "barWidth_1=0.1\n",
    "fig=plt.subplots(figsize=(12,8))\n",
    "br6=np.arange(len(log_loss))\n",
    "\n",
    "plt.bar(br6,log_loss, color='r',width=barWidth,edgecolor='grey',label='Log Loss Score')\n",
    "\n",
    "plt.xlabel('Branch',fontweight='bold',fontsize=15)\n",
    "plt.ylabel('Students passed',fontweight='bold',fontsize=15)\n",
    "plt.xticks([r+barWidth for r in range(len(prec))],['Logistic Regression','Random Forest','KNN','Naive Bayes'])\n",
    "\n",
    "plt.legend(fontsize=15,loc='upper right')\n",
    "plt.show()"
   ]
  },
  {
   "cell_type": "code",
   "execution_count": null,
   "id": "7e294bcf",
   "metadata": {},
   "outputs": [],
   "source": []
  },
  {
   "cell_type": "code",
   "execution_count": null,
   "id": "ea5efaf3",
   "metadata": {},
   "outputs": [],
   "source": []
  }
 ],
 "metadata": {
  "kernelspec": {
   "display_name": "Python 3 (ipykernel)",
   "language": "python",
   "name": "python3"
  },
  "language_info": {
   "codemirror_mode": {
    "name": "ipython",
    "version": 3
   },
   "file_extension": ".py",
   "mimetype": "text/x-python",
   "name": "python",
   "nbconvert_exporter": "python",
   "pygments_lexer": "ipython3",
   "version": "3.9.12"
  }
 },
 "nbformat": 4,
 "nbformat_minor": 5
}
